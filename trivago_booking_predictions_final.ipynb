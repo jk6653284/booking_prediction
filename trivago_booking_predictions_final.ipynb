{
 "cells": [
  {
   "cell_type": "markdown",
   "metadata": {},
   "source": [
    "# Challenge summary"
   ]
  },
  {
   "cell_type": "markdown",
   "metadata": {},
   "source": [
    "[Challenge detail](https://trivago.zealpath.com/m/case/detail/192)\n",
    "\n",
    "* **User Profiling team**: responsible for delivering relevant and descriptive profile of users on trivago describing user intent, which can be used to drive relevance and personalization for users of trivago\n",
    "\n",
    "* **Goal**: predict whether or not a booking occured (binary prediction)\n",
    "\n",
    "* **Deliverables**:\n",
    "    * PDF document with answers to additional questions\n",
    "    * Prediction submission csv file\n",
    "    * Code for data analysis and classfication"
   ]
  },
  {
   "cell_type": "markdown",
   "metadata": {},
   "source": [
    "# 0. Setting up workplace & Dataset inspection"
   ]
  },
  {
   "cell_type": "code",
   "execution_count": 1,
   "metadata": {
    "collapsed": true
   },
   "outputs": [],
   "source": [
    "import pandas as pd\n",
    "import numpy as np\n",
    "import matplotlib.pyplot as plt\n",
    "import seaborn as sns\n",
    "%matplotlib inline\n",
    "pd.set_option(\"max_columns\", None)"
   ]
  },
  {
   "cell_type": "code",
   "execution_count": 2,
   "metadata": {
    "collapsed": true
   },
   "outputs": [],
   "source": [
    "path = \"trivago_dataset_actions_bookings/case_study_\"\n",
    "actions_train = pd.read_csv(path+\"actions_train.csv\", sep = \"\\t\")\n",
    "actions_target = pd.read_csv(path+\"actions_target.csv\", sep = \"\\t\")\n",
    "bookings_train = pd.read_csv(path+\"bookings_train.csv\", sep = \"\\t\")\n",
    "bookings_target = pd.read_csv(path+\"bookings_target.csv\", sep = \"\\t\")"
   ]
  },
  {
   "cell_type": "code",
   "execution_count": 3,
   "metadata": {},
   "outputs": [
    {
     "name": "stdout",
     "output_type": "stream",
     "text": [
      "Shape of actions training set: (5862863, 6)\n",
      "Shape of actions test set: (575152, 6)\n"
     ]
    }
   ],
   "source": [
    "print(\"Shape of actions training set:\",actions_train.shape)\n",
    "print(\"Shape of actions test set:\",actions_target.shape)"
   ]
  },
  {
   "cell_type": "code",
   "execution_count": 4,
   "metadata": {},
   "outputs": [
    {
     "name": "stdout",
     "output_type": "stream",
     "text": [
      "Shape of bookings training set: (307677, 8)\n",
      "Shape of bookings test set: (30128, 7)\n"
     ]
    }
   ],
   "source": [
    "print(\"Shape of bookings training set:\",bookings_train.shape)\n",
    "print(\"Shape of bookings test set:\",bookings_target.shape)"
   ]
  },
  {
   "cell_type": "markdown",
   "metadata": {},
   "source": [
    "# Data Cleaning"
   ]
  },
  {
   "cell_type": "code",
   "execution_count": 5,
   "metadata": {
    "collapsed": true
   },
   "outputs": [],
   "source": [
    "# Changing date values to datetime objects\n",
    "def change_to_datetime(dt_series):\n",
    "    return pd.to_datetime(dt_series, format = \"%Y%m%d\")\n",
    "\n",
    "bookings_train.ymd = change_to_datetime(bookings_train.ymd)\n",
    "actions_train.ymd = change_to_datetime(actions_train.ymd)\n",
    "bookings_target.ymd = change_to_datetime(bookings_target.ymd)\n",
    "actions_target.ymd = change_to_datetime(actions_target.ymd)"
   ]
  },
  {
   "cell_type": "markdown",
   "metadata": {},
   "source": [
    "# EDA"
   ]
  },
  {
   "cell_type": "code",
   "execution_count": 6,
   "metadata": {},
   "outputs": [
    {
     "name": "stderr",
     "output_type": "stream",
     "text": [
      "/Users/jk6653284/anaconda/lib/python3.6/site-packages/seaborn/categorical.py:1428: FutureWarning: remove_na is deprecated and is a private function. Do not use.\n",
      "  stat_data = remove_na(group_data)\n"
     ]
    },
    {
     "data": {
      "image/png": "[encoded data removed]",
      "text/plain": [
       "<matplotlib.figure.Figure at 0x10ad8ada0>"
      ]
     },
     "metadata": {},
     "output_type": "display_data"
    }
   ],
   "source": [
    "# Target: has_booking distribution\n",
    "sns.countplot(bookings_train.has_booking)\n",
    "plt.show()"
   ]
  },
  {
   "cell_type": "markdown",
   "metadata": {},
   "source": [
    "The class is highly imbalanced. Class imbalance would need to be considered when making predictions, as disregarding this will give too much weight to class 0(no booking). One method can be using stratified method at the cross validation stage. Others can be explored as we go."
   ]
  },
  {
   "cell_type": "code",
   "execution_count": 7,
   "metadata": {},
   "outputs": [
    {
     "name": "stdout",
     "output_type": "stream",
     "text": [
      "There are 181860 unique users in the bookings train dataset.\n",
      "There are 181730 unique users in the actions train dataset.\n",
      "\n",
      "There are 23402 unique users in the bookings target dataset.\n",
      "There are 23314 unique users in the actions target dataset.\n"
     ]
    }
   ],
   "source": [
    "# number of unique users in the dataset\n",
    "print(\"There are {} unique users in the bookings train dataset.\".format(len(set(bookings_train.user_id))))\n",
    "print(\"There are {} unique users in the actions train dataset.\".format(len(set(actions_train.user_id))))\n",
    "\n",
    "print(\"\\nThere are {} unique users in the bookings target dataset.\".format(len(set(bookings_target.user_id))))\n",
    "print(\"There are {} unique users in the actions target dataset.\".format(len(set(actions_target.user_id))))"
   ]
  },
  {
   "cell_type": "markdown",
   "metadata": {},
   "source": [
    "We see that the bookings and actions dataset don't contain the same number of unique users. Since these are two different datasets, we might need to discard any users that don't have information in either of the dataset."
   ]
  },
  {
   "cell_type": "code",
   "execution_count": 8,
   "metadata": {},
   "outputs": [
    {
     "name": "stdout",
     "output_type": "stream",
     "text": [
      "users in bookings, but not in actions training dataset: 130\n",
      "users in actions, but not in bookings training dataset: 0\n",
      "users in bookings, but not in actions target dataset: 88\n",
      "users in actions, but not in bookings target dataset: 0\n"
     ]
    }
   ],
   "source": [
    "unique_btrain = set(bookings_train.user_id)\n",
    "unique_atrain = set(actions_train.user_id)\n",
    "unique_btarget = set(bookings_target.user_id)\n",
    "unique_atarget = set(actions_target.user_id)\n",
    "\n",
    "not_in_atrain = [i for i in unique_btrain if i not in unique_atrain]\n",
    "not_in_btrain = [i for i in unique_atrain if i not in unique_btrain]\n",
    "not_in_atarget = [i for i in unique_btarget if i not in unique_atarget]\n",
    "not_in_btarget = [i for i in unique_atarget if i not in unique_btarget]\n",
    "\n",
    "print('users in bookings, but not in actions training dataset:',len(not_in_atrain))\n",
    "print('users in actions, but not in bookings training dataset:',len(not_in_btrain))\n",
    "print('users in bookings, but not in actions target dataset:',len(not_in_atarget))\n",
    "print('users in actions, but not in bookings target dataset:',len(not_in_btarget))"
   ]
  },
  {
   "cell_type": "markdown",
   "metadata": {},
   "source": [
    "There are some users in the bookings for both target and training dataset that do not exist in the actions dataset. It would be interesting to see what are the characteristics of these users, though they most probably won't be able to be used in training the prediction model, as many predictor variables will be NaN."
   ]
  },
  {
   "cell_type": "code",
   "execution_count": 9,
   "metadata": {
    "scrolled": true
   },
   "outputs": [
    {
     "name": "stdout",
     "output_type": "stream",
     "text": [
      "bookings_train:\n",
      " count                  307677\n",
      "unique                     27\n",
      "top       2017-04-03 00:00:00\n",
      "freq                    13214\n",
      "first     2017-04-01 00:00:00\n",
      "last      2017-04-27 00:00:00\n",
      "Name: ymd, dtype: object\n",
      "\n",
      "bookings_target:\n",
      " count                   30128\n",
      "unique                      3\n",
      "top       2017-04-30 00:00:00\n",
      "freq                    10690\n",
      "first     2017-04-28 00:00:00\n",
      "last      2017-04-30 00:00:00\n",
      "Name: ymd, dtype: object\n",
      "\u0007ctions_train:\n",
      " count                 5862863\n",
      "unique                     27\n",
      "top       2017-04-03 00:00:00\n",
      "freq                   251892\n",
      "first     2017-04-01 00:00:00\n",
      "last      2017-04-27 00:00:00\n",
      "Name: ymd, dtype: object\n",
      "\u0007ctions_target:\n",
      " count                  575152\n",
      "unique                      3\n",
      "top       2017-04-30 00:00:00\n",
      "freq                   201916\n",
      "first     2017-04-28 00:00:00\n",
      "last      2017-04-30 00:00:00\n",
      "Name: ymd, dtype: object\n"
     ]
    }
   ],
   "source": [
    "# range of dates\n",
    "print(\"bookings_train:\\n\",bookings_train.ymd.describe())\n",
    "print(\"\\nbookings_target:\\n\",bookings_target.ymd.describe())\n",
    "print(\"\\actions_train:\\n\",actions_train.ymd.describe())\n",
    "print(\"\\actions_target:\\n\",actions_target.ymd.describe())"
   ]
  },
  {
   "cell_type": "markdown",
   "metadata": {},
   "source": [
    "The whole dataset contains one month data information for April, where the training set includes date up until the 27th, and the test set includes date until the 30th."
   ]
  },
  {
   "cell_type": "code",
   "execution_count": 10,
   "metadata": {},
   "outputs": [
    {
     "data": {
      "image/png": "[encoded data removed]",
      "text/plain": [
       "<matplotlib.figure.Figure at 0x10976cc18>"
      ]
     },
     "metadata": {},
     "output_type": "display_data"
    },
    {
     "name": "stdout",
     "output_type": "stream",
     "text": [
      "count    181860.000000\n",
      "mean          1.691834\n",
      "std           1.880178\n",
      "min           1.000000\n",
      "25%           1.000000\n",
      "50%           1.000000\n",
      "75%           2.000000\n",
      "max          85.000000\n",
      "Name: session_id, dtype: float64\n"
     ]
    }
   ],
   "source": [
    "# how many sessions do people usually go through?\n",
    "bookings_train.groupby(\"user_id\").session_id.count().plot.hist(ec = 'white', bins = 20)\n",
    "plt.show()\n",
    "print(bookings_train.groupby(\"user_id\").session_id.count().describe())"
   ]
  },
  {
   "cell_type": "code",
   "execution_count": 11,
   "metadata": {},
   "outputs": [
    {
     "data": {
      "image/png": "[encoded data removed]",
      "text/plain": [
       "<matplotlib.figure.Figure at 0x1a22ec16d8>"
      ]
     },
     "metadata": {},
     "output_type": "display_data"
    },
    {
     "data": {
      "image/png": "[encoded data removed]",
      "text/plain": [
       "<matplotlib.figure.Figure at 0x1a31710ba8>"
      ]
     },
     "metadata": {},
     "output_type": "display_data"
    },
    {
     "name": "stdout",
     "output_type": "stream",
     "text": [
      "distribution number of sessions by user_id for those who booked:\n",
      "count    18793.000000\n",
      "mean         1.045442\n",
      "std          0.316900\n",
      "min          1.000000\n",
      "25%          1.000000\n",
      "50%          1.000000\n",
      "75%          1.000000\n",
      "max         22.000000\n",
      "Name: session_id, dtype: float64\n",
      "\n",
      "distribution number of sessions by user_id for those who didn't book:\n",
      "count    173730.000000\n",
      "mean          1.657917\n",
      "std           1.833621\n",
      "min           1.000000\n",
      "25%           1.000000\n",
      "50%           1.000000\n",
      "75%           2.000000\n",
      "max          85.000000\n",
      "Name: session_id, dtype: float64\n"
     ]
    }
   ],
   "source": [
    "# is there a huge difference in that number for those who booked and those who did not?\n",
    "bookings_train[bookings_train.has_booking == 1].groupby(\"user_id\").session_id.count().apply(lambda x: np.log(x)).plot.hist(ec = 'white', bins = 20, color = 'blue')\n",
    "plt.title(\"distribution number of sessions by user_id for those who booked\")\n",
    "plt.show()\n",
    "bookings_train[bookings_train.has_booking == 0].groupby(\"user_id\").session_id.count().apply(lambda x: np.log(x)).plot.hist(ec = 'white', bins = 20, color = 'red')\n",
    "plt.title(\"distribution number of sessions by user_id for those who didn't book\")\n",
    "plt.show()\n",
    "\n",
    "print(\"distribution number of sessions by user_id for those who booked:\")\n",
    "print(bookings_train[bookings_train.has_booking == 1].groupby(\"user_id\").session_id.count().describe())\n",
    "print(\"\\ndistribution number of sessions by user_id for those who didn't book:\")\n",
    "print(bookings_train[bookings_train.has_booking == 0].groupby(\"user_id\").session_id.count().describe())"
   ]
  },
  {
   "cell_type": "code",
   "execution_count": 13,
   "metadata": {},
   "outputs": [
    {
     "data": {
      "text/plain": [
       "is_app  traffic_type\n",
       "0       2               89600\n",
       "        1               88212\n",
       "        6               60570\n",
       "        4               25675\n",
       "        3               19675\n",
       "        10                706\n",
       "        7                 603\n",
       "1       1               22636\n",
       "Name: traffic_type, dtype: int64"
      ]
     },
     "execution_count": 13,
     "metadata": {},
     "output_type": "execute_result"
    }
   ],
   "source": [
    "# traffic type by app or not\n",
    "bookings_train.groupby(\"is_app\")[\"traffic_type\"].value_counts()"
   ]
  },
  {
   "cell_type": "markdown",
   "metadata": {},
   "source": [
    "Since 'is_app' variable with value 1 has only 1 traffic type (1), I think it's safe to assume that this is the 'direct' access traffic."
   ]
  },
  {
   "cell_type": "code",
   "execution_count": 15,
   "metadata": {},
   "outputs": [
    {
     "data": {
      "image/png": "[encoded data removed]",
      "text/plain": [
       "<matplotlib.figure.Figure at 0x1a22bda860>"
      ]
     },
     "metadata": {},
     "output_type": "display_data"
    },
    {
     "name": "stdout",
     "output_type": "stream",
     "text": [
      "count    18702.000000\n",
      "mean        95.364613\n",
      "std        221.230447\n",
      "min          1.000000\n",
      "25%         19.000000\n",
      "50%         40.000000\n",
      "75%         90.750000\n",
      "max       7560.000000\n",
      "Name: step, dtype: float64\n"
     ]
    },
    {
     "data": {
      "image/png": "[encoded data removed]",
      "text/plain": [
       "<matplotlib.figure.Figure at 0x1a207b5978>"
      ]
     },
     "metadata": {},
     "output_type": "display_data"
    },
    {
     "name": "stdout",
     "output_type": "stream",
     "text": [
      "count    173686.000000\n",
      "mean         32.020779\n",
      "std         100.029040\n",
      "min           1.000000\n",
      "25%           4.000000\n",
      "50%          11.000000\n",
      "75%          28.000000\n",
      "max        7560.000000\n",
      "Name: step, dtype: float64\n"
     ]
    }
   ],
   "source": [
    "# number of steps distribution\n",
    "actions_train[actions_train.user_id.isin(np.unique(bookings_train.loc[bookings_train[\"has_booking\"] == 1, 'user_id']))].groupby(\"user_id\")['step'].count().apply(lambda x: np.log(x)).hist(ec = 'white', bins = 20,\n",
    "                                                                                                                                  color = 'blue')\n",
    "plt.title(\"distribution of number of steps for users who booked\")\n",
    "plt.show()\n",
    "print(actions_train[actions_train.user_id.isin(np.unique(bookings_train.loc[bookings_train[\"has_booking\"] == 1, 'user_id']))].groupby(\"user_id\")['step'].count().describe())\n",
    "\n",
    "actions_train[actions_train.user_id.isin(np.unique(bookings_train.loc[bookings_train[\"has_booking\"] == 0, 'user_id']))].groupby(\"user_id\")['step'].count().apply(lambda x: np.log(x)).hist(ec = 'white', bins = 20,\n",
    "                                                                                                                                   color = 'red')\n",
    "plt.title(\"distribution of number of steps for users who did not book\")\n",
    "plt.show()\n",
    "print(actions_train[actions_train.user_id.isin(np.unique(bookings_train.loc[bookings_train[\"has_booking\"] == 0, 'user_id']))].groupby(\"user_id\")['step'].count().describe())"
   ]
  },
  {
   "cell_type": "code",
   "execution_count": 19,
   "metadata": {},
   "outputs": [
    {
     "data": {
      "image/png": "[encoded data removed]",
      "text/plain": [
       "<matplotlib.figure.Figure at 0x1a1577ae48>"
      ]
     },
     "metadata": {},
     "output_type": "display_data"
    },
    {
     "data": {
      "image/png": "[encoded data removed]",
      "text/plain": [
       "<matplotlib.figure.Figure at 0x1a2268ca20>"
      ]
     },
     "metadata": {},
     "output_type": "display_data"
    }
   ],
   "source": [
    "bookings_train.groupby(\"user_id\")['has_booking'].mean()[bookings_train.groupby(\"user_id\")['has_booking'].mean() > 0.0].plot.hist(bins = 20)\n",
    "plt.title(\"Average number of bookings for users who did book\")\n",
    "plt.show()\n",
    "\n",
    "bookings_train.groupby(\"user_id\")['has_booking'].sum()[bookings_train.groupby(\"user_id\")['has_booking'].sum() > 0.0].apply(lambda x : np.log(x)).plot.hist(bins = np.max(bookings_train.groupby(\"user_id\")['has_booking'].sum()))\n",
    "plt.title(\"(log) Sum of bookings of users who did book\")\n",
    "plt.show()\n"
   ]
  },
  {
   "cell_type": "code",
   "execution_count": 55,
   "metadata": {
    "scrolled": true
   },
   "outputs": [
    {
     "name": "stdout",
     "output_type": "stream",
     "text": [
      "Top 10 action id in training set:\n",
      "\n",
      "2142    1150642\n",
      "2113     689437\n",
      "8001     343534\n",
      "2116     278855\n",
      "6999     253549\n",
      "2111     180022\n",
      "2371     156456\n",
      "2119     145060\n",
      "2358     138146\n",
      "2503     135171\n",
      "Name: action_id, dtype: int64\n",
      "\n",
      "Top 10 action id in test set:\n",
      "\n",
      "2142    114308\n",
      "2113     64011\n",
      "8001     31541\n",
      "2116     29305\n",
      "6999     24694\n",
      "2111     17011\n",
      "2119     13645\n",
      "2371     13333\n",
      "2503     13290\n",
      "2358     12650\n",
      "Name: action_id, dtype: int64\n"
     ]
    }
   ],
   "source": [
    "# action ids\n",
    "# action_id 2142 has more than twice as many records as the next most common action_id for both train and target dataset\n",
    "\n",
    "print(\"Top 10 action id in training set:\\n\")\n",
    "print(actions_train.action_id.value_counts()[:10])\n",
    "print(\"\\nTop 10 action id in test set:\\n\")\n",
    "print(actions_target.action_id.value_counts()[:10])"
   ]
  },
  {
   "cell_type": "code",
   "execution_count": 58,
   "metadata": {
    "scrolled": true
   },
   "outputs": [
    {
     "data": {
      "text/html": [
       "<div>\n",
       "<style scoped>\n",
       "    .dataframe tbody tr th:only-of-type {\n",
       "        vertical-align: middle;\n",
       "    }\n",
       "\n",
       "    .dataframe tbody tr th {\n",
       "        vertical-align: top;\n",
       "    }\n",
       "\n",
       "    .dataframe thead th {\n",
       "        text-align: right;\n",
       "    }\n",
       "</style>\n",
       "<table border=\"1\" class=\"dataframe\">\n",
       "  <thead>\n",
       "    <tr style=\"text-align: right;\">\n",
       "      <th></th>\n",
       "      <th>ymd</th>\n",
       "      <th>user_id</th>\n",
       "      <th>session_id</th>\n",
       "      <th>action_id</th>\n",
       "      <th>reference</th>\n",
       "      <th>step</th>\n",
       "      <th>dayofweek</th>\n",
       "      <th>weekend</th>\n",
       "      <th>unique_reference</th>\n",
       "      <th>reference_length</th>\n",
       "    </tr>\n",
       "  </thead>\n",
       "  <tbody>\n",
       "    <tr>\n",
       "      <th>76</th>\n",
       "      <td>2017-04-19</td>\n",
       "      <td>1607565913119260</td>\n",
       "      <td>5462519157199531712</td>\n",
       "      <td>2142</td>\n",
       "      <td>359221</td>\n",
       "      <td>24</td>\n",
       "      <td>2</td>\n",
       "      <td>0</td>\n",
       "      <td>0</td>\n",
       "      <td>6</td>\n",
       "    </tr>\n",
       "    <tr>\n",
       "      <th>78</th>\n",
       "      <td>2017-04-19</td>\n",
       "      <td>1607565913119260</td>\n",
       "      <td>5462519157199531712</td>\n",
       "      <td>2142</td>\n",
       "      <td>359221</td>\n",
       "      <td>26</td>\n",
       "      <td>2</td>\n",
       "      <td>0</td>\n",
       "      <td>0</td>\n",
       "      <td>6</td>\n",
       "    </tr>\n",
       "    <tr>\n",
       "      <th>79</th>\n",
       "      <td>2017-04-19</td>\n",
       "      <td>1607565913119260</td>\n",
       "      <td>5462519157199531712</td>\n",
       "      <td>2142</td>\n",
       "      <td>359221</td>\n",
       "      <td>27</td>\n",
       "      <td>2</td>\n",
       "      <td>0</td>\n",
       "      <td>0</td>\n",
       "      <td>6</td>\n",
       "    </tr>\n",
       "    <tr>\n",
       "      <th>80</th>\n",
       "      <td>2017-04-19</td>\n",
       "      <td>1607565913119260</td>\n",
       "      <td>5462519157199531712</td>\n",
       "      <td>2142</td>\n",
       "      <td>359221</td>\n",
       "      <td>28</td>\n",
       "      <td>2</td>\n",
       "      <td>0</td>\n",
       "      <td>0</td>\n",
       "      <td>6</td>\n",
       "    </tr>\n",
       "    <tr>\n",
       "      <th>81</th>\n",
       "      <td>2017-04-19</td>\n",
       "      <td>1607565913119260</td>\n",
       "      <td>5462519157199531712</td>\n",
       "      <td>2142</td>\n",
       "      <td>359221</td>\n",
       "      <td>29</td>\n",
       "      <td>2</td>\n",
       "      <td>0</td>\n",
       "      <td>0</td>\n",
       "      <td>6</td>\n",
       "    </tr>\n",
       "    <tr>\n",
       "      <th>82</th>\n",
       "      <td>2017-04-19</td>\n",
       "      <td>1607565913119260</td>\n",
       "      <td>5462519157199531712</td>\n",
       "      <td>2142</td>\n",
       "      <td>944775</td>\n",
       "      <td>30</td>\n",
       "      <td>2</td>\n",
       "      <td>0</td>\n",
       "      <td>0</td>\n",
       "      <td>6</td>\n",
       "    </tr>\n",
       "    <tr>\n",
       "      <th>144</th>\n",
       "      <td>2017-04-16</td>\n",
       "      <td>2413031573758500</td>\n",
       "      <td>6317573206950631304</td>\n",
       "      <td>2142</td>\n",
       "      <td>1483495</td>\n",
       "      <td>32</td>\n",
       "      <td>6</td>\n",
       "      <td>1</td>\n",
       "      <td>0</td>\n",
       "      <td>7</td>\n",
       "    </tr>\n",
       "    <tr>\n",
       "      <th>145</th>\n",
       "      <td>2017-04-16</td>\n",
       "      <td>2413031573758500</td>\n",
       "      <td>6317573206950631304</td>\n",
       "      <td>2142</td>\n",
       "      <td>1483495</td>\n",
       "      <td>33</td>\n",
       "      <td>6</td>\n",
       "      <td>1</td>\n",
       "      <td>0</td>\n",
       "      <td>7</td>\n",
       "    </tr>\n",
       "    <tr>\n",
       "      <th>146</th>\n",
       "      <td>2017-04-16</td>\n",
       "      <td>2413031573758500</td>\n",
       "      <td>6317573206950631304</td>\n",
       "      <td>2142</td>\n",
       "      <td>1483495</td>\n",
       "      <td>34</td>\n",
       "      <td>6</td>\n",
       "      <td>1</td>\n",
       "      <td>0</td>\n",
       "      <td>7</td>\n",
       "    </tr>\n",
       "    <tr>\n",
       "      <th>147</th>\n",
       "      <td>2017-04-16</td>\n",
       "      <td>2413031573758500</td>\n",
       "      <td>6317573206950631304</td>\n",
       "      <td>2142</td>\n",
       "      <td>1483495</td>\n",
       "      <td>35</td>\n",
       "      <td>6</td>\n",
       "      <td>1</td>\n",
       "      <td>0</td>\n",
       "      <td>7</td>\n",
       "    </tr>\n",
       "    <tr>\n",
       "      <th>148</th>\n",
       "      <td>2017-04-16</td>\n",
       "      <td>2413031573758500</td>\n",
       "      <td>6317573206950631304</td>\n",
       "      <td>2142</td>\n",
       "      <td>1483495</td>\n",
       "      <td>36</td>\n",
       "      <td>6</td>\n",
       "      <td>1</td>\n",
       "      <td>0</td>\n",
       "      <td>7</td>\n",
       "    </tr>\n",
       "    <tr>\n",
       "      <th>149</th>\n",
       "      <td>2017-04-16</td>\n",
       "      <td>2413031573758500</td>\n",
       "      <td>6317573206950631304</td>\n",
       "      <td>2142</td>\n",
       "      <td>1483495</td>\n",
       "      <td>37</td>\n",
       "      <td>6</td>\n",
       "      <td>1</td>\n",
       "      <td>0</td>\n",
       "      <td>7</td>\n",
       "    </tr>\n",
       "    <tr>\n",
       "      <th>150</th>\n",
       "      <td>2017-04-16</td>\n",
       "      <td>2413031573758500</td>\n",
       "      <td>6317573206950631304</td>\n",
       "      <td>2142</td>\n",
       "      <td>1483495</td>\n",
       "      <td>38</td>\n",
       "      <td>6</td>\n",
       "      <td>1</td>\n",
       "      <td>0</td>\n",
       "      <td>7</td>\n",
       "    </tr>\n",
       "    <tr>\n",
       "      <th>151</th>\n",
       "      <td>2017-04-16</td>\n",
       "      <td>2413031573758500</td>\n",
       "      <td>6317573206950631304</td>\n",
       "      <td>2142</td>\n",
       "      <td>1483495</td>\n",
       "      <td>39</td>\n",
       "      <td>6</td>\n",
       "      <td>1</td>\n",
       "      <td>0</td>\n",
       "      <td>7</td>\n",
       "    </tr>\n",
       "    <tr>\n",
       "      <th>152</th>\n",
       "      <td>2017-04-16</td>\n",
       "      <td>2413031573758500</td>\n",
       "      <td>6317573206950631304</td>\n",
       "      <td>2142</td>\n",
       "      <td>1483495</td>\n",
       "      <td>40</td>\n",
       "      <td>6</td>\n",
       "      <td>1</td>\n",
       "      <td>0</td>\n",
       "      <td>7</td>\n",
       "    </tr>\n",
       "    <tr>\n",
       "      <th>153</th>\n",
       "      <td>2017-04-16</td>\n",
       "      <td>2413031573758500</td>\n",
       "      <td>6317573206950631304</td>\n",
       "      <td>2142</td>\n",
       "      <td>1483495</td>\n",
       "      <td>41</td>\n",
       "      <td>6</td>\n",
       "      <td>1</td>\n",
       "      <td>0</td>\n",
       "      <td>7</td>\n",
       "    </tr>\n",
       "    <tr>\n",
       "      <th>196</th>\n",
       "      <td>2017-04-16</td>\n",
       "      <td>3031117612602800</td>\n",
       "      <td>5103913992173632888</td>\n",
       "      <td>2142</td>\n",
       "      <td>48021</td>\n",
       "      <td>24</td>\n",
       "      <td>6</td>\n",
       "      <td>1</td>\n",
       "      <td>0</td>\n",
       "      <td>5</td>\n",
       "    </tr>\n",
       "    <tr>\n",
       "      <th>206</th>\n",
       "      <td>2017-04-04</td>\n",
       "      <td>3072294573347400</td>\n",
       "      <td>8850726179744623540</td>\n",
       "      <td>2142</td>\n",
       "      <td>126698</td>\n",
       "      <td>5</td>\n",
       "      <td>1</td>\n",
       "      <td>0</td>\n",
       "      <td>0</td>\n",
       "      <td>6</td>\n",
       "    </tr>\n",
       "    <tr>\n",
       "      <th>207</th>\n",
       "      <td>2017-04-04</td>\n",
       "      <td>3072294573347400</td>\n",
       "      <td>8850726179744623540</td>\n",
       "      <td>2142</td>\n",
       "      <td>126698</td>\n",
       "      <td>6</td>\n",
       "      <td>1</td>\n",
       "      <td>0</td>\n",
       "      <td>0</td>\n",
       "      <td>6</td>\n",
       "    </tr>\n",
       "    <tr>\n",
       "      <th>208</th>\n",
       "      <td>2017-04-04</td>\n",
       "      <td>3072294573347400</td>\n",
       "      <td>8850726179744623540</td>\n",
       "      <td>2142</td>\n",
       "      <td>126698</td>\n",
       "      <td>7</td>\n",
       "      <td>1</td>\n",
       "      <td>0</td>\n",
       "      <td>0</td>\n",
       "      <td>6</td>\n",
       "    </tr>\n",
       "    <tr>\n",
       "      <th>209</th>\n",
       "      <td>2017-04-04</td>\n",
       "      <td>3072294573347400</td>\n",
       "      <td>8850726179744623540</td>\n",
       "      <td>2142</td>\n",
       "      <td>126698</td>\n",
       "      <td>8</td>\n",
       "      <td>1</td>\n",
       "      <td>0</td>\n",
       "      <td>0</td>\n",
       "      <td>6</td>\n",
       "    </tr>\n",
       "    <tr>\n",
       "      <th>210</th>\n",
       "      <td>2017-04-04</td>\n",
       "      <td>3072294573347400</td>\n",
       "      <td>8850726179744623540</td>\n",
       "      <td>2142</td>\n",
       "      <td>126698</td>\n",
       "      <td>9</td>\n",
       "      <td>1</td>\n",
       "      <td>0</td>\n",
       "      <td>0</td>\n",
       "      <td>6</td>\n",
       "    </tr>\n",
       "    <tr>\n",
       "      <th>211</th>\n",
       "      <td>2017-04-04</td>\n",
       "      <td>3072294573347400</td>\n",
       "      <td>8850726179744623540</td>\n",
       "      <td>2142</td>\n",
       "      <td>126698</td>\n",
       "      <td>10</td>\n",
       "      <td>1</td>\n",
       "      <td>0</td>\n",
       "      <td>0</td>\n",
       "      <td>6</td>\n",
       "    </tr>\n",
       "    <tr>\n",
       "      <th>212</th>\n",
       "      <td>2017-04-04</td>\n",
       "      <td>3072294573347400</td>\n",
       "      <td>8850726179744623540</td>\n",
       "      <td>2142</td>\n",
       "      <td>126698</td>\n",
       "      <td>11</td>\n",
       "      <td>1</td>\n",
       "      <td>0</td>\n",
       "      <td>0</td>\n",
       "      <td>6</td>\n",
       "    </tr>\n",
       "    <tr>\n",
       "      <th>213</th>\n",
       "      <td>2017-04-04</td>\n",
       "      <td>3072294573347400</td>\n",
       "      <td>8850726179744623540</td>\n",
       "      <td>2142</td>\n",
       "      <td>126698</td>\n",
       "      <td>12</td>\n",
       "      <td>1</td>\n",
       "      <td>0</td>\n",
       "      <td>0</td>\n",
       "      <td>6</td>\n",
       "    </tr>\n",
       "    <tr>\n",
       "      <th>214</th>\n",
       "      <td>2017-04-04</td>\n",
       "      <td>3072294573347400</td>\n",
       "      <td>8850726179744623540</td>\n",
       "      <td>2142</td>\n",
       "      <td>126698</td>\n",
       "      <td>13</td>\n",
       "      <td>1</td>\n",
       "      <td>0</td>\n",
       "      <td>0</td>\n",
       "      <td>6</td>\n",
       "    </tr>\n",
       "    <tr>\n",
       "      <th>215</th>\n",
       "      <td>2017-04-04</td>\n",
       "      <td>3072294573347400</td>\n",
       "      <td>8850726179744623540</td>\n",
       "      <td>2142</td>\n",
       "      <td>126698</td>\n",
       "      <td>14</td>\n",
       "      <td>1</td>\n",
       "      <td>0</td>\n",
       "      <td>0</td>\n",
       "      <td>6</td>\n",
       "    </tr>\n",
       "    <tr>\n",
       "      <th>216</th>\n",
       "      <td>2017-04-04</td>\n",
       "      <td>3072294573347400</td>\n",
       "      <td>8850726179744623540</td>\n",
       "      <td>2142</td>\n",
       "      <td>126698</td>\n",
       "      <td>15</td>\n",
       "      <td>1</td>\n",
       "      <td>0</td>\n",
       "      <td>0</td>\n",
       "      <td>6</td>\n",
       "    </tr>\n",
       "    <tr>\n",
       "      <th>217</th>\n",
       "      <td>2017-04-04</td>\n",
       "      <td>3072294573347400</td>\n",
       "      <td>8850726179744623540</td>\n",
       "      <td>2142</td>\n",
       "      <td>126698</td>\n",
       "      <td>16</td>\n",
       "      <td>1</td>\n",
       "      <td>0</td>\n",
       "      <td>0</td>\n",
       "      <td>6</td>\n",
       "    </tr>\n",
       "    <tr>\n",
       "      <th>218</th>\n",
       "      <td>2017-04-04</td>\n",
       "      <td>3072294573347400</td>\n",
       "      <td>8850726179744623540</td>\n",
       "      <td>2142</td>\n",
       "      <td>126698</td>\n",
       "      <td>17</td>\n",
       "      <td>1</td>\n",
       "      <td>0</td>\n",
       "      <td>0</td>\n",
       "      <td>6</td>\n",
       "    </tr>\n",
       "    <tr>\n",
       "      <th>...</th>\n",
       "      <td>...</td>\n",
       "      <td>...</td>\n",
       "      <td>...</td>\n",
       "      <td>...</td>\n",
       "      <td>...</td>\n",
       "      <td>...</td>\n",
       "      <td>...</td>\n",
       "      <td>...</td>\n",
       "      <td>...</td>\n",
       "      <td>...</td>\n",
       "    </tr>\n",
       "    <tr>\n",
       "      <th>5862698</th>\n",
       "      <td>2017-04-25</td>\n",
       "      <td>9223042584732256822</td>\n",
       "      <td>4313819141790302787</td>\n",
       "      <td>2142</td>\n",
       "      <td>94243</td>\n",
       "      <td>50</td>\n",
       "      <td>1</td>\n",
       "      <td>0</td>\n",
       "      <td>0</td>\n",
       "      <td>5</td>\n",
       "    </tr>\n",
       "    <tr>\n",
       "      <th>5862700</th>\n",
       "      <td>2017-04-25</td>\n",
       "      <td>9223042584732256822</td>\n",
       "      <td>4313819141790302787</td>\n",
       "      <td>2142</td>\n",
       "      <td>16024</td>\n",
       "      <td>52</td>\n",
       "      <td>1</td>\n",
       "      <td>0</td>\n",
       "      <td>0</td>\n",
       "      <td>5</td>\n",
       "    </tr>\n",
       "    <tr>\n",
       "      <th>5862701</th>\n",
       "      <td>2017-04-25</td>\n",
       "      <td>9223042584732256822</td>\n",
       "      <td>4313819141790302787</td>\n",
       "      <td>2142</td>\n",
       "      <td>16024</td>\n",
       "      <td>53</td>\n",
       "      <td>1</td>\n",
       "      <td>0</td>\n",
       "      <td>0</td>\n",
       "      <td>5</td>\n",
       "    </tr>\n",
       "    <tr>\n",
       "      <th>5862702</th>\n",
       "      <td>2017-04-25</td>\n",
       "      <td>9223042584732256822</td>\n",
       "      <td>4313819141790302787</td>\n",
       "      <td>2142</td>\n",
       "      <td>16024</td>\n",
       "      <td>54</td>\n",
       "      <td>1</td>\n",
       "      <td>0</td>\n",
       "      <td>0</td>\n",
       "      <td>5</td>\n",
       "    </tr>\n",
       "    <tr>\n",
       "      <th>5862703</th>\n",
       "      <td>2017-04-25</td>\n",
       "      <td>9223042584732256822</td>\n",
       "      <td>4313819141790302787</td>\n",
       "      <td>2142</td>\n",
       "      <td>16024</td>\n",
       "      <td>55</td>\n",
       "      <td>1</td>\n",
       "      <td>0</td>\n",
       "      <td>0</td>\n",
       "      <td>5</td>\n",
       "    </tr>\n",
       "    <tr>\n",
       "      <th>5862704</th>\n",
       "      <td>2017-04-25</td>\n",
       "      <td>9223042584732256822</td>\n",
       "      <td>4313819141790302787</td>\n",
       "      <td>2142</td>\n",
       "      <td>16024</td>\n",
       "      <td>56</td>\n",
       "      <td>1</td>\n",
       "      <td>0</td>\n",
       "      <td>0</td>\n",
       "      <td>5</td>\n",
       "    </tr>\n",
       "    <tr>\n",
       "      <th>5862705</th>\n",
       "      <td>2017-04-25</td>\n",
       "      <td>9223042584732256822</td>\n",
       "      <td>4313819141790302787</td>\n",
       "      <td>2142</td>\n",
       "      <td>16024</td>\n",
       "      <td>57</td>\n",
       "      <td>1</td>\n",
       "      <td>0</td>\n",
       "      <td>0</td>\n",
       "      <td>5</td>\n",
       "    </tr>\n",
       "    <tr>\n",
       "      <th>5862706</th>\n",
       "      <td>2017-04-25</td>\n",
       "      <td>9223042584732256822</td>\n",
       "      <td>4313819141790302787</td>\n",
       "      <td>2142</td>\n",
       "      <td>16024</td>\n",
       "      <td>58</td>\n",
       "      <td>1</td>\n",
       "      <td>0</td>\n",
       "      <td>0</td>\n",
       "      <td>5</td>\n",
       "    </tr>\n",
       "    <tr>\n",
       "      <th>5862707</th>\n",
       "      <td>2017-04-25</td>\n",
       "      <td>9223042584732256822</td>\n",
       "      <td>4313819141790302787</td>\n",
       "      <td>2142</td>\n",
       "      <td>16024</td>\n",
       "      <td>59</td>\n",
       "      <td>1</td>\n",
       "      <td>0</td>\n",
       "      <td>0</td>\n",
       "      <td>5</td>\n",
       "    </tr>\n",
       "    <tr>\n",
       "      <th>5862708</th>\n",
       "      <td>2017-04-25</td>\n",
       "      <td>9223042584732256822</td>\n",
       "      <td>4313819141790302787</td>\n",
       "      <td>2142</td>\n",
       "      <td>16024</td>\n",
       "      <td>60</td>\n",
       "      <td>1</td>\n",
       "      <td>0</td>\n",
       "      <td>0</td>\n",
       "      <td>5</td>\n",
       "    </tr>\n",
       "    <tr>\n",
       "      <th>5862709</th>\n",
       "      <td>2017-04-25</td>\n",
       "      <td>9223042584732256822</td>\n",
       "      <td>4313819141790302787</td>\n",
       "      <td>2142</td>\n",
       "      <td>16024</td>\n",
       "      <td>61</td>\n",
       "      <td>1</td>\n",
       "      <td>0</td>\n",
       "      <td>0</td>\n",
       "      <td>5</td>\n",
       "    </tr>\n",
       "    <tr>\n",
       "      <th>5862710</th>\n",
       "      <td>2017-04-25</td>\n",
       "      <td>9223042584732256822</td>\n",
       "      <td>4313819141790302787</td>\n",
       "      <td>2142</td>\n",
       "      <td>16024</td>\n",
       "      <td>62</td>\n",
       "      <td>1</td>\n",
       "      <td>0</td>\n",
       "      <td>0</td>\n",
       "      <td>5</td>\n",
       "    </tr>\n",
       "    <tr>\n",
       "      <th>5862711</th>\n",
       "      <td>2017-04-25</td>\n",
       "      <td>9223042584732256822</td>\n",
       "      <td>4313819141790302787</td>\n",
       "      <td>2142</td>\n",
       "      <td>16024</td>\n",
       "      <td>63</td>\n",
       "      <td>1</td>\n",
       "      <td>0</td>\n",
       "      <td>0</td>\n",
       "      <td>5</td>\n",
       "    </tr>\n",
       "    <tr>\n",
       "      <th>5862712</th>\n",
       "      <td>2017-04-25</td>\n",
       "      <td>9223042584732256822</td>\n",
       "      <td>4313819141790302787</td>\n",
       "      <td>2142</td>\n",
       "      <td>16024</td>\n",
       "      <td>64</td>\n",
       "      <td>1</td>\n",
       "      <td>0</td>\n",
       "      <td>0</td>\n",
       "      <td>5</td>\n",
       "    </tr>\n",
       "    <tr>\n",
       "      <th>5862714</th>\n",
       "      <td>2017-04-25</td>\n",
       "      <td>9223042584732256822</td>\n",
       "      <td>4313819141790302787</td>\n",
       "      <td>2142</td>\n",
       "      <td>16024</td>\n",
       "      <td>66</td>\n",
       "      <td>1</td>\n",
       "      <td>0</td>\n",
       "      <td>0</td>\n",
       "      <td>5</td>\n",
       "    </tr>\n",
       "    <tr>\n",
       "      <th>5862715</th>\n",
       "      <td>2017-04-25</td>\n",
       "      <td>9223042584732256822</td>\n",
       "      <td>4313819141790302787</td>\n",
       "      <td>2142</td>\n",
       "      <td>16024</td>\n",
       "      <td>67</td>\n",
       "      <td>1</td>\n",
       "      <td>0</td>\n",
       "      <td>0</td>\n",
       "      <td>5</td>\n",
       "    </tr>\n",
       "    <tr>\n",
       "      <th>5862716</th>\n",
       "      <td>2017-04-25</td>\n",
       "      <td>9223042584732256822</td>\n",
       "      <td>4313819141790302787</td>\n",
       "      <td>2142</td>\n",
       "      <td>16024</td>\n",
       "      <td>68</td>\n",
       "      <td>1</td>\n",
       "      <td>0</td>\n",
       "      <td>0</td>\n",
       "      <td>5</td>\n",
       "    </tr>\n",
       "    <tr>\n",
       "      <th>5862729</th>\n",
       "      <td>2017-04-25</td>\n",
       "      <td>9223042584732256822</td>\n",
       "      <td>4313819141790302787</td>\n",
       "      <td>2142</td>\n",
       "      <td>15924</td>\n",
       "      <td>81</td>\n",
       "      <td>1</td>\n",
       "      <td>0</td>\n",
       "      <td>0</td>\n",
       "      <td>5</td>\n",
       "    </tr>\n",
       "    <tr>\n",
       "      <th>5862730</th>\n",
       "      <td>2017-04-25</td>\n",
       "      <td>9223042584732256822</td>\n",
       "      <td>4313819141790302787</td>\n",
       "      <td>2142</td>\n",
       "      <td>95321</td>\n",
       "      <td>82</td>\n",
       "      <td>1</td>\n",
       "      <td>0</td>\n",
       "      <td>0</td>\n",
       "      <td>5</td>\n",
       "    </tr>\n",
       "    <tr>\n",
       "      <th>5862731</th>\n",
       "      <td>2017-04-25</td>\n",
       "      <td>9223042584732256822</td>\n",
       "      <td>4313819141790302787</td>\n",
       "      <td>2142</td>\n",
       "      <td>95321</td>\n",
       "      <td>83</td>\n",
       "      <td>1</td>\n",
       "      <td>0</td>\n",
       "      <td>0</td>\n",
       "      <td>5</td>\n",
       "    </tr>\n",
       "    <tr>\n",
       "      <th>5862732</th>\n",
       "      <td>2017-04-25</td>\n",
       "      <td>9223042584732256822</td>\n",
       "      <td>4313819141790302787</td>\n",
       "      <td>2142</td>\n",
       "      <td>95321</td>\n",
       "      <td>84</td>\n",
       "      <td>1</td>\n",
       "      <td>0</td>\n",
       "      <td>0</td>\n",
       "      <td>5</td>\n",
       "    </tr>\n",
       "    <tr>\n",
       "      <th>5862733</th>\n",
       "      <td>2017-04-25</td>\n",
       "      <td>9223042584732256822</td>\n",
       "      <td>4313819141790302787</td>\n",
       "      <td>2142</td>\n",
       "      <td>95321</td>\n",
       "      <td>85</td>\n",
       "      <td>1</td>\n",
       "      <td>0</td>\n",
       "      <td>0</td>\n",
       "      <td>5</td>\n",
       "    </tr>\n",
       "    <tr>\n",
       "      <th>5862734</th>\n",
       "      <td>2017-04-25</td>\n",
       "      <td>9223042584732256822</td>\n",
       "      <td>4313819141790302787</td>\n",
       "      <td>2142</td>\n",
       "      <td>95321</td>\n",
       "      <td>86</td>\n",
       "      <td>1</td>\n",
       "      <td>0</td>\n",
       "      <td>0</td>\n",
       "      <td>5</td>\n",
       "    </tr>\n",
       "    <tr>\n",
       "      <th>5862735</th>\n",
       "      <td>2017-04-25</td>\n",
       "      <td>9223042584732256822</td>\n",
       "      <td>4313819141790302787</td>\n",
       "      <td>2142</td>\n",
       "      <td>95321</td>\n",
       "      <td>87</td>\n",
       "      <td>1</td>\n",
       "      <td>0</td>\n",
       "      <td>0</td>\n",
       "      <td>5</td>\n",
       "    </tr>\n",
       "    <tr>\n",
       "      <th>5862736</th>\n",
       "      <td>2017-04-25</td>\n",
       "      <td>9223042584732256822</td>\n",
       "      <td>4313819141790302787</td>\n",
       "      <td>2142</td>\n",
       "      <td>95321</td>\n",
       "      <td>88</td>\n",
       "      <td>1</td>\n",
       "      <td>0</td>\n",
       "      <td>0</td>\n",
       "      <td>5</td>\n",
       "    </tr>\n",
       "    <tr>\n",
       "      <th>5862737</th>\n",
       "      <td>2017-04-25</td>\n",
       "      <td>9223042584732256822</td>\n",
       "      <td>4313819141790302787</td>\n",
       "      <td>2142</td>\n",
       "      <td>95321</td>\n",
       "      <td>89</td>\n",
       "      <td>1</td>\n",
       "      <td>0</td>\n",
       "      <td>0</td>\n",
       "      <td>5</td>\n",
       "    </tr>\n",
       "    <tr>\n",
       "      <th>5862738</th>\n",
       "      <td>2017-04-25</td>\n",
       "      <td>9223042584732256822</td>\n",
       "      <td>4313819141790302787</td>\n",
       "      <td>2142</td>\n",
       "      <td>95321</td>\n",
       "      <td>90</td>\n",
       "      <td>1</td>\n",
       "      <td>0</td>\n",
       "      <td>0</td>\n",
       "      <td>5</td>\n",
       "    </tr>\n",
       "    <tr>\n",
       "      <th>5862739</th>\n",
       "      <td>2017-04-25</td>\n",
       "      <td>9223042584732256822</td>\n",
       "      <td>4313819141790302787</td>\n",
       "      <td>2142</td>\n",
       "      <td>95321</td>\n",
       "      <td>91</td>\n",
       "      <td>1</td>\n",
       "      <td>0</td>\n",
       "      <td>0</td>\n",
       "      <td>5</td>\n",
       "    </tr>\n",
       "    <tr>\n",
       "      <th>5862740</th>\n",
       "      <td>2017-04-25</td>\n",
       "      <td>9223042584732256822</td>\n",
       "      <td>4313819141790302787</td>\n",
       "      <td>2142</td>\n",
       "      <td>95321</td>\n",
       "      <td>92</td>\n",
       "      <td>1</td>\n",
       "      <td>0</td>\n",
       "      <td>0</td>\n",
       "      <td>5</td>\n",
       "    </tr>\n",
       "    <tr>\n",
       "      <th>5862742</th>\n",
       "      <td>2017-04-25</td>\n",
       "      <td>9223042584732256822</td>\n",
       "      <td>4313819141790302787</td>\n",
       "      <td>2142</td>\n",
       "      <td>95321</td>\n",
       "      <td>94</td>\n",
       "      <td>1</td>\n",
       "      <td>0</td>\n",
       "      <td>0</td>\n",
       "      <td>5</td>\n",
       "    </tr>\n",
       "  </tbody>\n",
       "</table>\n",
       "<p>1150642 rows × 10 columns</p>\n",
       "</div>"
      ],
      "text/plain": [
       "               ymd              user_id           session_id  action_id  \\\n",
       "76      2017-04-19     1607565913119260  5462519157199531712       2142   \n",
       "78      2017-04-19     1607565913119260  5462519157199531712       2142   \n",
       "79      2017-04-19     1607565913119260  5462519157199531712       2142   \n",
       "80      2017-04-19     1607565913119260  5462519157199531712       2142   \n",
       "81      2017-04-19     1607565913119260  5462519157199531712       2142   \n",
       "82      2017-04-19     1607565913119260  5462519157199531712       2142   \n",
       "144     2017-04-16     2413031573758500  6317573206950631304       2142   \n",
       "145     2017-04-16     2413031573758500  6317573206950631304       2142   \n",
       "146     2017-04-16     2413031573758500  6317573206950631304       2142   \n",
       "147     2017-04-16     2413031573758500  6317573206950631304       2142   \n",
       "148     2017-04-16     2413031573758500  6317573206950631304       2142   \n",
       "149     2017-04-16     2413031573758500  6317573206950631304       2142   \n",
       "150     2017-04-16     2413031573758500  6317573206950631304       2142   \n",
       "151     2017-04-16     2413031573758500  6317573206950631304       2142   \n",
       "152     2017-04-16     2413031573758500  6317573206950631304       2142   \n",
       "153     2017-04-16     2413031573758500  6317573206950631304       2142   \n",
       "196     2017-04-16     3031117612602800  5103913992173632888       2142   \n",
       "206     2017-04-04     3072294573347400  8850726179744623540       2142   \n",
       "207     2017-04-04     3072294573347400  8850726179744623540       2142   \n",
       "208     2017-04-04     3072294573347400  8850726179744623540       2142   \n",
       "209     2017-04-04     3072294573347400  8850726179744623540       2142   \n",
       "210     2017-04-04     3072294573347400  8850726179744623540       2142   \n",
       "211     2017-04-04     3072294573347400  8850726179744623540       2142   \n",
       "212     2017-04-04     3072294573347400  8850726179744623540       2142   \n",
       "213     2017-04-04     3072294573347400  8850726179744623540       2142   \n",
       "214     2017-04-04     3072294573347400  8850726179744623540       2142   \n",
       "215     2017-04-04     3072294573347400  8850726179744623540       2142   \n",
       "216     2017-04-04     3072294573347400  8850726179744623540       2142   \n",
       "217     2017-04-04     3072294573347400  8850726179744623540       2142   \n",
       "218     2017-04-04     3072294573347400  8850726179744623540       2142   \n",
       "...            ...                  ...                  ...        ...   \n",
       "5862698 2017-04-25  9223042584732256822  4313819141790302787       2142   \n",
       "5862700 2017-04-25  9223042584732256822  4313819141790302787       2142   \n",
       "5862701 2017-04-25  9223042584732256822  4313819141790302787       2142   \n",
       "5862702 2017-04-25  9223042584732256822  4313819141790302787       2142   \n",
       "5862703 2017-04-25  9223042584732256822  4313819141790302787       2142   \n",
       "5862704 2017-04-25  9223042584732256822  4313819141790302787       2142   \n",
       "5862705 2017-04-25  9223042584732256822  4313819141790302787       2142   \n",
       "5862706 2017-04-25  9223042584732256822  4313819141790302787       2142   \n",
       "5862707 2017-04-25  9223042584732256822  4313819141790302787       2142   \n",
       "5862708 2017-04-25  9223042584732256822  4313819141790302787       2142   \n",
       "5862709 2017-04-25  9223042584732256822  4313819141790302787       2142   \n",
       "5862710 2017-04-25  9223042584732256822  4313819141790302787       2142   \n",
       "5862711 2017-04-25  9223042584732256822  4313819141790302787       2142   \n",
       "5862712 2017-04-25  9223042584732256822  4313819141790302787       2142   \n",
       "5862714 2017-04-25  9223042584732256822  4313819141790302787       2142   \n",
       "5862715 2017-04-25  9223042584732256822  4313819141790302787       2142   \n",
       "5862716 2017-04-25  9223042584732256822  4313819141790302787       2142   \n",
       "5862729 2017-04-25  9223042584732256822  4313819141790302787       2142   \n",
       "5862730 2017-04-25  9223042584732256822  4313819141790302787       2142   \n",
       "5862731 2017-04-25  9223042584732256822  4313819141790302787       2142   \n",
       "5862732 2017-04-25  9223042584732256822  4313819141790302787       2142   \n",
       "5862733 2017-04-25  9223042584732256822  4313819141790302787       2142   \n",
       "5862734 2017-04-25  9223042584732256822  4313819141790302787       2142   \n",
       "5862735 2017-04-25  9223042584732256822  4313819141790302787       2142   \n",
       "5862736 2017-04-25  9223042584732256822  4313819141790302787       2142   \n",
       "5862737 2017-04-25  9223042584732256822  4313819141790302787       2142   \n",
       "5862738 2017-04-25  9223042584732256822  4313819141790302787       2142   \n",
       "5862739 2017-04-25  9223042584732256822  4313819141790302787       2142   \n",
       "5862740 2017-04-25  9223042584732256822  4313819141790302787       2142   \n",
       "5862742 2017-04-25  9223042584732256822  4313819141790302787       2142   \n",
       "\n",
       "         reference  step  dayofweek  weekend  unique_reference  \\\n",
       "76          359221    24          2        0                 0   \n",
       "78          359221    26          2        0                 0   \n",
       "79          359221    27          2        0                 0   \n",
       "80          359221    28          2        0                 0   \n",
       "81          359221    29          2        0                 0   \n",
       "82          944775    30          2        0                 0   \n",
       "144        1483495    32          6        1                 0   \n",
       "145        1483495    33          6        1                 0   \n",
       "146        1483495    34          6        1                 0   \n",
       "147        1483495    35          6        1                 0   \n",
       "148        1483495    36          6        1                 0   \n",
       "149        1483495    37          6        1                 0   \n",
       "150        1483495    38          6        1                 0   \n",
       "151        1483495    39          6        1                 0   \n",
       "152        1483495    40          6        1                 0   \n",
       "153        1483495    41          6        1                 0   \n",
       "196          48021    24          6        1                 0   \n",
       "206         126698     5          1        0                 0   \n",
       "207         126698     6          1        0                 0   \n",
       "208         126698     7          1        0                 0   \n",
       "209         126698     8          1        0                 0   \n",
       "210         126698     9          1        0                 0   \n",
       "211         126698    10          1        0                 0   \n",
       "212         126698    11          1        0                 0   \n",
       "213         126698    12          1        0                 0   \n",
       "214         126698    13          1        0                 0   \n",
       "215         126698    14          1        0                 0   \n",
       "216         126698    15          1        0                 0   \n",
       "217         126698    16          1        0                 0   \n",
       "218         126698    17          1        0                 0   \n",
       "...            ...   ...        ...      ...               ...   \n",
       "5862698      94243    50          1        0                 0   \n",
       "5862700      16024    52          1        0                 0   \n",
       "5862701      16024    53          1        0                 0   \n",
       "5862702      16024    54          1        0                 0   \n",
       "5862703      16024    55          1        0                 0   \n",
       "5862704      16024    56          1        0                 0   \n",
       "5862705      16024    57          1        0                 0   \n",
       "5862706      16024    58          1        0                 0   \n",
       "5862707      16024    59          1        0                 0   \n",
       "5862708      16024    60          1        0                 0   \n",
       "5862709      16024    61          1        0                 0   \n",
       "5862710      16024    62          1        0                 0   \n",
       "5862711      16024    63          1        0                 0   \n",
       "5862712      16024    64          1        0                 0   \n",
       "5862714      16024    66          1        0                 0   \n",
       "5862715      16024    67          1        0                 0   \n",
       "5862716      16024    68          1        0                 0   \n",
       "5862729      15924    81          1        0                 0   \n",
       "5862730      95321    82          1        0                 0   \n",
       "5862731      95321    83          1        0                 0   \n",
       "5862732      95321    84          1        0                 0   \n",
       "5862733      95321    85          1        0                 0   \n",
       "5862734      95321    86          1        0                 0   \n",
       "5862735      95321    87          1        0                 0   \n",
       "5862736      95321    88          1        0                 0   \n",
       "5862737      95321    89          1        0                 0   \n",
       "5862738      95321    90          1        0                 0   \n",
       "5862739      95321    91          1        0                 0   \n",
       "5862740      95321    92          1        0                 0   \n",
       "5862742      95321    94          1        0                 0   \n",
       "\n",
       "         reference_length  \n",
       "76                      6  \n",
       "78                      6  \n",
       "79                      6  \n",
       "80                      6  \n",
       "81                      6  \n",
       "82                      6  \n",
       "144                     7  \n",
       "145                     7  \n",
       "146                     7  \n",
       "147                     7  \n",
       "148                     7  \n",
       "149                     7  \n",
       "150                     7  \n",
       "151                     7  \n",
       "152                     7  \n",
       "153                     7  \n",
       "196                     5  \n",
       "206                     6  \n",
       "207                     6  \n",
       "208                     6  \n",
       "209                     6  \n",
       "210                     6  \n",
       "211                     6  \n",
       "212                     6  \n",
       "213                     6  \n",
       "214                     6  \n",
       "215                     6  \n",
       "216                     6  \n",
       "217                     6  \n",
       "218                     6  \n",
       "...                   ...  \n",
       "5862698                 5  \n",
       "5862700                 5  \n",
       "5862701                 5  \n",
       "5862702                 5  \n",
       "5862703                 5  \n",
       "5862704                 5  \n",
       "5862705                 5  \n",
       "5862706                 5  \n",
       "5862707                 5  \n",
       "5862708                 5  \n",
       "5862709                 5  \n",
       "5862710                 5  \n",
       "5862711                 5  \n",
       "5862712                 5  \n",
       "5862714                 5  \n",
       "5862715                 5  \n",
       "5862716                 5  \n",
       "5862729                 5  \n",
       "5862730                 5  \n",
       "5862731                 5  \n",
       "5862732                 5  \n",
       "5862733                 5  \n",
       "5862734                 5  \n",
       "5862735                 5  \n",
       "5862736                 5  \n",
       "5862737                 5  \n",
       "5862738                 5  \n",
       "5862739                 5  \n",
       "5862740                 5  \n",
       "5862742                 5  \n",
       "\n",
       "[1150642 rows x 10 columns]"
      ]
     },
     "execution_count": 58,
     "metadata": {},
     "output_type": "execute_result"
    }
   ],
   "source": [
    "actions_train[actions_train.action_id == 2142]"
   ]
  },
  {
   "cell_type": "markdown",
   "metadata": {},
   "source": [
    "# Feature Engineering"
   ]
  },
  {
   "cell_type": "code",
   "execution_count": 20,
   "metadata": {
    "collapsed": true
   },
   "outputs": [],
   "source": [
    "# we don't know the time of the sessions, but we can definitely see whether or not the date was a weekend or not\n",
    "# new variable with dayofweek where Monday = 0, and Sunday = 6\n",
    "bookings_train['dayofweek'] = bookings_train.ymd.dt.dayofweek\n",
    "bookings_target['dayofweek'] = bookings_target.ymd.dt.dayofweek\n",
    "actions_train['dayofweek'] = actions_train.ymd.dt.dayofweek\n",
    "actions_target['dayofweek'] = actions_target.ymd.dt.dayofweek\n",
    "\n",
    "# new variable whether or not the day is weekend\n",
    "bookings_train['weekend'] = [1 if i in [5,6] else 0 for i in bookings_train.dayofweek]\n",
    "bookings_target['weekend'] = [1 if i in [5,6] else 0 for i in bookings_target.dayofweek]\n",
    "actions_train['weekend'] = [1 if i in [5,6] else 0 for i in actions_train.dayofweek]\n",
    "actions_target['weekend'] = [1 if i in [5,6] else 0 for i in actions_target.dayofweek]"
   ]
  },
  {
   "cell_type": "code",
   "execution_count": 21,
   "metadata": {},
   "outputs": [
    {
     "name": "stderr",
     "output_type": "stream",
     "text": [
      "/Users/jk6653284/anaconda/lib/python3.6/site-packages/seaborn/categorical.py:1468: FutureWarning: remove_na is deprecated and is a private function. Do not use.\n",
      "  stat_data = remove_na(group_data[hue_mask])\n"
     ]
    },
    {
     "data": {
      "image/png": "[encoded data removed]",
      "text/plain": [
       "<matplotlib.figure.Figure at 0x1a163e4b00>"
      ]
     },
     "metadata": {},
     "output_type": "display_data"
    },
    {
     "data": {
      "image/png": "[encoded data removed]",
      "text/plain": [
       "<matplotlib.figure.Figure at 0x1a16243198>"
      ]
     },
     "metadata": {},
     "output_type": "display_data"
    }
   ],
   "source": [
    "# see distribution of bookings by day of week\n",
    "sns.countplot(bookings_train.dayofweek, hue = bookings_train.has_booking)\n",
    "plt.title(\"Booking status by day of week\")\n",
    "plt.show()\n",
    "sns.countplot(bookings_train.weekend, hue = bookings_train.has_booking)\n",
    "plt.title(\"Booking status by weekend or not\")\n",
    "plt.show()"
   ]
  },
  {
   "cell_type": "code",
   "execution_count": 22,
   "metadata": {},
   "outputs": [
    {
     "data": {
      "image/png": "[encoded data removed]",
      "text/plain": [
       "<matplotlib.figure.Figure at 0x1a32aecfd0>"
      ]
     },
     "metadata": {},
     "output_type": "display_data"
    },
    {
     "data": {
      "image/png": "[encoded data removed]",
      "text/plain": [
       "<matplotlib.figure.Figure at 0x1a15ed44e0>"
      ]
     },
     "metadata": {},
     "output_type": "display_data"
    }
   ],
   "source": [
    "# count by day of week\n",
    "bookings_train.groupby(\"dayofweek\")['has_booking'].sum().plot.bar()\n",
    "plt.title(\"Number of bookings by day of week\")\n",
    "plt.show()\n",
    "bookings_train.groupby(\"dayofweek\")['has_booking'].mean().plot.bar()\n",
    "plt.title(\"Percentage of successful booking by day of week\")\n",
    "plt.show()"
   ]
  },
  {
   "cell_type": "markdown",
   "metadata": {},
   "source": [
    "While the absolute number of bookings is lower on Friday, the percentage of booking from all bookings is actually the highest on Friday. We can probably suspect that a lot of people browse during other weeks, but on Friday, there are quite a lot of last minute booking before the weekend trip."
   ]
  },
  {
   "cell_type": "markdown",
   "metadata": {},
   "source": [
    "## Putting it all together\n",
    "\n",
    "The final prediction is based on bookings dataset, and as mentioned, the unique users are not the same as in the action set as in the booking set. Luckily, all the users that are in actions are also apparent in bookings too. Thus, we transfer columns of actions to bookings."
   ]
  },
  {
   "cell_type": "code",
   "execution_count": 23,
   "metadata": {
    "collapsed": true,
    "scrolled": true
   },
   "outputs": [],
   "source": [
    "# things to transfer to bookings_train\n",
    "# in bookings there is only a single session_id - thus it makes sense to transfer whatever is in the action data\n",
    "# grouped by the session_id\n",
    "\n",
    "# step: count steps (number of steps)\n",
    "steps_train = pd.DataFrame({'session_id': np.unique(actions_train.session_id),\n",
    "              'steps_total': actions_train.groupby(\"session_id\")['step'].count().values})\n",
    "steps_target = pd.DataFrame({'session_id': np.unique(actions_target.session_id),\n",
    "              'steps_total': actions_target.groupby(\"session_id\")['step'].count().values})"
   ]
  },
  {
   "cell_type": "code",
   "execution_count": 24,
   "metadata": {},
   "outputs": [
    {
     "name": "stdout",
     "output_type": "stream",
     "text": [
      "count    121528.000000\n",
      "mean         48.242899\n",
      "std        3203.718025\n",
      "min           1.000000\n",
      "25%           1.000000\n",
      "50%           4.000000\n",
      "75%          16.000000\n",
      "max      904424.000000\n",
      "Name: reference, dtype: float64\n"
     ]
    }
   ],
   "source": [
    "# reference counts\n",
    "print(actions_train.reference.value_counts().describe())"
   ]
  },
  {
   "cell_type": "markdown",
   "metadata": {},
   "source": [
    "Most of the objects are unique to each each session and user. up to 25% of the references are only used once. There are also more generic ones on the other extreme, where the count is as big as 904424. In general though, the reference seem to be targted or unique to session. We can create 2 possible variables from reference: one is the uniqueness of reference (only 1 per action or session), and the other is content-related or function-related action (as indicated by the document). The only problem with the 2nd variable is that we need to assume that all big numbers are content-related, and that we need to set an arbitrary 'big' number that sets the difference.\n",
    "\n",
    "\n",
    "Length of reference + whether or not it is 1?"
   ]
  },
  {
   "cell_type": "code",
   "execution_count": 25,
   "metadata": {
    "collapsed": true
   },
   "outputs": [],
   "source": [
    "# unique reference or not?\n",
    "actions_train['unique_reference'] = [1 if i == 1 else 0 for i in actions_train.reference]\n",
    "actions_target['unique_reference'] = [1 if i == 1 else 0 for i in actions_target.reference]\n",
    "\n",
    "# length of reference number: long ones should be function related, and short ones should be content-related, \n",
    "# but this way we can get a way setting an arbitrary set point\n",
    "# hopefully this will reveal some information\n",
    "actions_train['reference_length'] = [len(str(i)) for i in actions_train.reference]\n",
    "actions_target['reference_length'] = [len(str(i)) for i in actions_target.reference]"
   ]
  },
  {
   "cell_type": "code",
   "execution_count": 26,
   "metadata": {},
   "outputs": [
    {
     "data": {
      "text/html": [
       "<div>\n",
       "<style scoped>\n",
       "    .dataframe tbody tr th:only-of-type {\n",
       "        vertical-align: middle;\n",
       "    }\n",
       "\n",
       "    .dataframe tbody tr th {\n",
       "        vertical-align: top;\n",
       "    }\n",
       "\n",
       "    .dataframe thead th {\n",
       "        text-align: right;\n",
       "    }\n",
       "</style>\n",
       "<table border=\"1\" class=\"dataframe\">\n",
       "  <thead>\n",
       "    <tr style=\"text-align: right;\">\n",
       "      <th></th>\n",
       "      <th>ymd</th>\n",
       "      <th>user_id</th>\n",
       "      <th>session_id</th>\n",
       "      <th>action_id</th>\n",
       "      <th>reference</th>\n",
       "      <th>step</th>\n",
       "      <th>dayofweek</th>\n",
       "      <th>weekend</th>\n",
       "      <th>unique_reference</th>\n",
       "      <th>reference_length</th>\n",
       "    </tr>\n",
       "  </thead>\n",
       "  <tbody>\n",
       "    <tr>\n",
       "      <th>0</th>\n",
       "      <td>2017-04-23</td>\n",
       "      <td>388309106223940</td>\n",
       "      <td>3052767322364990735</td>\n",
       "      <td>8001</td>\n",
       "      <td>1323836</td>\n",
       "      <td>1</td>\n",
       "      <td>6</td>\n",
       "      <td>1</td>\n",
       "      <td>0</td>\n",
       "      <td>7</td>\n",
       "    </tr>\n",
       "    <tr>\n",
       "      <th>1</th>\n",
       "      <td>2017-04-10</td>\n",
       "      <td>452426828488840</td>\n",
       "      <td>1022778951418899936</td>\n",
       "      <td>2116</td>\n",
       "      <td>929835</td>\n",
       "      <td>1</td>\n",
       "      <td>0</td>\n",
       "      <td>0</td>\n",
       "      <td>0</td>\n",
       "      <td>6</td>\n",
       "    </tr>\n",
       "    <tr>\n",
       "      <th>2</th>\n",
       "      <td>2017-04-10</td>\n",
       "      <td>452426828488840</td>\n",
       "      <td>1022778951418899936</td>\n",
       "      <td>6999</td>\n",
       "      <td>0</td>\n",
       "      <td>2</td>\n",
       "      <td>0</td>\n",
       "      <td>0</td>\n",
       "      <td>0</td>\n",
       "      <td>1</td>\n",
       "    </tr>\n",
       "    <tr>\n",
       "      <th>3</th>\n",
       "      <td>2017-04-10</td>\n",
       "      <td>452426828488840</td>\n",
       "      <td>1022778951418899936</td>\n",
       "      <td>2116</td>\n",
       "      <td>929835</td>\n",
       "      <td>3</td>\n",
       "      <td>0</td>\n",
       "      <td>0</td>\n",
       "      <td>0</td>\n",
       "      <td>6</td>\n",
       "    </tr>\n",
       "    <tr>\n",
       "      <th>4</th>\n",
       "      <td>2017-04-10</td>\n",
       "      <td>452426828488840</td>\n",
       "      <td>1022778951418899936</td>\n",
       "      <td>2503</td>\n",
       "      <td>1</td>\n",
       "      <td>4</td>\n",
       "      <td>0</td>\n",
       "      <td>0</td>\n",
       "      <td>1</td>\n",
       "      <td>1</td>\n",
       "    </tr>\n",
       "  </tbody>\n",
       "</table>\n",
       "</div>"
      ],
      "text/plain": [
       "         ymd          user_id           session_id  action_id  reference  \\\n",
       "0 2017-04-23  388309106223940  3052767322364990735       8001    1323836   \n",
       "1 2017-04-10  452426828488840  1022778951418899936       2116     929835   \n",
       "2 2017-04-10  452426828488840  1022778951418899936       6999          0   \n",
       "3 2017-04-10  452426828488840  1022778951418899936       2116     929835   \n",
       "4 2017-04-10  452426828488840  1022778951418899936       2503          1   \n",
       "\n",
       "   step  dayofweek  weekend  unique_reference  reference_length  \n",
       "0     1          6        1                 0                 7  \n",
       "1     1          0        0                 0                 6  \n",
       "2     2          0        0                 0                 1  \n",
       "3     3          0        0                 0                 6  \n",
       "4     4          0        0                 1                 1  "
      ]
     },
     "execution_count": 26,
     "metadata": {},
     "output_type": "execute_result"
    }
   ],
   "source": [
    "actions_train.head()"
   ]
  },
  {
   "cell_type": "code",
   "execution_count": 27,
   "metadata": {},
   "outputs": [
    {
     "data": {
      "text/html": [
       "<div>\n",
       "<style scoped>\n",
       "    .dataframe tbody tr th:only-of-type {\n",
       "        vertical-align: middle;\n",
       "    }\n",
       "\n",
       "    .dataframe tbody tr th {\n",
       "        vertical-align: top;\n",
       "    }\n",
       "\n",
       "    .dataframe thead th {\n",
       "        text-align: right;\n",
       "    }\n",
       "</style>\n",
       "<table border=\"1\" class=\"dataframe\">\n",
       "  <thead>\n",
       "    <tr style=\"text-align: right;\">\n",
       "      <th></th>\n",
       "      <th>ymd</th>\n",
       "      <th>user_id</th>\n",
       "      <th>session_id</th>\n",
       "      <th>referer_code</th>\n",
       "      <th>is_app</th>\n",
       "      <th>agent_id</th>\n",
       "      <th>traffic_type</th>\n",
       "      <th>has_booking</th>\n",
       "      <th>dayofweek</th>\n",
       "      <th>weekend</th>\n",
       "    </tr>\n",
       "  </thead>\n",
       "  <tbody>\n",
       "    <tr>\n",
       "      <th>0</th>\n",
       "      <td>2017-04-23</td>\n",
       "      <td>388309106223940</td>\n",
       "      <td>3052767322364990735</td>\n",
       "      <td>0</td>\n",
       "      <td>0</td>\n",
       "      <td>2</td>\n",
       "      <td>1</td>\n",
       "      <td>0</td>\n",
       "      <td>6</td>\n",
       "      <td>1</td>\n",
       "    </tr>\n",
       "    <tr>\n",
       "      <th>1</th>\n",
       "      <td>2017-04-10</td>\n",
       "      <td>452426828488840</td>\n",
       "      <td>1022778951418899936</td>\n",
       "      <td>0</td>\n",
       "      <td>0</td>\n",
       "      <td>10</td>\n",
       "      <td>2</td>\n",
       "      <td>0</td>\n",
       "      <td>0</td>\n",
       "      <td>0</td>\n",
       "    </tr>\n",
       "    <tr>\n",
       "      <th>2</th>\n",
       "      <td>2017-04-15</td>\n",
       "      <td>452426828488840</td>\n",
       "      <td>4191504489082712531</td>\n",
       "      <td>0</td>\n",
       "      <td>0</td>\n",
       "      <td>10</td>\n",
       "      <td>2</td>\n",
       "      <td>0</td>\n",
       "      <td>5</td>\n",
       "      <td>1</td>\n",
       "    </tr>\n",
       "    <tr>\n",
       "      <th>3</th>\n",
       "      <td>2017-04-06</td>\n",
       "      <td>819438352219100</td>\n",
       "      <td>4560227804862289210</td>\n",
       "      <td>1</td>\n",
       "      <td>0</td>\n",
       "      <td>1</td>\n",
       "      <td>1</td>\n",
       "      <td>0</td>\n",
       "      <td>3</td>\n",
       "      <td>0</td>\n",
       "    </tr>\n",
       "    <tr>\n",
       "      <th>4</th>\n",
       "      <td>2017-04-07</td>\n",
       "      <td>1113732603712480</td>\n",
       "      <td>4115013282086590434</td>\n",
       "      <td>0</td>\n",
       "      <td>0</td>\n",
       "      <td>9</td>\n",
       "      <td>2</td>\n",
       "      <td>0</td>\n",
       "      <td>4</td>\n",
       "      <td>0</td>\n",
       "    </tr>\n",
       "  </tbody>\n",
       "</table>\n",
       "</div>"
      ],
      "text/plain": [
       "         ymd           user_id           session_id  referer_code  is_app  \\\n",
       "0 2017-04-23   388309106223940  3052767322364990735             0       0   \n",
       "1 2017-04-10   452426828488840  1022778951418899936             0       0   \n",
       "2 2017-04-15   452426828488840  4191504489082712531             0       0   \n",
       "3 2017-04-06   819438352219100  4560227804862289210             1       0   \n",
       "4 2017-04-07  1113732603712480  4115013282086590434             0       0   \n",
       "\n",
       "   agent_id  traffic_type  has_booking  dayofweek  weekend  \n",
       "0         2             1            0          6        1  \n",
       "1        10             2            0          0        0  \n",
       "2        10             2            0          5        1  \n",
       "3         1             1            0          3        0  \n",
       "4         9             2            0          4        0  "
      ]
     },
     "execution_count": 27,
     "metadata": {},
     "output_type": "execute_result"
    }
   ],
   "source": [
    "bookings_train.head()"
   ]
  },
  {
   "cell_type": "code",
   "execution_count": 28,
   "metadata": {
    "collapsed": true,
    "scrolled": true
   },
   "outputs": [],
   "source": [
    "# count of each reference length\n",
    "# this would contain more information than aggregating with a single mean or mode number\n",
    "\n",
    "# training data\n",
    "stacked_train = pd.pivot_table(data = actions_train, columns = ['session_id', 'reference_length'],values = ['step'], aggfunc = [len]).stack().reset_index()[['session_id', 'reference_length', 0]]\n",
    "stacked_train.columns = ['session_id', 'reference_length', 'count']\n",
    "length_count_train = stacked_train.pivot_table(index = \"session_id\", columns = 'reference_length', values = 'count').reset_index()\n",
    "length_count_train.columns = ['session_id']+['reference_length_'+str(i) for i in range(1,10)]\n",
    "length_count_train.fillna(0, inplace = True)\n",
    "\n",
    "# target data\n",
    "stacked_target = pd.pivot_table(data = actions_target, columns = ['session_id', 'reference_length'],values = ['step'], aggfunc = [len]).stack().reset_index()[['session_id', 'reference_length', 0]]\n",
    "stacked_target.columns = ['session_id', 'reference_length', 'count']\n",
    "length_count_target = stacked_target.pivot_table(index = \"session_id\", columns = 'reference_length', values = 'count').reset_index()\n",
    "length_count_target.columns = ['session_id']+['reference_length_'+str(i) for i in range(1,10)]\n",
    "length_count_target.fillna(0, inplace = True)\n"
   ]
  },
  {
   "cell_type": "code",
   "execution_count": 29,
   "metadata": {
    "collapsed": true,
    "scrolled": true
   },
   "outputs": [],
   "source": [
    "# new dataframes to be added to bookings dataset\n",
    "actions_merged_train = pd.merge(steps_train, length_count_train, on='session_id')\n",
    "actions_merged_target = pd.merge(steps_target, length_count_target, on='session_id')\n",
    "\n",
    "# merge with bookings data, making a left join on bookings data\n",
    "bookings_train_full = pd.merge(bookings_train, actions_merged_train, on = 'session_id', how = 'left')\n",
    "bookings_target_full = pd.merge(bookings_target, actions_merged_target, on = 'session_id', how = 'left')\n",
    "\n",
    "# reset index\n",
    "bookings_train_full.reset_index(drop = 'True', inplace = True)\n",
    "bookings_target.reset_index(drop = 'True', inplace = True)"
   ]
  },
  {
   "cell_type": "markdown",
   "metadata": {},
   "source": [
    "As seen before, because bookings dataset has some users and session id that don't exist in the actions dataset, there are going to be some missing values. We would need to impute them in some way. Because 0 is a valid value in this case, it would not be wise to simply impute null values with 0."
   ]
  },
  {
   "cell_type": "code",
   "execution_count": 30,
   "metadata": {},
   "outputs": [
    {
     "name": "stdout",
     "output_type": "stream",
     "text": [
      "missing data in full training data:\n",
      "steps_total           1571\n",
      "reference_length_1    1571\n",
      "reference_length_2    1571\n",
      "reference_length_3    1571\n",
      "reference_length_4    1571\n",
      "reference_length_5    1571\n",
      "reference_length_6    1571\n",
      "reference_length_7    1571\n",
      "reference_length_8    1571\n",
      "reference_length_9    1571\n",
      "dtype: int64\n",
      "\n",
      "missing data in full test data:\n",
      "steps_total           171\n",
      "reference_length_1    171\n",
      "reference_length_2    171\n",
      "reference_length_3    171\n",
      "reference_length_4    171\n",
      "reference_length_5    171\n",
      "reference_length_6    171\n",
      "reference_length_7    171\n",
      "reference_length_8    171\n",
      "reference_length_9    171\n",
      "dtype: int64\n"
     ]
    }
   ],
   "source": [
    "# look at null values\n",
    "print(\"missing data in full training data:\")\n",
    "print(bookings_train_full.isnull().sum()[bookings_train_full.isnull().sum() > 0])\n",
    "print(\"\\nmissing data in full test data:\")\n",
    "print(bookings_target_full.isnull().sum()[bookings_train_full.isnull().sum() > 0])"
   ]
  },
  {
   "cell_type": "code",
   "execution_count": 31,
   "metadata": {
    "collapsed": true,
    "scrolled": true
   },
   "outputs": [],
   "source": [
    "# imputing missing values with KNN\n",
    "from sklearn.neighbors import KNeighborsClassifier\n",
    "from sklearn.preprocessing import RobustScaler\n",
    "\n",
    "scaler = RobustScaler()\n",
    "empty_df = pd.DataFrame()\n",
    "\n",
    "# missing value columns\n",
    "missing_cols = bookings_train_full.isnull().sum()[bookings_train_full.isnull().sum() > 0].index.tolist()\n",
    "missing_cols.append('ymd')\n",
    "missing_cols.append('has_booking')\n",
    "bookings_train_full.head()\n",
    "\n",
    "# create separate dataframe with only features\n",
    "train_X = scaler.fit_transform(bookings_train_full.dropna(axis = 0).drop(missing_cols, axis = 1))\n",
    "test_X = scaler.fit_transform(bookings_train_full[bookings_train_full.steps_total.isnull()].drop(missing_cols, axis = 1))\n",
    "missing_cols.remove('ymd')\n",
    "missing_cols.remove('has_booking')\n",
    "for i in missing_cols:\n",
    "    train_y = bookings_train_full.dropna(axis = 0)[i]\n",
    "    pred = KNeighborsClassifier(3).fit(train_X, train_y).predict(test_X)\n",
    "    empty_df[i] = pred\n",
    "\n",
    "for i in missing_cols:\n",
    "    bookings_train_full.loc[bookings_train_full[i].isnull(),i] = empty_df[i].tolist()"
   ]
  },
  {
   "cell_type": "code",
   "execution_count": 32,
   "metadata": {
    "collapsed": true,
    "scrolled": true
   },
   "outputs": [],
   "source": [
    "# same for test\n",
    "scaler = RobustScaler()\n",
    "empty_df = pd.DataFrame()\n",
    "\n",
    "# missing value columns\n",
    "missing_cols = bookings_target_full.isnull().sum()[bookings_target_full.isnull().sum() > 0].index.tolist()\n",
    "missing_cols.append('ymd')\n",
    "bookings_target_full.head()\n",
    "\n",
    "# create separate dataframe with only features\n",
    "train_X = scaler.fit_transform(bookings_target_full.dropna(axis = 0).drop(missing_cols, axis = 1))\n",
    "test_X = scaler.fit_transform(bookings_target_full[bookings_target_full.steps_total.isnull()].drop(missing_cols, axis = 1))\n",
    "missing_cols.remove('ymd')\n",
    "for i in missing_cols:\n",
    "    train_y = bookings_target_full.dropna(axis = 0)[i]\n",
    "    pred = KNeighborsClassifier(3).fit(train_X, train_y).predict(test_X)\n",
    "    empty_df[i] = pred\n",
    "\n",
    "# fill in with empty value\n",
    "for i in missing_cols:\n",
    "    bookings_target_full.loc[bookings_target_full[i].isnull(),i] = empty_df[i].tolist()"
   ]
  },
  {
   "cell_type": "code",
   "execution_count": 33,
   "metadata": {},
   "outputs": [
    {
     "name": "stdout",
     "output_type": "stream",
     "text": [
      "training missing values:\n",
      "Series([], dtype: int64)\n",
      "\n",
      "test missing values:\n",
      "Series([], dtype: int64)\n"
     ]
    }
   ],
   "source": [
    "# check for null values\n",
    "print(\"training missing values:\")\n",
    "print(bookings_train_full.isnull().sum()[bookings_train_full.isnull().sum() > 0])\n",
    "print(\"\\ntest missing values:\")\n",
    "print(bookings_target_full.isnull().sum()[bookings_target_full.isnull().sum() > 0])"
   ]
  },
  {
   "cell_type": "markdown",
   "metadata": {},
   "source": [
    "## Feature transformation"
   ]
  },
  {
   "cell_type": "code",
   "execution_count": 34,
   "metadata": {},
   "outputs": [
    {
     "data": {
      "text/html": [
       "<div>\n",
       "<style scoped>\n",
       "    .dataframe tbody tr th:only-of-type {\n",
       "        vertical-align: middle;\n",
       "    }\n",
       "\n",
       "    .dataframe tbody tr th {\n",
       "        vertical-align: top;\n",
       "    }\n",
       "\n",
       "    .dataframe thead th {\n",
       "        text-align: right;\n",
       "    }\n",
       "</style>\n",
       "<table border=\"1\" class=\"dataframe\">\n",
       "  <thead>\n",
       "    <tr style=\"text-align: right;\">\n",
       "      <th></th>\n",
       "      <th>ymd</th>\n",
       "      <th>user_id</th>\n",
       "      <th>session_id</th>\n",
       "      <th>referer_code</th>\n",
       "      <th>is_app</th>\n",
       "      <th>agent_id</th>\n",
       "      <th>traffic_type</th>\n",
       "      <th>has_booking</th>\n",
       "      <th>dayofweek</th>\n",
       "      <th>weekend</th>\n",
       "      <th>steps_total</th>\n",
       "      <th>reference_length_1</th>\n",
       "      <th>reference_length_2</th>\n",
       "      <th>reference_length_3</th>\n",
       "      <th>reference_length_4</th>\n",
       "      <th>reference_length_5</th>\n",
       "      <th>reference_length_6</th>\n",
       "      <th>reference_length_7</th>\n",
       "      <th>reference_length_8</th>\n",
       "      <th>reference_length_9</th>\n",
       "    </tr>\n",
       "  </thead>\n",
       "  <tbody>\n",
       "    <tr>\n",
       "      <th>0</th>\n",
       "      <td>2017-04-23</td>\n",
       "      <td>388309106223940</td>\n",
       "      <td>3052767322364990735</td>\n",
       "      <td>0</td>\n",
       "      <td>0</td>\n",
       "      <td>2</td>\n",
       "      <td>1</td>\n",
       "      <td>0</td>\n",
       "      <td>6</td>\n",
       "      <td>1</td>\n",
       "      <td>1.0</td>\n",
       "      <td>0.0</td>\n",
       "      <td>0.0</td>\n",
       "      <td>0.0</td>\n",
       "      <td>0.0</td>\n",
       "      <td>0.0</td>\n",
       "      <td>0.0</td>\n",
       "      <td>1.0</td>\n",
       "      <td>0.0</td>\n",
       "      <td>0.0</td>\n",
       "    </tr>\n",
       "    <tr>\n",
       "      <th>1</th>\n",
       "      <td>2017-04-10</td>\n",
       "      <td>452426828488840</td>\n",
       "      <td>1022778951418899936</td>\n",
       "      <td>0</td>\n",
       "      <td>0</td>\n",
       "      <td>10</td>\n",
       "      <td>2</td>\n",
       "      <td>0</td>\n",
       "      <td>0</td>\n",
       "      <td>0</td>\n",
       "      <td>5.0</td>\n",
       "      <td>2.0</td>\n",
       "      <td>0.0</td>\n",
       "      <td>0.0</td>\n",
       "      <td>0.0</td>\n",
       "      <td>0.0</td>\n",
       "      <td>3.0</td>\n",
       "      <td>0.0</td>\n",
       "      <td>0.0</td>\n",
       "      <td>0.0</td>\n",
       "    </tr>\n",
       "    <tr>\n",
       "      <th>2</th>\n",
       "      <td>2017-04-15</td>\n",
       "      <td>452426828488840</td>\n",
       "      <td>4191504489082712531</td>\n",
       "      <td>0</td>\n",
       "      <td>0</td>\n",
       "      <td>10</td>\n",
       "      <td>2</td>\n",
       "      <td>0</td>\n",
       "      <td>5</td>\n",
       "      <td>1</td>\n",
       "      <td>3.0</td>\n",
       "      <td>1.0</td>\n",
       "      <td>0.0</td>\n",
       "      <td>0.0</td>\n",
       "      <td>0.0</td>\n",
       "      <td>0.0</td>\n",
       "      <td>2.0</td>\n",
       "      <td>0.0</td>\n",
       "      <td>0.0</td>\n",
       "      <td>0.0</td>\n",
       "    </tr>\n",
       "    <tr>\n",
       "      <th>3</th>\n",
       "      <td>2017-04-06</td>\n",
       "      <td>819438352219100</td>\n",
       "      <td>4560227804862289210</td>\n",
       "      <td>1</td>\n",
       "      <td>0</td>\n",
       "      <td>1</td>\n",
       "      <td>1</td>\n",
       "      <td>0</td>\n",
       "      <td>3</td>\n",
       "      <td>0</td>\n",
       "      <td>33.0</td>\n",
       "      <td>16.0</td>\n",
       "      <td>2.0</td>\n",
       "      <td>0.0</td>\n",
       "      <td>0.0</td>\n",
       "      <td>13.0</td>\n",
       "      <td>2.0</td>\n",
       "      <td>0.0</td>\n",
       "      <td>0.0</td>\n",
       "      <td>0.0</td>\n",
       "    </tr>\n",
       "    <tr>\n",
       "      <th>4</th>\n",
       "      <td>2017-04-07</td>\n",
       "      <td>1113732603712480</td>\n",
       "      <td>4115013282086590434</td>\n",
       "      <td>0</td>\n",
       "      <td>0</td>\n",
       "      <td>9</td>\n",
       "      <td>2</td>\n",
       "      <td>0</td>\n",
       "      <td>4</td>\n",
       "      <td>0</td>\n",
       "      <td>11.0</td>\n",
       "      <td>1.0</td>\n",
       "      <td>2.0</td>\n",
       "      <td>2.0</td>\n",
       "      <td>0.0</td>\n",
       "      <td>0.0</td>\n",
       "      <td>5.0</td>\n",
       "      <td>1.0</td>\n",
       "      <td>0.0</td>\n",
       "      <td>0.0</td>\n",
       "    </tr>\n",
       "  </tbody>\n",
       "</table>\n",
       "</div>"
      ],
      "text/plain": [
       "         ymd           user_id           session_id  referer_code  is_app  \\\n",
       "0 2017-04-23   388309106223940  3052767322364990735             0       0   \n",
       "1 2017-04-10   452426828488840  1022778951418899936             0       0   \n",
       "2 2017-04-15   452426828488840  4191504489082712531             0       0   \n",
       "3 2017-04-06   819438352219100  4560227804862289210             1       0   \n",
       "4 2017-04-07  1113732603712480  4115013282086590434             0       0   \n",
       "\n",
       "   agent_id  traffic_type  has_booking  dayofweek  weekend  steps_total  \\\n",
       "0         2             1            0          6        1          1.0   \n",
       "1        10             2            0          0        0          5.0   \n",
       "2        10             2            0          5        1          3.0   \n",
       "3         1             1            0          3        0         33.0   \n",
       "4         9             2            0          4        0         11.0   \n",
       "\n",
       "   reference_length_1  reference_length_2  reference_length_3  \\\n",
       "0                 0.0                 0.0                 0.0   \n",
       "1                 2.0                 0.0                 0.0   \n",
       "2                 1.0                 0.0                 0.0   \n",
       "3                16.0                 2.0                 0.0   \n",
       "4                 1.0                 2.0                 2.0   \n",
       "\n",
       "   reference_length_4  reference_length_5  reference_length_6  \\\n",
       "0                 0.0                 0.0                 0.0   \n",
       "1                 0.0                 0.0                 3.0   \n",
       "2                 0.0                 0.0                 2.0   \n",
       "3                 0.0                13.0                 2.0   \n",
       "4                 0.0                 0.0                 5.0   \n",
       "\n",
       "   reference_length_7  reference_length_8  reference_length_9  \n",
       "0                 1.0                 0.0                 0.0  \n",
       "1                 0.0                 0.0                 0.0  \n",
       "2                 0.0                 0.0                 0.0  \n",
       "3                 0.0                 0.0                 0.0  \n",
       "4                 1.0                 0.0                 0.0  "
      ]
     },
     "execution_count": 34,
     "metadata": {},
     "output_type": "execute_result"
    }
   ],
   "source": [
    "bookings_train_full.head()"
   ]
  },
  {
   "cell_type": "code",
   "execution_count": 113,
   "metadata": {},
   "outputs": [],
   "source": [
    "# make all categorical variables as object type variable\n",
    "cat_cols = ['referer_code','agent_id', 'traffic_type', 'dayofweek']\n",
    "\n",
    "bookings_train_full[cat_cols] = bookings_train_full[cat_cols].astype(object)\n",
    "bookings_target_full[cat_cols] = bookings_target_full[cat_cols].astype(object)"
   ]
  },
  {
   "cell_type": "code",
   "execution_count": 114,
   "metadata": {
    "collapsed": true
   },
   "outputs": [],
   "source": [
    "# dummify categorical variables\n",
    "# keep id\n",
    "train_session_id = bookings_train_full.session_id\n",
    "target_session_id = bookings_target_full.session_id\n",
    "\n",
    "# put together and dummify\n",
    "full_dummy = pd.get_dummies(pd.concat([bookings_train_full, bookings_target_full]))"
   ]
  },
  {
   "cell_type": "code",
   "execution_count": 141,
   "metadata": {},
   "outputs": [],
   "source": [
    "# training set and test set\n",
    "# divide between train and test set again\n",
    "train_dummy = full_dummy[:len(bookings_train_full)]\n",
    "target_dummy = full_dummy[len(bookings_train_full):]\n",
    "\n",
    "X_train = train_dummy.drop(['ymd', 'user_id', 'session_id','has_booking'], axis = 1)\n",
    "y_train = train_dummy.has_booking\n",
    "X_test = target_dummy.drop(['ymd', 'user_id', 'session_id', 'has_booking'], axis = 1)"
   ]
  },
  {
   "cell_type": "markdown",
   "metadata": {},
   "source": [
    "# Modeling"
   ]
  },
  {
   "cell_type": "markdown",
   "metadata": {},
   "source": [
    "## Approaches\n",
    "\n",
    "While the ultimate question is answering yes or no to booking status, I think for this classification task, it is more interesting to use a generative model rather than a deterministic one, since if we know the probability a user (or session) will be belonging to class 1 or 0, then from there we can try to uncover how do high probability and low probability people differ within the same group. If there is some insight there, we can use that to try further techniques to encourage booking (for different stages of action for example)."
   ]
  },
  {
   "cell_type": "markdown",
   "metadata": {},
   "source": [
    "## Baseline models"
   ]
  },
  {
   "cell_type": "markdown",
   "metadata": {},
   "source": [
    "### Logistic regression baseline"
   ]
  },
  {
   "cell_type": "code",
   "execution_count": 38,
   "metadata": {
    "collapsed": true
   },
   "outputs": [],
   "source": [
    "# import libraries\n",
    "from sklearn.linear_model import LogisticRegression\n",
    "from sklearn.model_selection import StratifiedKFold, cross_val_score, RandomizedSearchCV\n",
    "from sklearn.metrics import matthews_corrcoef"
   ]
  },
  {
   "cell_type": "code",
   "execution_count": 39,
   "metadata": {},
   "outputs": [
    {
     "name": "stdout",
     "output_type": "stream",
     "text": [
      "[CV]  ................................................................\n",
      "[CV] ....................... , score=0.7479363190097441, total=   4.5s\n",
      "[CV]  ................................................................\n"
     ]
    },
    {
     "name": "stderr",
     "output_type": "stream",
     "text": [
      "[Parallel(n_jobs=1)]: Done   1 out of   1 | elapsed:    4.6s remaining:    0.0s\n"
     ]
    },
    {
     "name": "stdout",
     "output_type": "stream",
     "text": [
      "[CV] ....................... , score=0.7527941807729774, total=   3.8s\n",
      "[CV]  ................................................................\n"
     ]
    },
    {
     "name": "stderr",
     "output_type": "stream",
     "text": [
      "[Parallel(n_jobs=1)]: Done   2 out of   2 | elapsed:    8.4s remaining:    0.0s\n"
     ]
    },
    {
     "name": "stdout",
     "output_type": "stream",
     "text": [
      "[CV] ....................... , score=0.7499862216884859, total=   4.1s\n",
      "[CV]  ................................................................\n"
     ]
    },
    {
     "name": "stderr",
     "output_type": "stream",
     "text": [
      "[Parallel(n_jobs=1)]: Done   3 out of   3 | elapsed:   12.5s remaining:    0.0s\n"
     ]
    },
    {
     "name": "stdout",
     "output_type": "stream",
     "text": [
      "[CV] ....................... , score=0.7559180973864754, total=   4.3s\n",
      "[CV]  ................................................................\n"
     ]
    },
    {
     "name": "stderr",
     "output_type": "stream",
     "text": [
      "[Parallel(n_jobs=1)]: Done   4 out of   4 | elapsed:   16.8s remaining:    0.0s\n"
     ]
    },
    {
     "name": "stdout",
     "output_type": "stream",
     "text": [
      "[CV] ....................... , score=0.7493719855773839, total=   4.2s\n"
     ]
    },
    {
     "name": "stderr",
     "output_type": "stream",
     "text": [
      "[Parallel(n_jobs=1)]: Done   5 out of   5 | elapsed:   21.0s finished\n"
     ]
    }
   ],
   "source": [
    "# initiate logisticregression and cross validation method with stratifiedkfold\n",
    "lr = LogisticRegression()\n",
    "skfolds = StratifiedKFold(n_splits=5, shuffle=True, random_state=42)\n",
    "\n",
    "# define error metrics function\n",
    "def mcc(y_true, y_pred): \n",
    "    return matthews_corrcoef(y_true, y_pred)\n",
    "\n",
    "# transform X_train\n",
    "X_train_transformed = RobustScaler().fit_transform(X_train)\n",
    "\n",
    "# build baseline model\n",
    "# lr_baseline = make_pipeline(RobustScaler(), lr).fit(X = X_train, y = y_train)\n",
    "lr_baseline_cv = cross_val_score(lr, X_train_transformed, y_train,\n",
    "                                scoring = 'roc_auc', cv = skfolds, verbose = 5)"
   ]
  },
  {
   "cell_type": "code",
   "execution_count": 40,
   "metadata": {},
   "outputs": [
    {
     "name": "stdout",
     "output_type": "stream",
     "text": [
      "Baseline mean score: 0.7512013608870134\n"
     ]
    }
   ],
   "source": [
    "print(\"Baseline mean score:\", lr_baseline_cv.mean())"
   ]
  },
  {
   "cell_type": "markdown",
   "metadata": {
    "collapsed": true
   },
   "source": [
    "The roc_auc score for the baseline model (existing features + some new features + logistic regression without tuning) is 0.75."
   ]
  },
  {
   "cell_type": "markdown",
   "metadata": {},
   "source": [
    "### Random Forest"
   ]
  },
  {
   "cell_type": "code",
   "execution_count": 41,
   "metadata": {},
   "outputs": [
    {
     "name": "stdout",
     "output_type": "stream",
     "text": [
      "[CV]  ................................................................\n",
      "[CV] ....................... , score=0.6997446724829608, total=   4.3s\n",
      "[CV]  ................................................................\n"
     ]
    },
    {
     "name": "stderr",
     "output_type": "stream",
     "text": [
      "[Parallel(n_jobs=1)]: Done   1 out of   1 | elapsed:    4.4s remaining:    0.0s\n"
     ]
    },
    {
     "name": "stdout",
     "output_type": "stream",
     "text": [
      "[CV] ....................... , score=0.7016251509883892, total=   4.6s\n",
      "[CV]  ................................................................\n"
     ]
    },
    {
     "name": "stderr",
     "output_type": "stream",
     "text": [
      "[Parallel(n_jobs=1)]: Done   2 out of   2 | elapsed:    9.0s remaining:    0.0s\n"
     ]
    },
    {
     "name": "stdout",
     "output_type": "stream",
     "text": [
      "[CV] ....................... , score=0.6993220602400593, total=   4.3s\n",
      "[CV]  ................................................................\n"
     ]
    },
    {
     "name": "stderr",
     "output_type": "stream",
     "text": [
      "[Parallel(n_jobs=1)]: Done   3 out of   3 | elapsed:   13.3s remaining:    0.0s\n"
     ]
    },
    {
     "name": "stdout",
     "output_type": "stream",
     "text": [
      "[CV] ....................... , score=0.7025391048893084, total=   4.4s\n",
      "[CV]  ................................................................\n"
     ]
    },
    {
     "name": "stderr",
     "output_type": "stream",
     "text": [
      "[Parallel(n_jobs=1)]: Done   4 out of   4 | elapsed:   17.7s remaining:    0.0s\n"
     ]
    },
    {
     "name": "stdout",
     "output_type": "stream",
     "text": [
      "[CV] ....................... , score=0.6980141257980121, total=   4.5s\n"
     ]
    },
    {
     "name": "stderr",
     "output_type": "stream",
     "text": [
      "[Parallel(n_jobs=1)]: Done   5 out of   5 | elapsed:   22.3s finished\n"
     ]
    }
   ],
   "source": [
    "from sklearn.ensemble import RandomForestClassifier\n",
    "\n",
    "# initiate randomforest classifier and cross validation method with stratifiedkfold\n",
    "rf = RandomForestClassifier()\n",
    "skfolds = StratifiedKFold(n_splits=5, shuffle=True, random_state=42)\n",
    "\n",
    "# transform X_train\n",
    "X_train_transformed = RobustScaler().fit_transform(X_train)\n",
    "\n",
    "# build baseline model\n",
    "rf_baseline_cv = cross_val_score(rf, X_train_transformed, y_train,\n",
    "                                scoring = 'roc_auc', cv = skfolds, verbose = 5)"
   ]
  },
  {
   "cell_type": "code",
   "execution_count": 42,
   "metadata": {},
   "outputs": [
    {
     "data": {
      "text/plain": [
       "0.700249022879746"
      ]
     },
     "execution_count": 42,
     "metadata": {},
     "output_type": "execute_result"
    }
   ],
   "source": [
    "rf_baseline_cv.mean()"
   ]
  },
  {
   "cell_type": "markdown",
   "metadata": {},
   "source": [
    "### XGBoost Classifier"
   ]
  },
  {
   "cell_type": "code",
   "execution_count": 60,
   "metadata": {},
   "outputs": [
    {
     "name": "stdout",
     "output_type": "stream",
     "text": [
      "[CV]  ................................................................\n",
      "[CV] ....................... , score=0.8075904192196548, total=  42.9s\n",
      "[CV]  ................................................................\n"
     ]
    },
    {
     "name": "stderr",
     "output_type": "stream",
     "text": [
      "[Parallel(n_jobs=1)]: Done   1 out of   1 | elapsed:   43.0s remaining:    0.0s\n"
     ]
    },
    {
     "name": "stdout",
     "output_type": "stream",
     "text": [
      "[CV] ....................... , score=0.8087575165118773, total=  41.0s\n",
      "[CV]  ................................................................\n"
     ]
    },
    {
     "name": "stderr",
     "output_type": "stream",
     "text": [
      "[Parallel(n_jobs=1)]: Done   2 out of   2 | elapsed:  1.4min remaining:    0.0s\n"
     ]
    },
    {
     "name": "stdout",
     "output_type": "stream",
     "text": [
      "[CV] ....................... , score=0.8027782894847241, total=  41.2s\n",
      "[CV]  ................................................................\n"
     ]
    },
    {
     "name": "stderr",
     "output_type": "stream",
     "text": [
      "[Parallel(n_jobs=1)]: Done   3 out of   3 | elapsed:  2.1min remaining:    0.0s\n"
     ]
    },
    {
     "name": "stdout",
     "output_type": "stream",
     "text": [
      "[CV] ....................... , score=0.8056252018974402, total=  44.0s\n",
      "[CV]  ................................................................\n"
     ]
    },
    {
     "name": "stderr",
     "output_type": "stream",
     "text": [
      "[Parallel(n_jobs=1)]: Done   4 out of   4 | elapsed:  2.8min remaining:    0.0s\n"
     ]
    },
    {
     "name": "stdout",
     "output_type": "stream",
     "text": [
      "[CV] ........................ , score=0.803222975265746, total=  40.5s\n"
     ]
    },
    {
     "name": "stderr",
     "output_type": "stream",
     "text": [
      "[Parallel(n_jobs=1)]: Done   5 out of   5 | elapsed:  3.5min finished\n"
     ]
    }
   ],
   "source": [
    "from xgboost import XGBClassifier\n",
    "\n",
    "# initiate classifier\n",
    "xgb = XGBClassifier()\n",
    "skfolds = StratifiedKFold(n_splits=5, shuffle=True, random_state=42)\n",
    "\n",
    "# build baseline model\n",
    "xgb_baseline_cv = cross_val_score(xgb, X_train_transformed, y_train,\n",
    "                                 scoring = 'roc_auc', cv = skfolds, verbose = 5)"
   ]
  },
  {
   "cell_type": "code",
   "execution_count": 61,
   "metadata": {},
   "outputs": [
    {
     "data": {
      "text/plain": [
       "0.8055948804758885"
      ]
     },
     "execution_count": 61,
     "metadata": {},
     "output_type": "execute_result"
    }
   ],
   "source": [
    "xgb_baseline_cv.mean()"
   ]
  },
  {
   "cell_type": "markdown",
   "metadata": {},
   "source": [
    "### Light GBM"
   ]
  },
  {
   "cell_type": "code",
   "execution_count": 65,
   "metadata": {},
   "outputs": [
    {
     "name": "stdout",
     "output_type": "stream",
     "text": [
      "[CV]  ................................................................\n",
      "[CV] ....................... , score=0.8215464859602994, total=   2.6s\n",
      "[CV]  ................................................................\n"
     ]
    },
    {
     "name": "stderr",
     "output_type": "stream",
     "text": [
      "[Parallel(n_jobs=1)]: Done   1 out of   1 | elapsed:    2.7s remaining:    0.0s\n"
     ]
    },
    {
     "name": "stdout",
     "output_type": "stream",
     "text": [
      "[CV] ....................... , score=0.8226925047300788, total=   2.6s\n",
      "[CV]  ................................................................\n"
     ]
    },
    {
     "name": "stderr",
     "output_type": "stream",
     "text": [
      "[Parallel(n_jobs=1)]: Done   2 out of   2 | elapsed:    5.3s remaining:    0.0s\n"
     ]
    },
    {
     "name": "stdout",
     "output_type": "stream",
     "text": [
      "[CV] ....................... , score=0.8178516429884275, total=   2.6s\n",
      "[CV]  ................................................................\n"
     ]
    },
    {
     "name": "stderr",
     "output_type": "stream",
     "text": [
      "[Parallel(n_jobs=1)]: Done   3 out of   3 | elapsed:    8.0s remaining:    0.0s\n"
     ]
    },
    {
     "name": "stdout",
     "output_type": "stream",
     "text": [
      "[CV] ....................... , score=0.8188933027791931, total=   2.7s\n",
      "[CV]  ................................................................\n"
     ]
    },
    {
     "name": "stderr",
     "output_type": "stream",
     "text": [
      "[Parallel(n_jobs=1)]: Done   4 out of   4 | elapsed:   10.7s remaining:    0.0s\n"
     ]
    },
    {
     "name": "stdout",
     "output_type": "stream",
     "text": [
      "[CV] ....................... , score=0.8160232586204668, total=   2.5s\n"
     ]
    },
    {
     "name": "stderr",
     "output_type": "stream",
     "text": [
      "[Parallel(n_jobs=1)]: Done   5 out of   5 | elapsed:   13.2s finished\n"
     ]
    }
   ],
   "source": [
    "from lightgbm import LGBMClassifier\n",
    "\n",
    "# initiate MLP classifier\n",
    "lgb = LGBMClassifier()\n",
    "\n",
    "# build baseline model\n",
    "lgb_baseline_cv = cross_val_score(lgb, X_train_transformed, y_train,\n",
    "                                 scoring = 'roc_auc', cv = skfolds, verbose = 5)"
   ]
  },
  {
   "cell_type": "code",
   "execution_count": 66,
   "metadata": {},
   "outputs": [
    {
     "data": {
      "text/plain": [
       "0.8194014390156932"
      ]
     },
     "execution_count": 66,
     "metadata": {},
     "output_type": "execute_result"
    }
   ],
   "source": [
    "lgb_baseline_cv.mean()"
   ]
  },
  {
   "cell_type": "markdown",
   "metadata": {},
   "source": [
    "### Neurnal network (Multi perceptron classifier)"
   ]
  },
  {
   "cell_type": "code",
   "execution_count": 43,
   "metadata": {},
   "outputs": [
    {
     "name": "stdout",
     "output_type": "stream",
     "text": [
      "[CV]  ................................................................\n",
      "[CV] ....................... , score=0.8139145899330709, total=  58.1s\n",
      "[CV]  ................................................................\n"
     ]
    },
    {
     "name": "stderr",
     "output_type": "stream",
     "text": [
      "[Parallel(n_jobs=1)]: Done   1 out of   1 | elapsed:   58.2s remaining:    0.0s\n"
     ]
    },
    {
     "name": "stdout",
     "output_type": "stream",
     "text": [
      "[CV] ....................... , score=0.8154220576577981, total=  27.0s\n",
      "[CV]  ................................................................\n"
     ]
    },
    {
     "name": "stderr",
     "output_type": "stream",
     "text": [
      "[Parallel(n_jobs=1)]: Done   2 out of   2 | elapsed:  1.4min remaining:    0.0s\n"
     ]
    },
    {
     "name": "stdout",
     "output_type": "stream",
     "text": [
      "[CV] ....................... , score=0.8112569039237565, total=  47.3s\n",
      "[CV]  ................................................................\n"
     ]
    },
    {
     "name": "stderr",
     "output_type": "stream",
     "text": [
      "[Parallel(n_jobs=1)]: Done   3 out of   3 | elapsed:  2.2min remaining:    0.0s\n"
     ]
    },
    {
     "name": "stdout",
     "output_type": "stream",
     "text": [
      "[CV] ....................... , score=0.8106311428084588, total=  58.3s\n",
      "[CV]  ................................................................\n"
     ]
    },
    {
     "name": "stderr",
     "output_type": "stream",
     "text": [
      "[Parallel(n_jobs=1)]: Done   4 out of   4 | elapsed:  3.2min remaining:    0.0s\n"
     ]
    },
    {
     "name": "stdout",
     "output_type": "stream",
     "text": [
      "[CV] ....................... , score=0.8079641083843647, total=  45.0s\n"
     ]
    },
    {
     "name": "stderr",
     "output_type": "stream",
     "text": [
      "[Parallel(n_jobs=1)]: Done   5 out of   5 | elapsed:  3.9min finished\n"
     ]
    }
   ],
   "source": [
    "from sklearn.neural_network import MLPClassifier\n",
    "\n",
    "# initiate MLP classifier and cross validation method with stratifiedkfold\n",
    "mlp = MLPClassifier()\n",
    "skfolds = StratifiedKFold(n_splits=5, shuffle=True, random_state=42)\n",
    "\n",
    "# transform X_train\n",
    "X_train_transformed = RobustScaler().fit_transform(X_train)\n",
    "\n",
    "# build baseline model\n",
    "mlp_baseline_cv = cross_val_score(mlp, X_train_transformed, y_train,\n",
    "                                scoring = 'roc_auc', cv = skfolds, verbose = 5)"
   ]
  },
  {
   "cell_type": "code",
   "execution_count": 44,
   "metadata": {
    "scrolled": true
   },
   "outputs": [
    {
     "data": {
      "text/plain": [
       "0.8118377605414897"
      ]
     },
     "execution_count": 44,
     "metadata": {},
     "output_type": "execute_result"
    }
   ],
   "source": [
    "mlp_baseline_cv.mean()"
   ]
  },
  {
   "cell_type": "markdown",
   "metadata": {},
   "source": [
    "### Baseline model accuracy summary"
   ]
  },
  {
   "cell_type": "code",
   "execution_count": 100,
   "metadata": {
    "scrolled": true
   },
   "outputs": [
    {
     "data": {
      "text/html": [
       "<div>\n",
       "<style scoped>\n",
       "    .dataframe tbody tr th:only-of-type {\n",
       "        vertical-align: middle;\n",
       "    }\n",
       "\n",
       "    .dataframe tbody tr th {\n",
       "        vertical-align: top;\n",
       "    }\n",
       "\n",
       "    .dataframe thead th {\n",
       "        text-align: right;\n",
       "    }\n",
       "</style>\n",
       "<table border=\"1\" class=\"dataframe\">\n",
       "  <thead>\n",
       "    <tr style=\"text-align: right;\">\n",
       "      <th></th>\n",
       "      <th>model</th>\n",
       "      <th>baseline_mean_CV_score</th>\n",
       "    </tr>\n",
       "  </thead>\n",
       "  <tbody>\n",
       "    <tr>\n",
       "      <th>3</th>\n",
       "      <td>light GBM classifier</td>\n",
       "      <td>0.819401</td>\n",
       "    </tr>\n",
       "    <tr>\n",
       "      <th>4</th>\n",
       "      <td>MLP Classifier</td>\n",
       "      <td>0.811838</td>\n",
       "    </tr>\n",
       "    <tr>\n",
       "      <th>2</th>\n",
       "      <td>xgboost classifier</td>\n",
       "      <td>0.805595</td>\n",
       "    </tr>\n",
       "    <tr>\n",
       "      <th>0</th>\n",
       "      <td>logistic regression</td>\n",
       "      <td>0.751201</td>\n",
       "    </tr>\n",
       "    <tr>\n",
       "      <th>1</th>\n",
       "      <td>random forest classifier</td>\n",
       "      <td>0.700249</td>\n",
       "    </tr>\n",
       "  </tbody>\n",
       "</table>\n",
       "</div>"
      ],
      "text/plain": [
       "                      model baseline_mean_CV_score\n",
       "3      light GBM classifier               0.819401\n",
       "4            MLP Classifier               0.811838\n",
       "2        xgboost classifier               0.805595\n",
       "0       logistic regression               0.751201\n",
       "1  random forest classifier               0.700249"
      ]
     },
     "execution_count": 100,
     "metadata": {},
     "output_type": "execute_result"
    }
   ],
   "source": [
    "rocauc_scores = pd.DataFrame(columns = ['model', 'baseline_mean_CV_score'])\n",
    "rocauc_scores.loc[0, :] = ['logistic regression', lr_baseline_cv.mean()]\n",
    "rocauc_scores.loc[1, :] = ['random forest classifier', rf_baseline_cv.mean()]\n",
    "rocauc_scores.loc[2, :] = ['xgboost classifier', xgb_baseline_cv.mean()]\n",
    "rocauc_scores.loc[3, :] = ['light GBM classifier', lgb_baseline_cv.mean()]\n",
    "rocauc_scores.loc[4, :] = ['MLP Classifier', mlp_baseline_cv.mean()]\n",
    "rocauc_scores.sort_values('baseline_mean_CV_score', ascending = False)"
   ]
  },
  {
   "cell_type": "markdown",
   "metadata": {},
   "source": [
    "## Tuned models"
   ]
  },
  {
   "cell_type": "code",
   "execution_count": 86,
   "metadata": {},
   "outputs": [],
   "source": [
    "from sklearn.model_selection import RandomizedSearchCV, GridSearchCV"
   ]
  },
  {
   "cell_type": "markdown",
   "metadata": {},
   "source": [
    "### Light GBM tuned"
   ]
  },
  {
   "cell_type": "code",
   "execution_count": 80,
   "metadata": {
    "scrolled": true
   },
   "outputs": [
    {
     "name": "stdout",
     "output_type": "stream",
     "text": [
      "Fitting 5 folds for each of 10 candidates, totalling 50 fits\n",
      "[CV] num_leaves=10, learning_rate=0.3, boosting_type=gbdt ............\n"
     ]
    },
    {
     "name": "stderr",
     "output_type": "stream",
     "text": [
      "/Users/jk6653284/anaconda/lib/python3.6/site-packages/sklearn/preprocessing/label.py:151: DeprecationWarning: The truth value of an empty array is ambiguous. Returning False, but in future this will result in an error. Use `array.size > 0` to check that an array is not empty.\n",
      "  if diff:\n",
      "/Users/jk6653284/anaconda/lib/python3.6/site-packages/sklearn/preprocessing/label.py:151: DeprecationWarning: The truth value of an empty array is ambiguous. Returning False, but in future this will result in an error. Use `array.size > 0` to check that an array is not empty.\n",
      "  if diff:\n",
      "[Parallel(n_jobs=1)]: Done   1 out of   1 | elapsed:    1.7s remaining:    0.0s\n"
     ]
    },
    {
     "name": "stdout",
     "output_type": "stream",
     "text": [
      "[CV]  num_leaves=10, learning_rate=0.3, boosting_type=gbdt, score=0.9360861934477379, total=   1.5s\n",
      "[CV] num_leaves=10, learning_rate=0.3, boosting_type=gbdt ............\n"
     ]
    },
    {
     "name": "stderr",
     "output_type": "stream",
     "text": [
      "/Users/jk6653284/anaconda/lib/python3.6/site-packages/sklearn/preprocessing/label.py:151: DeprecationWarning: The truth value of an empty array is ambiguous. Returning False, but in future this will result in an error. Use `array.size > 0` to check that an array is not empty.\n",
      "  if diff:\n",
      "/Users/jk6653284/anaconda/lib/python3.6/site-packages/sklearn/preprocessing/label.py:151: DeprecationWarning: The truth value of an empty array is ambiguous. Returning False, but in future this will result in an error. Use `array.size > 0` to check that an array is not empty.\n",
      "  if diff:\n",
      "[Parallel(n_jobs=1)]: Done   2 out of   2 | elapsed:    3.5s remaining:    0.0s\n"
     ]
    },
    {
     "name": "stdout",
     "output_type": "stream",
     "text": [
      "[CV]  num_leaves=10, learning_rate=0.3, boosting_type=gbdt, score=0.9360211908476339, total=   1.5s\n",
      "[CV] num_leaves=10, learning_rate=0.3, boosting_type=gbdt ............\n"
     ]
    },
    {
     "name": "stderr",
     "output_type": "stream",
     "text": [
      "/Users/jk6653284/anaconda/lib/python3.6/site-packages/sklearn/preprocessing/label.py:151: DeprecationWarning: The truth value of an empty array is ambiguous. Returning False, but in future this will result in an error. Use `array.size > 0` to check that an array is not empty.\n",
      "  if diff:\n",
      "/Users/jk6653284/anaconda/lib/python3.6/site-packages/sklearn/preprocessing/label.py:151: DeprecationWarning: The truth value of an empty array is ambiguous. Returning False, but in future this will result in an error. Use `array.size > 0` to check that an array is not empty.\n",
      "  if diff:\n",
      "[Parallel(n_jobs=1)]: Done   3 out of   3 | elapsed:    5.2s remaining:    0.0s\n"
     ]
    },
    {
     "name": "stdout",
     "output_type": "stream",
     "text": [
      "[CV]  num_leaves=10, learning_rate=0.3, boosting_type=gbdt, score=0.9359063947347038, total=   1.5s\n",
      "[CV] num_leaves=10, learning_rate=0.3, boosting_type=gbdt ............\n"
     ]
    },
    {
     "name": "stderr",
     "output_type": "stream",
     "text": [
      "/Users/jk6653284/anaconda/lib/python3.6/site-packages/sklearn/preprocessing/label.py:151: DeprecationWarning: The truth value of an empty array is ambiguous. Returning False, but in future this will result in an error. Use `array.size > 0` to check that an array is not empty.\n",
      "  if diff:\n",
      "/Users/jk6653284/anaconda/lib/python3.6/site-packages/sklearn/preprocessing/label.py:151: DeprecationWarning: The truth value of an empty array is ambiguous. Returning False, but in future this will result in an error. Use `array.size > 0` to check that an array is not empty.\n",
      "  if diff:\n",
      "[Parallel(n_jobs=1)]: Done   4 out of   4 | elapsed:    7.1s remaining:    0.0s\n"
     ]
    },
    {
     "name": "stdout",
     "output_type": "stream",
     "text": [
      "[CV]  num_leaves=10, learning_rate=0.3, boosting_type=gbdt, score=0.9359551474770456, total=   1.5s\n",
      "[CV] num_leaves=10, learning_rate=0.3, boosting_type=gbdt ............\n"
     ]
    },
    {
     "name": "stderr",
     "output_type": "stream",
     "text": [
      "/Users/jk6653284/anaconda/lib/python3.6/site-packages/sklearn/preprocessing/label.py:151: DeprecationWarning: The truth value of an empty array is ambiguous. Returning False, but in future this will result in an error. Use `array.size > 0` to check that an array is not empty.\n",
      "  if diff:\n",
      "/Users/jk6653284/anaconda/lib/python3.6/site-packages/sklearn/preprocessing/label.py:151: DeprecationWarning: The truth value of an empty array is ambiguous. Returning False, but in future this will result in an error. Use `array.size > 0` to check that an array is not empty.\n",
      "  if diff:\n"
     ]
    },
    {
     "name": "stdout",
     "output_type": "stream",
     "text": [
      "[CV]  num_leaves=10, learning_rate=0.3, boosting_type=gbdt, score=0.9359713983911595, total=   1.5s\n",
      "[CV] num_leaves=20, learning_rate=0.3, boosting_type=gbdt ............\n"
     ]
    },
    {
     "name": "stderr",
     "output_type": "stream",
     "text": [
      "/Users/jk6653284/anaconda/lib/python3.6/site-packages/sklearn/preprocessing/label.py:151: DeprecationWarning: The truth value of an empty array is ambiguous. Returning False, but in future this will result in an error. Use `array.size > 0` to check that an array is not empty.\n",
      "  if diff:\n",
      "/Users/jk6653284/anaconda/lib/python3.6/site-packages/sklearn/preprocessing/label.py:151: DeprecationWarning: The truth value of an empty array is ambiguous. Returning False, but in future this will result in an error. Use `array.size > 0` to check that an array is not empty.\n",
      "  if diff:\n"
     ]
    },
    {
     "name": "stdout",
     "output_type": "stream",
     "text": [
      "[CV]  num_leaves=20, learning_rate=0.3, boosting_type=gbdt, score=0.9359886895475819, total=   1.8s\n",
      "[CV] num_leaves=20, learning_rate=0.3, boosting_type=gbdt ............\n"
     ]
    },
    {
     "name": "stderr",
     "output_type": "stream",
     "text": [
      "/Users/jk6653284/anaconda/lib/python3.6/site-packages/sklearn/preprocessing/label.py:151: DeprecationWarning: The truth value of an empty array is ambiguous. Returning False, but in future this will result in an error. Use `array.size > 0` to check that an array is not empty.\n",
      "  if diff:\n",
      "/Users/jk6653284/anaconda/lib/python3.6/site-packages/sklearn/preprocessing/label.py:151: DeprecationWarning: The truth value of an empty array is ambiguous. Returning False, but in future this will result in an error. Use `array.size > 0` to check that an array is not empty.\n",
      "  if diff:\n"
     ]
    },
    {
     "name": "stdout",
     "output_type": "stream",
     "text": [
      "[CV]  num_leaves=20, learning_rate=0.3, boosting_type=gbdt, score=0.9356636765470618, total=   1.9s\n",
      "[CV] num_leaves=20, learning_rate=0.3, boosting_type=gbdt ............\n"
     ]
    },
    {
     "name": "stderr",
     "output_type": "stream",
     "text": [
      "/Users/jk6653284/anaconda/lib/python3.6/site-packages/sklearn/preprocessing/label.py:151: DeprecationWarning: The truth value of an empty array is ambiguous. Returning False, but in future this will result in an error. Use `array.size > 0` to check that an array is not empty.\n",
      "  if diff:\n",
      "/Users/jk6653284/anaconda/lib/python3.6/site-packages/sklearn/preprocessing/label.py:151: DeprecationWarning: The truth value of an empty array is ambiguous. Returning False, but in future this will result in an error. Use `array.size > 0` to check that an array is not empty.\n",
      "  if diff:\n"
     ]
    },
    {
     "name": "stdout",
     "output_type": "stream",
     "text": [
      "[CV]  num_leaves=20, learning_rate=0.3, boosting_type=gbdt, score=0.9359063947347038, total=   2.3s\n",
      "[CV] num_leaves=20, learning_rate=0.3, boosting_type=gbdt ............\n"
     ]
    },
    {
     "name": "stderr",
     "output_type": "stream",
     "text": [
      "/Users/jk6653284/anaconda/lib/python3.6/site-packages/sklearn/preprocessing/label.py:151: DeprecationWarning: The truth value of an empty array is ambiguous. Returning False, but in future this will result in an error. Use `array.size > 0` to check that an array is not empty.\n",
      "  if diff:\n",
      "/Users/jk6653284/anaconda/lib/python3.6/site-packages/sklearn/preprocessing/label.py:151: DeprecationWarning: The truth value of an empty array is ambiguous. Returning False, but in future this will result in an error. Use `array.size > 0` to check that an array is not empty.\n",
      "  if diff:\n"
     ]
    },
    {
     "name": "stdout",
     "output_type": "stream",
     "text": [
      "[CV]  num_leaves=20, learning_rate=0.3, boosting_type=gbdt, score=0.9354351182254002, total=   2.1s\n",
      "[CV] num_leaves=20, learning_rate=0.3, boosting_type=gbdt ............\n"
     ]
    },
    {
     "name": "stderr",
     "output_type": "stream",
     "text": [
      "/Users/jk6653284/anaconda/lib/python3.6/site-packages/sklearn/preprocessing/label.py:151: DeprecationWarning: The truth value of an empty array is ambiguous. Returning False, but in future this will result in an error. Use `array.size > 0` to check that an array is not empty.\n",
      "  if diff:\n",
      "/Users/jk6653284/anaconda/lib/python3.6/site-packages/sklearn/preprocessing/label.py:151: DeprecationWarning: The truth value of an empty array is ambiguous. Returning False, but in future this will result in an error. Use `array.size > 0` to check that an array is not empty.\n",
      "  if diff:\n"
     ]
    },
    {
     "name": "stdout",
     "output_type": "stream",
     "text": [
      "[CV]  num_leaves=20, learning_rate=0.3, boosting_type=gbdt, score=0.9354351182254002, total=   2.3s\n",
      "[CV] num_leaves=40, learning_rate=0.01, boosting_type=gbdt ...........\n"
     ]
    },
    {
     "name": "stderr",
     "output_type": "stream",
     "text": [
      "/Users/jk6653284/anaconda/lib/python3.6/site-packages/sklearn/preprocessing/label.py:151: DeprecationWarning: The truth value of an empty array is ambiguous. Returning False, but in future this will result in an error. Use `array.size > 0` to check that an array is not empty.\n",
      "  if diff:\n",
      "/Users/jk6653284/anaconda/lib/python3.6/site-packages/sklearn/preprocessing/label.py:151: DeprecationWarning: The truth value of an empty array is ambiguous. Returning False, but in future this will result in an error. Use `array.size > 0` to check that an array is not empty.\n",
      "  if diff:\n"
     ]
    },
    {
     "name": "stdout",
     "output_type": "stream",
     "text": [
      "[CV]  num_leaves=40, learning_rate=0.01, boosting_type=gbdt, score=0.9361349453978159, total=   3.6s\n",
      "[CV] num_leaves=40, learning_rate=0.01, boosting_type=gbdt ...........\n"
     ]
    },
    {
     "name": "stderr",
     "output_type": "stream",
     "text": [
      "/Users/jk6653284/anaconda/lib/python3.6/site-packages/sklearn/preprocessing/label.py:151: DeprecationWarning: The truth value of an empty array is ambiguous. Returning False, but in future this will result in an error. Use `array.size > 0` to check that an array is not empty.\n",
      "  if diff:\n",
      "/Users/jk6653284/anaconda/lib/python3.6/site-packages/sklearn/preprocessing/label.py:151: DeprecationWarning: The truth value of an empty array is ambiguous. Returning False, but in future this will result in an error. Use `array.size > 0` to check that an array is not empty.\n",
      "  if diff:\n"
     ]
    },
    {
     "name": "stdout",
     "output_type": "stream",
     "text": [
      "[CV]  num_leaves=40, learning_rate=0.01, boosting_type=gbdt, score=0.9361349453978159, total=   3.5s\n",
      "[CV] num_leaves=40, learning_rate=0.01, boosting_type=gbdt ...........\n"
     ]
    },
    {
     "name": "stderr",
     "output_type": "stream",
     "text": [
      "/Users/jk6653284/anaconda/lib/python3.6/site-packages/sklearn/preprocessing/label.py:151: DeprecationWarning: The truth value of an empty array is ambiguous. Returning False, but in future this will result in an error. Use `array.size > 0` to check that an array is not empty.\n",
      "  if diff:\n",
      "/Users/jk6653284/anaconda/lib/python3.6/site-packages/sklearn/preprocessing/label.py:151: DeprecationWarning: The truth value of an empty array is ambiguous. Returning False, but in future this will result in an error. Use `array.size > 0` to check that an array is not empty.\n",
      "  if diff:\n"
     ]
    },
    {
     "name": "stdout",
     "output_type": "stream",
     "text": [
      "[CV]  num_leaves=40, learning_rate=0.01, boosting_type=gbdt, score=0.9361501584464126, total=   3.3s\n",
      "[CV] num_leaves=40, learning_rate=0.01, boosting_type=gbdt ...........\n"
     ]
    },
    {
     "name": "stderr",
     "output_type": "stream",
     "text": [
      "/Users/jk6653284/anaconda/lib/python3.6/site-packages/sklearn/preprocessing/label.py:151: DeprecationWarning: The truth value of an empty array is ambiguous. Returning False, but in future this will result in an error. Use `array.size > 0` to check that an array is not empty.\n",
      "  if diff:\n",
      "/Users/jk6653284/anaconda/lib/python3.6/site-packages/sklearn/preprocessing/label.py:151: DeprecationWarning: The truth value of an empty array is ambiguous. Returning False, but in future this will result in an error. Use `array.size > 0` to check that an array is not empty.\n",
      "  if diff:\n"
     ]
    },
    {
     "name": "stdout",
     "output_type": "stream",
     "text": [
      "[CV]  num_leaves=40, learning_rate=0.01, boosting_type=gbdt, score=0.9361176566181848, total=   3.3s\n",
      "[CV] num_leaves=40, learning_rate=0.01, boosting_type=gbdt ...........\n"
     ]
    },
    {
     "name": "stderr",
     "output_type": "stream",
     "text": [
      "/Users/jk6653284/anaconda/lib/python3.6/site-packages/sklearn/preprocessing/label.py:151: DeprecationWarning: The truth value of an empty array is ambiguous. Returning False, but in future this will result in an error. Use `array.size > 0` to check that an array is not empty.\n",
      "  if diff:\n",
      "/Users/jk6653284/anaconda/lib/python3.6/site-packages/sklearn/preprocessing/label.py:151: DeprecationWarning: The truth value of an empty array is ambiguous. Returning False, but in future this will result in an error. Use `array.size > 0` to check that an array is not empty.\n",
      "  if diff:\n"
     ]
    },
    {
     "name": "stdout",
     "output_type": "stream",
     "text": [
      "[CV]  num_leaves=40, learning_rate=0.01, boosting_type=gbdt, score=0.9361501584464126, total=   3.1s\n",
      "[CV] num_leaves=40, learning_rate=0.1, boosting_type=gbdt ............\n"
     ]
    },
    {
     "name": "stderr",
     "output_type": "stream",
     "text": [
      "/Users/jk6653284/anaconda/lib/python3.6/site-packages/sklearn/preprocessing/label.py:151: DeprecationWarning: The truth value of an empty array is ambiguous. Returning False, but in future this will result in an error. Use `array.size > 0` to check that an array is not empty.\n",
      "  if diff:\n",
      "/Users/jk6653284/anaconda/lib/python3.6/site-packages/sklearn/preprocessing/label.py:151: DeprecationWarning: The truth value of an empty array is ambiguous. Returning False, but in future this will result in an error. Use `array.size > 0` to check that an array is not empty.\n",
      "  if diff:\n"
     ]
    },
    {
     "name": "stdout",
     "output_type": "stream",
     "text": [
      "[CV]  num_leaves=40, learning_rate=0.1, boosting_type=gbdt, score=0.9360536921476859, total=   2.7s\n",
      "[CV] num_leaves=40, learning_rate=0.1, boosting_type=gbdt ............\n"
     ]
    },
    {
     "name": "stderr",
     "output_type": "stream",
     "text": [
      "/Users/jk6653284/anaconda/lib/python3.6/site-packages/sklearn/preprocessing/label.py:151: DeprecationWarning: The truth value of an empty array is ambiguous. Returning False, but in future this will result in an error. Use `array.size > 0` to check that an array is not empty.\n",
      "  if diff:\n",
      "/Users/jk6653284/anaconda/lib/python3.6/site-packages/sklearn/preprocessing/label.py:151: DeprecationWarning: The truth value of an empty array is ambiguous. Returning False, but in future this will result in an error. Use `array.size > 0` to check that an array is not empty.\n",
      "  if diff:\n"
     ]
    },
    {
     "name": "stdout",
     "output_type": "stream",
     "text": [
      "[CV]  num_leaves=40, learning_rate=0.1, boosting_type=gbdt, score=0.9361511960478419, total=   3.1s\n",
      "[CV] num_leaves=40, learning_rate=0.1, boosting_type=gbdt ............\n"
     ]
    },
    {
     "name": "stderr",
     "output_type": "stream",
     "text": [
      "/Users/jk6653284/anaconda/lib/python3.6/site-packages/sklearn/preprocessing/label.py:151: DeprecationWarning: The truth value of an empty array is ambiguous. Returning False, but in future this will result in an error. Use `array.size > 0` to check that an array is not empty.\n",
      "  if diff:\n",
      "/Users/jk6653284/anaconda/lib/python3.6/site-packages/sklearn/preprocessing/label.py:151: DeprecationWarning: The truth value of an empty array is ambiguous. Returning False, but in future this will result in an error. Use `array.size > 0` to check that an array is not empty.\n",
      "  if diff:\n"
     ]
    },
    {
     "name": "stdout",
     "output_type": "stream",
     "text": [
      "[CV]  num_leaves=40, learning_rate=0.1, boosting_type=gbdt, score=0.9361664093605265, total=   3.3s\n",
      "[CV] num_leaves=40, learning_rate=0.1, boosting_type=gbdt ............\n"
     ]
    },
    {
     "name": "stderr",
     "output_type": "stream",
     "text": [
      "/Users/jk6653284/anaconda/lib/python3.6/site-packages/sklearn/preprocessing/label.py:151: DeprecationWarning: The truth value of an empty array is ambiguous. Returning False, but in future this will result in an error. Use `array.size > 0` to check that an array is not empty.\n",
      "  if diff:\n",
      "/Users/jk6653284/anaconda/lib/python3.6/site-packages/sklearn/preprocessing/label.py:151: DeprecationWarning: The truth value of an empty array is ambiguous. Returning False, but in future this will result in an error. Use `array.size > 0` to check that an array is not empty.\n",
      "  if diff:\n"
     ]
    },
    {
     "name": "stdout",
     "output_type": "stream",
     "text": [
      "[CV]  num_leaves=40, learning_rate=0.1, boosting_type=gbdt, score=0.9361176566181848, total=   3.4s\n",
      "[CV] num_leaves=40, learning_rate=0.1, boosting_type=gbdt ............\n"
     ]
    },
    {
     "name": "stderr",
     "output_type": "stream",
     "text": [
      "/Users/jk6653284/anaconda/lib/python3.6/site-packages/sklearn/preprocessing/label.py:151: DeprecationWarning: The truth value of an empty array is ambiguous. Returning False, but in future this will result in an error. Use `array.size > 0` to check that an array is not empty.\n",
      "  if diff:\n",
      "/Users/jk6653284/anaconda/lib/python3.6/site-packages/sklearn/preprocessing/label.py:151: DeprecationWarning: The truth value of an empty array is ambiguous. Returning False, but in future this will result in an error. Use `array.size > 0` to check that an array is not empty.\n",
      "  if diff:\n"
     ]
    },
    {
     "name": "stdout",
     "output_type": "stream",
     "text": [
      "[CV]  num_leaves=40, learning_rate=0.1, boosting_type=gbdt, score=0.9361826602746405, total=   2.9s\n",
      "[CV] num_leaves=10, learning_rate=0.1, boosting_type=gbdt ............\n"
     ]
    },
    {
     "name": "stderr",
     "output_type": "stream",
     "text": [
      "/Users/jk6653284/anaconda/lib/python3.6/site-packages/sklearn/preprocessing/label.py:151: DeprecationWarning: The truth value of an empty array is ambiguous. Returning False, but in future this will result in an error. Use `array.size > 0` to check that an array is not empty.\n",
      "  if diff:\n",
      "/Users/jk6653284/anaconda/lib/python3.6/site-packages/sklearn/preprocessing/label.py:151: DeprecationWarning: The truth value of an empty array is ambiguous. Returning False, but in future this will result in an error. Use `array.size > 0` to check that an array is not empty.\n",
      "  if diff:\n"
     ]
    },
    {
     "name": "stdout",
     "output_type": "stream",
     "text": [
      "[CV]  num_leaves=10, learning_rate=0.1, boosting_type=gbdt, score=0.9361349453978159, total=   1.6s\n",
      "[CV] num_leaves=10, learning_rate=0.1, boosting_type=gbdt ............\n"
     ]
    },
    {
     "name": "stderr",
     "output_type": "stream",
     "text": [
      "/Users/jk6653284/anaconda/lib/python3.6/site-packages/sklearn/preprocessing/label.py:151: DeprecationWarning: The truth value of an empty array is ambiguous. Returning False, but in future this will result in an error. Use `array.size > 0` to check that an array is not empty.\n",
      "  if diff:\n",
      "/Users/jk6653284/anaconda/lib/python3.6/site-packages/sklearn/preprocessing/label.py:151: DeprecationWarning: The truth value of an empty array is ambiguous. Returning False, but in future this will result in an error. Use `array.size > 0` to check that an array is not empty.\n",
      "  if diff:\n"
     ]
    },
    {
     "name": "stdout",
     "output_type": "stream",
     "text": [
      "[CV]  num_leaves=10, learning_rate=0.1, boosting_type=gbdt, score=0.9361349453978159, total=   1.8s\n",
      "[CV] num_leaves=10, learning_rate=0.1, boosting_type=gbdt ............\n"
     ]
    },
    {
     "name": "stderr",
     "output_type": "stream",
     "text": [
      "/Users/jk6653284/anaconda/lib/python3.6/site-packages/sklearn/preprocessing/label.py:151: DeprecationWarning: The truth value of an empty array is ambiguous. Returning False, but in future this will result in an error. Use `array.size > 0` to check that an array is not empty.\n",
      "  if diff:\n",
      "/Users/jk6653284/anaconda/lib/python3.6/site-packages/sklearn/preprocessing/label.py:151: DeprecationWarning: The truth value of an empty array is ambiguous. Returning False, but in future this will result in an error. Use `array.size > 0` to check that an array is not empty.\n",
      "  if diff:\n"
     ]
    },
    {
     "name": "stdout",
     "output_type": "stream",
     "text": [
      "[CV]  num_leaves=10, learning_rate=0.1, boosting_type=gbdt, score=0.9361501584464126, total=   1.8s\n",
      "[CV] num_leaves=10, learning_rate=0.1, boosting_type=gbdt ............\n"
     ]
    },
    {
     "name": "stderr",
     "output_type": "stream",
     "text": [
      "/Users/jk6653284/anaconda/lib/python3.6/site-packages/sklearn/preprocessing/label.py:151: DeprecationWarning: The truth value of an empty array is ambiguous. Returning False, but in future this will result in an error. Use `array.size > 0` to check that an array is not empty.\n",
      "  if diff:\n",
      "/Users/jk6653284/anaconda/lib/python3.6/site-packages/sklearn/preprocessing/label.py:151: DeprecationWarning: The truth value of an empty array is ambiguous. Returning False, but in future this will result in an error. Use `array.size > 0` to check that an array is not empty.\n",
      "  if diff:\n"
     ]
    },
    {
     "name": "stdout",
     "output_type": "stream",
     "text": [
      "[CV]  num_leaves=10, learning_rate=0.1, boosting_type=gbdt, score=0.9361501584464126, total=   1.8s\n",
      "[CV] num_leaves=10, learning_rate=0.1, boosting_type=gbdt ............\n"
     ]
    },
    {
     "name": "stderr",
     "output_type": "stream",
     "text": [
      "/Users/jk6653284/anaconda/lib/python3.6/site-packages/sklearn/preprocessing/label.py:151: DeprecationWarning: The truth value of an empty array is ambiguous. Returning False, but in future this will result in an error. Use `array.size > 0` to check that an array is not empty.\n",
      "  if diff:\n",
      "/Users/jk6653284/anaconda/lib/python3.6/site-packages/sklearn/preprocessing/label.py:151: DeprecationWarning: The truth value of an empty array is ambiguous. Returning False, but in future this will result in an error. Use `array.size > 0` to check that an array is not empty.\n",
      "  if diff:\n"
     ]
    },
    {
     "name": "stdout",
     "output_type": "stream",
     "text": [
      "[CV]  num_leaves=10, learning_rate=0.1, boosting_type=gbdt, score=0.9361501584464126, total=   1.8s\n",
      "[CV] num_leaves=20, learning_rate=0.1, boosting_type=dart ............\n"
     ]
    },
    {
     "name": "stderr",
     "output_type": "stream",
     "text": [
      "/Users/jk6653284/anaconda/lib/python3.6/site-packages/sklearn/preprocessing/label.py:151: DeprecationWarning: The truth value of an empty array is ambiguous. Returning False, but in future this will result in an error. Use `array.size > 0` to check that an array is not empty.\n",
      "  if diff:\n",
      "/Users/jk6653284/anaconda/lib/python3.6/site-packages/sklearn/preprocessing/label.py:151: DeprecationWarning: The truth value of an empty array is ambiguous. Returning False, but in future this will result in an error. Use `array.size > 0` to check that an array is not empty.\n",
      "  if diff:\n"
     ]
    },
    {
     "name": "stdout",
     "output_type": "stream",
     "text": [
      "[CV]  num_leaves=20, learning_rate=0.1, boosting_type=dart, score=0.9361349453978159, total=   4.0s\n",
      "[CV] num_leaves=20, learning_rate=0.1, boosting_type=dart ............\n"
     ]
    },
    {
     "name": "stderr",
     "output_type": "stream",
     "text": [
      "/Users/jk6653284/anaconda/lib/python3.6/site-packages/sklearn/preprocessing/label.py:151: DeprecationWarning: The truth value of an empty array is ambiguous. Returning False, but in future this will result in an error. Use `array.size > 0` to check that an array is not empty.\n",
      "  if diff:\n",
      "/Users/jk6653284/anaconda/lib/python3.6/site-packages/sklearn/preprocessing/label.py:151: DeprecationWarning: The truth value of an empty array is ambiguous. Returning False, but in future this will result in an error. Use `array.size > 0` to check that an array is not empty.\n",
      "  if diff:\n"
     ]
    },
    {
     "name": "stdout",
     "output_type": "stream",
     "text": [
      "[CV]  num_leaves=20, learning_rate=0.1, boosting_type=dart, score=0.9361349453978159, total=   4.2s\n",
      "[CV] num_leaves=20, learning_rate=0.1, boosting_type=dart ............\n"
     ]
    },
    {
     "name": "stderr",
     "output_type": "stream",
     "text": [
      "/Users/jk6653284/anaconda/lib/python3.6/site-packages/sklearn/preprocessing/label.py:151: DeprecationWarning: The truth value of an empty array is ambiguous. Returning False, but in future this will result in an error. Use `array.size > 0` to check that an array is not empty.\n",
      "  if diff:\n",
      "/Users/jk6653284/anaconda/lib/python3.6/site-packages/sklearn/preprocessing/label.py:151: DeprecationWarning: The truth value of an empty array is ambiguous. Returning False, but in future this will result in an error. Use `array.size > 0` to check that an array is not empty.\n",
      "  if diff:\n"
     ]
    },
    {
     "name": "stdout",
     "output_type": "stream",
     "text": [
      "[CV]  num_leaves=20, learning_rate=0.1, boosting_type=dart, score=0.9361501584464126, total=   4.1s\n",
      "[CV] num_leaves=20, learning_rate=0.1, boosting_type=dart ............\n"
     ]
    },
    {
     "name": "stderr",
     "output_type": "stream",
     "text": [
      "/Users/jk6653284/anaconda/lib/python3.6/site-packages/sklearn/preprocessing/label.py:151: DeprecationWarning: The truth value of an empty array is ambiguous. Returning False, but in future this will result in an error. Use `array.size > 0` to check that an array is not empty.\n",
      "  if diff:\n",
      "/Users/jk6653284/anaconda/lib/python3.6/site-packages/sklearn/preprocessing/label.py:151: DeprecationWarning: The truth value of an empty array is ambiguous. Returning False, but in future this will result in an error. Use `array.size > 0` to check that an array is not empty.\n",
      "  if diff:\n"
     ]
    },
    {
     "name": "stdout",
     "output_type": "stream",
     "text": [
      "[CV]  num_leaves=20, learning_rate=0.1, boosting_type=dart, score=0.9361501584464126, total=   3.9s\n",
      "[CV] num_leaves=20, learning_rate=0.1, boosting_type=dart ............\n"
     ]
    },
    {
     "name": "stderr",
     "output_type": "stream",
     "text": [
      "/Users/jk6653284/anaconda/lib/python3.6/site-packages/sklearn/preprocessing/label.py:151: DeprecationWarning: The truth value of an empty array is ambiguous. Returning False, but in future this will result in an error. Use `array.size > 0` to check that an array is not empty.\n",
      "  if diff:\n",
      "/Users/jk6653284/anaconda/lib/python3.6/site-packages/sklearn/preprocessing/label.py:151: DeprecationWarning: The truth value of an empty array is ambiguous. Returning False, but in future this will result in an error. Use `array.size > 0` to check that an array is not empty.\n",
      "  if diff:\n"
     ]
    },
    {
     "name": "stdout",
     "output_type": "stream",
     "text": [
      "[CV]  num_leaves=20, learning_rate=0.1, boosting_type=dart, score=0.9361501584464126, total=   3.8s\n",
      "[CV] num_leaves=20, learning_rate=0.01, boosting_type=dart ...........\n"
     ]
    },
    {
     "name": "stderr",
     "output_type": "stream",
     "text": [
      "/Users/jk6653284/anaconda/lib/python3.6/site-packages/sklearn/preprocessing/label.py:151: DeprecationWarning: The truth value of an empty array is ambiguous. Returning False, but in future this will result in an error. Use `array.size > 0` to check that an array is not empty.\n",
      "  if diff:\n",
      "/Users/jk6653284/anaconda/lib/python3.6/site-packages/sklearn/preprocessing/label.py:151: DeprecationWarning: The truth value of an empty array is ambiguous. Returning False, but in future this will result in an error. Use `array.size > 0` to check that an array is not empty.\n",
      "  if diff:\n"
     ]
    },
    {
     "name": "stdout",
     "output_type": "stream",
     "text": [
      "[CV]  num_leaves=20, learning_rate=0.01, boosting_type=dart, score=0.9361349453978159, total=   3.5s\n",
      "[CV] num_leaves=20, learning_rate=0.01, boosting_type=dart ...........\n"
     ]
    },
    {
     "name": "stderr",
     "output_type": "stream",
     "text": [
      "/Users/jk6653284/anaconda/lib/python3.6/site-packages/sklearn/preprocessing/label.py:151: DeprecationWarning: The truth value of an empty array is ambiguous. Returning False, but in future this will result in an error. Use `array.size > 0` to check that an array is not empty.\n",
      "  if diff:\n",
      "/Users/jk6653284/anaconda/lib/python3.6/site-packages/sklearn/preprocessing/label.py:151: DeprecationWarning: The truth value of an empty array is ambiguous. Returning False, but in future this will result in an error. Use `array.size > 0` to check that an array is not empty.\n",
      "  if diff:\n"
     ]
    },
    {
     "name": "stdout",
     "output_type": "stream",
     "text": [
      "[CV]  num_leaves=20, learning_rate=0.01, boosting_type=dart, score=0.9361349453978159, total=   3.7s\n",
      "[CV] num_leaves=20, learning_rate=0.01, boosting_type=dart ...........\n"
     ]
    },
    {
     "name": "stderr",
     "output_type": "stream",
     "text": [
      "/Users/jk6653284/anaconda/lib/python3.6/site-packages/sklearn/preprocessing/label.py:151: DeprecationWarning: The truth value of an empty array is ambiguous. Returning False, but in future this will result in an error. Use `array.size > 0` to check that an array is not empty.\n",
      "  if diff:\n",
      "/Users/jk6653284/anaconda/lib/python3.6/site-packages/sklearn/preprocessing/label.py:151: DeprecationWarning: The truth value of an empty array is ambiguous. Returning False, but in future this will result in an error. Use `array.size > 0` to check that an array is not empty.\n",
      "  if diff:\n"
     ]
    },
    {
     "name": "stdout",
     "output_type": "stream",
     "text": [
      "[CV]  num_leaves=20, learning_rate=0.01, boosting_type=dart, score=0.9361501584464126, total=   3.7s\n",
      "[CV] num_leaves=20, learning_rate=0.01, boosting_type=dart ...........\n"
     ]
    },
    {
     "name": "stderr",
     "output_type": "stream",
     "text": [
      "/Users/jk6653284/anaconda/lib/python3.6/site-packages/sklearn/preprocessing/label.py:151: DeprecationWarning: The truth value of an empty array is ambiguous. Returning False, but in future this will result in an error. Use `array.size > 0` to check that an array is not empty.\n",
      "  if diff:\n",
      "/Users/jk6653284/anaconda/lib/python3.6/site-packages/sklearn/preprocessing/label.py:151: DeprecationWarning: The truth value of an empty array is ambiguous. Returning False, but in future this will result in an error. Use `array.size > 0` to check that an array is not empty.\n",
      "  if diff:\n"
     ]
    },
    {
     "name": "stdout",
     "output_type": "stream",
     "text": [
      "[CV]  num_leaves=20, learning_rate=0.01, boosting_type=dart, score=0.9361501584464126, total=   3.7s\n",
      "[CV] num_leaves=20, learning_rate=0.01, boosting_type=dart ...........\n"
     ]
    },
    {
     "name": "stderr",
     "output_type": "stream",
     "text": [
      "/Users/jk6653284/anaconda/lib/python3.6/site-packages/sklearn/preprocessing/label.py:151: DeprecationWarning: The truth value of an empty array is ambiguous. Returning False, but in future this will result in an error. Use `array.size > 0` to check that an array is not empty.\n",
      "  if diff:\n",
      "/Users/jk6653284/anaconda/lib/python3.6/site-packages/sklearn/preprocessing/label.py:151: DeprecationWarning: The truth value of an empty array is ambiguous. Returning False, but in future this will result in an error. Use `array.size > 0` to check that an array is not empty.\n",
      "  if diff:\n"
     ]
    },
    {
     "name": "stdout",
     "output_type": "stream",
     "text": [
      "[CV]  num_leaves=20, learning_rate=0.01, boosting_type=dart, score=0.9361501584464126, total=   3.6s\n",
      "[CV] num_leaves=10, learning_rate=0.01, boosting_type=dart ...........\n"
     ]
    },
    {
     "name": "stderr",
     "output_type": "stream",
     "text": [
      "/Users/jk6653284/anaconda/lib/python3.6/site-packages/sklearn/preprocessing/label.py:151: DeprecationWarning: The truth value of an empty array is ambiguous. Returning False, but in future this will result in an error. Use `array.size > 0` to check that an array is not empty.\n",
      "  if diff:\n",
      "/Users/jk6653284/anaconda/lib/python3.6/site-packages/sklearn/preprocessing/label.py:151: DeprecationWarning: The truth value of an empty array is ambiguous. Returning False, but in future this will result in an error. Use `array.size > 0` to check that an array is not empty.\n",
      "  if diff:\n"
     ]
    },
    {
     "name": "stdout",
     "output_type": "stream",
     "text": [
      "[CV]  num_leaves=10, learning_rate=0.01, boosting_type=dart, score=0.9361349453978159, total=   2.6s\n",
      "[CV] num_leaves=10, learning_rate=0.01, boosting_type=dart ...........\n"
     ]
    },
    {
     "name": "stderr",
     "output_type": "stream",
     "text": [
      "/Users/jk6653284/anaconda/lib/python3.6/site-packages/sklearn/preprocessing/label.py:151: DeprecationWarning: The truth value of an empty array is ambiguous. Returning False, but in future this will result in an error. Use `array.size > 0` to check that an array is not empty.\n",
      "  if diff:\n",
      "/Users/jk6653284/anaconda/lib/python3.6/site-packages/sklearn/preprocessing/label.py:151: DeprecationWarning: The truth value of an empty array is ambiguous. Returning False, but in future this will result in an error. Use `array.size > 0` to check that an array is not empty.\n",
      "  if diff:\n"
     ]
    },
    {
     "name": "stdout",
     "output_type": "stream",
     "text": [
      "[CV]  num_leaves=10, learning_rate=0.01, boosting_type=dart, score=0.9361349453978159, total=   2.9s\n",
      "[CV] num_leaves=10, learning_rate=0.01, boosting_type=dart ...........\n"
     ]
    },
    {
     "name": "stderr",
     "output_type": "stream",
     "text": [
      "/Users/jk6653284/anaconda/lib/python3.6/site-packages/sklearn/preprocessing/label.py:151: DeprecationWarning: The truth value of an empty array is ambiguous. Returning False, but in future this will result in an error. Use `array.size > 0` to check that an array is not empty.\n",
      "  if diff:\n",
      "/Users/jk6653284/anaconda/lib/python3.6/site-packages/sklearn/preprocessing/label.py:151: DeprecationWarning: The truth value of an empty array is ambiguous. Returning False, but in future this will result in an error. Use `array.size > 0` to check that an array is not empty.\n",
      "  if diff:\n"
     ]
    },
    {
     "name": "stdout",
     "output_type": "stream",
     "text": [
      "[CV]  num_leaves=10, learning_rate=0.01, boosting_type=dart, score=0.9361501584464126, total=   2.7s\n",
      "[CV] num_leaves=10, learning_rate=0.01, boosting_type=dart ...........\n"
     ]
    },
    {
     "name": "stderr",
     "output_type": "stream",
     "text": [
      "/Users/jk6653284/anaconda/lib/python3.6/site-packages/sklearn/preprocessing/label.py:151: DeprecationWarning: The truth value of an empty array is ambiguous. Returning False, but in future this will result in an error. Use `array.size > 0` to check that an array is not empty.\n",
      "  if diff:\n",
      "/Users/jk6653284/anaconda/lib/python3.6/site-packages/sklearn/preprocessing/label.py:151: DeprecationWarning: The truth value of an empty array is ambiguous. Returning False, but in future this will result in an error. Use `array.size > 0` to check that an array is not empty.\n",
      "  if diff:\n"
     ]
    },
    {
     "name": "stdout",
     "output_type": "stream",
     "text": [
      "[CV]  num_leaves=10, learning_rate=0.01, boosting_type=dart, score=0.9361501584464126, total=   3.0s\n",
      "[CV] num_leaves=10, learning_rate=0.01, boosting_type=dart ...........\n"
     ]
    },
    {
     "name": "stderr",
     "output_type": "stream",
     "text": [
      "/Users/jk6653284/anaconda/lib/python3.6/site-packages/sklearn/preprocessing/label.py:151: DeprecationWarning: The truth value of an empty array is ambiguous. Returning False, but in future this will result in an error. Use `array.size > 0` to check that an array is not empty.\n",
      "  if diff:\n",
      "/Users/jk6653284/anaconda/lib/python3.6/site-packages/sklearn/preprocessing/label.py:151: DeprecationWarning: The truth value of an empty array is ambiguous. Returning False, but in future this will result in an error. Use `array.size > 0` to check that an array is not empty.\n",
      "  if diff:\n"
     ]
    },
    {
     "name": "stdout",
     "output_type": "stream",
     "text": [
      "[CV]  num_leaves=10, learning_rate=0.01, boosting_type=dart, score=0.9361501584464126, total=   2.9s\n",
      "[CV] num_leaves=40, learning_rate=0.3, boosting_type=dart ............\n"
     ]
    },
    {
     "name": "stderr",
     "output_type": "stream",
     "text": [
      "/Users/jk6653284/anaconda/lib/python3.6/site-packages/sklearn/preprocessing/label.py:151: DeprecationWarning: The truth value of an empty array is ambiguous. Returning False, but in future this will result in an error. Use `array.size > 0` to check that an array is not empty.\n",
      "  if diff:\n",
      "/Users/jk6653284/anaconda/lib/python3.6/site-packages/sklearn/preprocessing/label.py:151: DeprecationWarning: The truth value of an empty array is ambiguous. Returning False, but in future this will result in an error. Use `array.size > 0` to check that an array is not empty.\n",
      "  if diff:\n"
     ]
    },
    {
     "name": "stdout",
     "output_type": "stream",
     "text": [
      "[CV]  num_leaves=40, learning_rate=0.3, boosting_type=dart, score=0.9362324492979719, total=   5.3s\n",
      "[CV] num_leaves=40, learning_rate=0.3, boosting_type=dart ............\n"
     ]
    },
    {
     "name": "stderr",
     "output_type": "stream",
     "text": [
      "/Users/jk6653284/anaconda/lib/python3.6/site-packages/sklearn/preprocessing/label.py:151: DeprecationWarning: The truth value of an empty array is ambiguous. Returning False, but in future this will result in an error. Use `array.size > 0` to check that an array is not empty.\n",
      "  if diff:\n",
      "/Users/jk6653284/anaconda/lib/python3.6/site-packages/sklearn/preprocessing/label.py:151: DeprecationWarning: The truth value of an empty array is ambiguous. Returning False, but in future this will result in an error. Use `array.size > 0` to check that an array is not empty.\n",
      "  if diff:\n"
     ]
    },
    {
     "name": "stdout",
     "output_type": "stream",
     "text": [
      "[CV]  num_leaves=40, learning_rate=0.3, boosting_type=dart, score=0.9361511960478419, total=   5.6s\n",
      "[CV] num_leaves=40, learning_rate=0.3, boosting_type=dart ............\n"
     ]
    },
    {
     "name": "stderr",
     "output_type": "stream",
     "text": [
      "/Users/jk6653284/anaconda/lib/python3.6/site-packages/sklearn/preprocessing/label.py:151: DeprecationWarning: The truth value of an empty array is ambiguous. Returning False, but in future this will result in an error. Use `array.size > 0` to check that an array is not empty.\n",
      "  if diff:\n",
      "/Users/jk6653284/anaconda/lib/python3.6/site-packages/sklearn/preprocessing/label.py:151: DeprecationWarning: The truth value of an empty array is ambiguous. Returning False, but in future this will result in an error. Use `array.size > 0` to check that an array is not empty.\n",
      "  if diff:\n"
     ]
    },
    {
     "name": "stdout",
     "output_type": "stream",
     "text": [
      "[CV]  num_leaves=40, learning_rate=0.3, boosting_type=dart, score=0.9361826602746405, total=   4.8s\n",
      "[CV] num_leaves=40, learning_rate=0.3, boosting_type=dart ............\n"
     ]
    },
    {
     "name": "stderr",
     "output_type": "stream",
     "text": [
      "/Users/jk6653284/anaconda/lib/python3.6/site-packages/sklearn/preprocessing/label.py:151: DeprecationWarning: The truth value of an empty array is ambiguous. Returning False, but in future this will result in an error. Use `array.size > 0` to check that an array is not empty.\n",
      "  if diff:\n",
      "/Users/jk6653284/anaconda/lib/python3.6/site-packages/sklearn/preprocessing/label.py:151: DeprecationWarning: The truth value of an empty array is ambiguous. Returning False, but in future this will result in an error. Use `array.size > 0` to check that an array is not empty.\n",
      "  if diff:\n"
     ]
    },
    {
     "name": "stdout",
     "output_type": "stream",
     "text": [
      "[CV]  num_leaves=40, learning_rate=0.3, boosting_type=dart, score=0.9361014057040709, total=   5.4s\n",
      "[CV] num_leaves=40, learning_rate=0.3, boosting_type=dart ............\n"
     ]
    },
    {
     "name": "stderr",
     "output_type": "stream",
     "text": [
      "/Users/jk6653284/anaconda/lib/python3.6/site-packages/sklearn/preprocessing/label.py:151: DeprecationWarning: The truth value of an empty array is ambiguous. Returning False, but in future this will result in an error. Use `array.size > 0` to check that an array is not empty.\n",
      "  if diff:\n",
      "/Users/jk6653284/anaconda/lib/python3.6/site-packages/sklearn/preprocessing/label.py:151: DeprecationWarning: The truth value of an empty array is ambiguous. Returning False, but in future this will result in an error. Use `array.size > 0` to check that an array is not empty.\n",
      "  if diff:\n"
     ]
    },
    {
     "name": "stdout",
     "output_type": "stream",
     "text": [
      "[CV]  num_leaves=40, learning_rate=0.3, boosting_type=dart, score=0.9361826602746405, total=   5.0s\n",
      "[CV] num_leaves=40, learning_rate=0.3, boosting_type=gbdt ............\n"
     ]
    },
    {
     "name": "stderr",
     "output_type": "stream",
     "text": [
      "/Users/jk6653284/anaconda/lib/python3.6/site-packages/sklearn/preprocessing/label.py:151: DeprecationWarning: The truth value of an empty array is ambiguous. Returning False, but in future this will result in an error. Use `array.size > 0` to check that an array is not empty.\n",
      "  if diff:\n",
      "/Users/jk6653284/anaconda/lib/python3.6/site-packages/sklearn/preprocessing/label.py:151: DeprecationWarning: The truth value of an empty array is ambiguous. Returning False, but in future this will result in an error. Use `array.size > 0` to check that an array is not empty.\n",
      "  if diff:\n"
     ]
    },
    {
     "name": "stdout",
     "output_type": "stream",
     "text": [
      "[CV]  num_leaves=40, learning_rate=0.3, boosting_type=gbdt, score=0.9355011700468019, total=   2.6s\n",
      "[CV] num_leaves=40, learning_rate=0.3, boosting_type=gbdt ............\n"
     ]
    },
    {
     "name": "stderr",
     "output_type": "stream",
     "text": [
      "/Users/jk6653284/anaconda/lib/python3.6/site-packages/sklearn/preprocessing/label.py:151: DeprecationWarning: The truth value of an empty array is ambiguous. Returning False, but in future this will result in an error. Use `array.size > 0` to check that an array is not empty.\n",
      "  if diff:\n",
      "/Users/jk6653284/anaconda/lib/python3.6/site-packages/sklearn/preprocessing/label.py:151: DeprecationWarning: The truth value of an empty array is ambiguous. Returning False, but in future this will result in an error. Use `array.size > 0` to check that an array is not empty.\n",
      "  if diff:\n"
     ]
    },
    {
     "name": "stdout",
     "output_type": "stream",
     "text": [
      "[CV]  num_leaves=40, learning_rate=0.3, boosting_type=gbdt, score=0.9353061622464899, total=   2.6s\n",
      "[CV] num_leaves=40, learning_rate=0.3, boosting_type=gbdt ............\n"
     ]
    },
    {
     "name": "stderr",
     "output_type": "stream",
     "text": [
      "/Users/jk6653284/anaconda/lib/python3.6/site-packages/sklearn/preprocessing/label.py:151: DeprecationWarning: The truth value of an empty array is ambiguous. Returning False, but in future this will result in an error. Use `array.size > 0` to check that an array is not empty.\n",
      "  if diff:\n",
      "/Users/jk6653284/anaconda/lib/python3.6/site-packages/sklearn/preprocessing/label.py:151: DeprecationWarning: The truth value of an empty array is ambiguous. Returning False, but in future this will result in an error. Use `array.size > 0` to check that an array is not empty.\n",
      "  if diff:\n"
     ]
    },
    {
     "name": "stdout",
     "output_type": "stream",
     "text": [
      "[CV]  num_leaves=40, learning_rate=0.3, boosting_type=gbdt, score=0.9357438855935646, total=   2.7s\n",
      "[CV] num_leaves=40, learning_rate=0.3, boosting_type=gbdt ............\n"
     ]
    },
    {
     "name": "stderr",
     "output_type": "stream",
     "text": [
      "/Users/jk6653284/anaconda/lib/python3.6/site-packages/sklearn/preprocessing/label.py:151: DeprecationWarning: The truth value of an empty array is ambiguous. Returning False, but in future this will result in an error. Use `array.size > 0` to check that an array is not empty.\n",
      "  if diff:\n",
      "/Users/jk6653284/anaconda/lib/python3.6/site-packages/sklearn/preprocessing/label.py:151: DeprecationWarning: The truth value of an empty array is ambiguous. Returning False, but in future this will result in an error. Use `array.size > 0` to check that an array is not empty.\n",
      "  if diff:\n"
     ]
    },
    {
     "name": "stdout",
     "output_type": "stream",
     "text": [
      "[CV]  num_leaves=40, learning_rate=0.3, boosting_type=gbdt, score=0.9349638417160965, total=   2.7s\n",
      "[CV] num_leaves=40, learning_rate=0.3, boosting_type=gbdt ............\n"
     ]
    },
    {
     "name": "stderr",
     "output_type": "stream",
     "text": [
      "/Users/jk6653284/anaconda/lib/python3.6/site-packages/sklearn/preprocessing/label.py:151: DeprecationWarning: The truth value of an empty array is ambiguous. Returning False, but in future this will result in an error. Use `array.size > 0` to check that an array is not empty.\n",
      "  if diff:\n",
      "/Users/jk6653284/anaconda/lib/python3.6/site-packages/sklearn/preprocessing/label.py:151: DeprecationWarning: The truth value of an empty array is ambiguous. Returning False, but in future this will result in an error. Use `array.size > 0` to check that an array is not empty.\n",
      "  if diff:\n",
      "[Parallel(n_jobs=1)]: Done  50 out of  50 | elapsed:  2.8min finished\n"
     ]
    },
    {
     "name": "stdout",
     "output_type": "stream",
     "text": [
      "[CV]  num_leaves=40, learning_rate=0.3, boosting_type=gbdt, score=0.9355488746241976, total=   2.8s\n"
     ]
    },
    {
     "data": {
      "text/plain": [
       "RandomizedSearchCV(cv=StratifiedKFold(n_splits=5, random_state=42, shuffle=True),\n",
       "          error_score='raise',\n",
       "          estimator=LGBMClassifier(boosting_type='gbdt', class_weight=None, colsample_bytree=1.0,\n",
       "        learning_rate=0.1, max_depth=-1, min_child_samples=20,\n",
       "        min_child_weight=0.001, min_split_gain=0.0, n_estimators=100,\n",
       "        n_jobs=-1, num_leaves=31, objective=None, random_state=None,\n",
       "        reg_alpha=0.0, reg_lambda=0.0, silent=True, subsample=1.0,\n",
       "        subsample_for_bin=200000, subsample_freq=1),\n",
       "          fit_params=None, iid=True, n_iter=10, n_jobs=1,\n",
       "          param_distributions={'num_leaves': [10, 20, 40], 'learning_rate': [0.3, 0.1, 0.01], 'boosting_type': ['gbdt', 'dart']},\n",
       "          pre_dispatch='2*n_jobs', random_state=42, refit=True,\n",
       "          return_train_score='warn', scoring=None, verbose=5)"
      ]
     },
     "execution_count": 80,
     "metadata": {},
     "output_type": "execute_result"
    }
   ],
   "source": [
    "# hyperparameter tuning\n",
    "lgb_random = RandomizedSearchCV(lgb, param_distributions = {\n",
    "    'num_leaves': [10, 20, 40],\n",
    "    'learning_rate': [0.3, 0.1, 0.01],\n",
    "    'boosting_type': ['gbdt', 'dart']\n",
    "},\n",
    "                               cv = skfolds, verbose = 5, random_state = 42, n_jobs = 1)\n",
    "\n",
    "# fit random search CV\n",
    "lgb_random.fit(X_train_transformed, y_train)"
   ]
  },
  {
   "cell_type": "code",
   "execution_count": 85,
   "metadata": {},
   "outputs": [
    {
     "name": "stdout",
     "output_type": "stream",
     "text": [
      "LGBMClassifier(boosting_type='dart', class_weight=None, colsample_bytree=1.0,\n",
      "        learning_rate=0.3, max_depth=-1, min_child_samples=20,\n",
      "        min_child_weight=0.001, min_split_gain=0.0, n_estimators=100,\n",
      "        n_jobs=-1, num_leaves=40, objective=None, random_state=None,\n",
      "        reg_alpha=0.0, reg_lambda=0.0, silent=True, subsample=1.0,\n",
      "        subsample_for_bin=200000, subsample_freq=1)\n",
      "0.9361700744612045\n"
     ]
    }
   ],
   "source": [
    "print(lgb_random.best_estimator_)\n",
    "print(lgb_random.best_score_)"
   ]
  },
  {
   "cell_type": "markdown",
   "metadata": {},
   "source": [
    "### MLP Tuned"
   ]
  },
  {
   "cell_type": "code",
   "execution_count": 291,
   "metadata": {
    "scrolled": true
   },
   "outputs": [
    {
     "name": "stdout",
     "output_type": "stream",
     "text": [
      "Fitting 5 folds for each of 8 candidates, totalling 40 fits\n",
      "[CV] early_stopping=True, learning_rate=constant, solver=sgd .........\n",
      "[CV]  early_stopping=True, learning_rate=constant, solver=sgd, score=0.9353386635465418, total=   4.8s\n",
      "[CV] early_stopping=True, learning_rate=constant, solver=sgd .........\n"
     ]
    },
    {
     "name": "stderr",
     "output_type": "stream",
     "text": [
      "[Parallel(n_jobs=1)]: Done   1 out of   1 | elapsed:    5.3s remaining:    0.0s\n"
     ]
    },
    {
     "name": "stdout",
     "output_type": "stream",
     "text": [
      "[CV]  early_stopping=True, learning_rate=constant, solver=sgd, score=0.9360536921476859, total=   6.8s\n",
      "[CV] early_stopping=True, learning_rate=constant, solver=sgd .........\n"
     ]
    },
    {
     "name": "stderr",
     "output_type": "stream",
     "text": [
      "[Parallel(n_jobs=1)]: Done   2 out of   2 | elapsed:   12.5s remaining:    0.0s\n"
     ]
    },
    {
     "name": "stdout",
     "output_type": "stream",
     "text": [
      "[CV]  early_stopping=True, learning_rate=constant, solver=sgd, score=0.9360364020476152, total=   8.2s\n",
      "[CV] early_stopping=True, learning_rate=constant, solver=sgd .........\n"
     ]
    },
    {
     "name": "stderr",
     "output_type": "stream",
     "text": [
      "[Parallel(n_jobs=1)]: Done   3 out of   3 | elapsed:   21.2s remaining:    0.0s\n"
     ]
    },
    {
     "name": "stdout",
     "output_type": "stream",
     "text": [
      "[CV]  early_stopping=True, learning_rate=constant, solver=sgd, score=0.9360201511335012, total=   4.9s\n",
      "[CV] early_stopping=True, learning_rate=constant, solver=sgd .........\n"
     ]
    },
    {
     "name": "stderr",
     "output_type": "stream",
     "text": [
      "[Parallel(n_jobs=1)]: Done   4 out of   4 | elapsed:   26.6s remaining:    0.0s\n"
     ]
    },
    {
     "name": "stdout",
     "output_type": "stream",
     "text": [
      "[CV]  early_stopping=True, learning_rate=constant, solver=sgd, score=0.9356788819371089, total=   6.0s\n",
      "[CV] early_stopping=True, learning_rate=constant, solver=adam ........\n",
      "[CV]  early_stopping=True, learning_rate=constant, solver=adam, score=0.9361349453978159, total=   7.7s\n",
      "[CV] early_stopping=True, learning_rate=constant, solver=adam ........\n",
      "[CV]  early_stopping=True, learning_rate=constant, solver=adam, score=0.9359886895475819, total=   5.3s\n",
      "[CV] early_stopping=True, learning_rate=constant, solver=adam ........\n",
      "[CV]  early_stopping=True, learning_rate=constant, solver=adam, score=0.9361664093605265, total=   7.5s\n",
      "[CV] early_stopping=True, learning_rate=constant, solver=adam ........\n",
      "[CV]  early_stopping=True, learning_rate=constant, solver=adam, score=0.9360526529617291, total=   9.8s\n",
      "[CV] early_stopping=True, learning_rate=constant, solver=adam ........\n",
      "[CV]  early_stopping=True, learning_rate=constant, solver=adam, score=0.9358576419923621, total=   6.3s\n",
      "[CV] early_stopping=True, learning_rate=adaptive, solver=sgd .........\n",
      "[CV]  early_stopping=True, learning_rate=adaptive, solver=sgd, score=0.9360374414976599, total=  25.6s\n",
      "[CV] early_stopping=True, learning_rate=adaptive, solver=sgd .........\n",
      "[CV]  early_stopping=True, learning_rate=adaptive, solver=sgd, score=0.9359724388975559, total=  22.8s\n",
      "[CV] early_stopping=True, learning_rate=adaptive, solver=sgd .........\n",
      "[CV]  early_stopping=True, learning_rate=adaptive, solver=sgd, score=0.9362151621028683, total=  22.7s\n",
      "[CV] early_stopping=True, learning_rate=adaptive, solver=sgd .........\n",
      "[CV]  early_stopping=True, learning_rate=adaptive, solver=sgd, score=0.9360039002193873, total=  21.8s\n",
      "[CV] early_stopping=True, learning_rate=adaptive, solver=sgd .........\n",
      "[CV]  early_stopping=True, learning_rate=adaptive, solver=sgd, score=0.9357763874217925, total=  21.8s\n",
      "[CV] early_stopping=True, learning_rate=adaptive, solver=adam ........\n",
      "[CV]  early_stopping=True, learning_rate=adaptive, solver=adam, score=0.9360699427977119, total=   7.2s\n",
      "[CV] early_stopping=True, learning_rate=adaptive, solver=adam ........\n",
      "[CV]  early_stopping=True, learning_rate=adaptive, solver=adam, score=0.9361024440977639, total=   8.4s\n",
      "[CV] early_stopping=True, learning_rate=adaptive, solver=adam ........\n",
      "[CV]  early_stopping=True, learning_rate=adaptive, solver=adam, score=0.9361501584464126, total=   5.3s\n",
      "[CV] early_stopping=True, learning_rate=adaptive, solver=adam ........\n",
      "[CV]  early_stopping=True, learning_rate=adaptive, solver=adam, score=0.9360201511335012, total=   5.2s\n",
      "[CV] early_stopping=True, learning_rate=adaptive, solver=adam ........\n",
      "[CV]  early_stopping=True, learning_rate=adaptive, solver=adam, score=0.9361501584464126, total=   5.3s\n",
      "[CV] early_stopping=False, learning_rate=constant, solver=sgd ........\n",
      "[CV]  early_stopping=False, learning_rate=constant, solver=sgd, score=0.9357936817472698, total=  41.8s\n",
      "[CV] early_stopping=False, learning_rate=constant, solver=sgd ........\n",
      "[CV]  early_stopping=False, learning_rate=constant, solver=sgd, score=0.9354849193967759, total=  35.1s\n",
      "[CV] early_stopping=False, learning_rate=constant, solver=sgd ........\n",
      "[CV]  early_stopping=False, learning_rate=constant, solver=sgd, score=0.9358576419923621, total=  48.7s\n",
      "[CV] early_stopping=False, learning_rate=constant, solver=sgd ........\n",
      "[CV]  early_stopping=False, learning_rate=constant, solver=sgd, score=0.9357763874217925, total=  36.1s\n",
      "[CV] early_stopping=False, learning_rate=constant, solver=sgd ........\n",
      "[CV]  early_stopping=False, learning_rate=constant, solver=sgd, score=0.9361501584464126, total=  53.7s\n",
      "[CV] early_stopping=False, learning_rate=constant, solver=adam .......\n",
      "[CV]  early_stopping=False, learning_rate=constant, solver=adam, score=0.9361024440977639, total=  34.7s\n",
      "[CV] early_stopping=False, learning_rate=constant, solver=adam .......\n",
      "[CV]  early_stopping=False, learning_rate=constant, solver=adam, score=0.9359074362974519, total= 1.0min\n",
      "[CV] early_stopping=False, learning_rate=constant, solver=adam .......\n",
      "[CV]  early_stopping=False, learning_rate=constant, solver=adam, score=0.9359876493052735, total=  39.8s\n",
      "[CV] early_stopping=False, learning_rate=constant, solver=adam .......\n",
      "[CV]  early_stopping=False, learning_rate=constant, solver=adam, score=0.9357113837653368, total=  38.5s\n",
      "[CV] early_stopping=False, learning_rate=constant, solver=adam .......\n",
      "[CV]  early_stopping=False, learning_rate=constant, solver=adam, score=0.936068903875843, total=  40.8s\n",
      "[CV] early_stopping=False, learning_rate=adaptive, solver=sgd ........\n",
      "[CV]  early_stopping=False, learning_rate=adaptive, solver=sgd, score=0.9359724388975559, total=  55.4s\n",
      "[CV] early_stopping=False, learning_rate=adaptive, solver=sgd ........\n",
      "[CV]  early_stopping=False, learning_rate=adaptive, solver=sgd, score=0.9359561882475299, total= 1.1min\n",
      "[CV] early_stopping=False, learning_rate=adaptive, solver=sgd ........\n",
      "[CV]  early_stopping=False, learning_rate=adaptive, solver=sgd, score=0.9361014057040709, total= 1.0min\n",
      "[CV] early_stopping=False, learning_rate=adaptive, solver=sgd ........\n",
      "[CV]  early_stopping=False, learning_rate=adaptive, solver=sgd, score=0.9359388965629316, total=  59.7s\n",
      "[CV] early_stopping=False, learning_rate=adaptive, solver=sgd ........\n",
      "[CV]  early_stopping=False, learning_rate=adaptive, solver=sgd, score=0.9360039002193873, total= 1.1min\n",
      "[CV] early_stopping=False, learning_rate=adaptive, solver=adam .......\n",
      "[CV]  early_stopping=False, learning_rate=adaptive, solver=adam, score=0.9357124284971399, total=  54.4s\n",
      "[CV] early_stopping=False, learning_rate=adaptive, solver=adam .......\n",
      "[CV]  early_stopping=False, learning_rate=adaptive, solver=adam, score=0.9359561882475299, total=  49.4s\n",
      "[CV] early_stopping=False, learning_rate=adaptive, solver=adam .......\n",
      "[CV]  early_stopping=False, learning_rate=adaptive, solver=adam, score=0.9355163727959698, total=  54.5s\n",
      "[CV] early_stopping=False, learning_rate=adaptive, solver=adam .......\n",
      "[CV]  early_stopping=False, learning_rate=adaptive, solver=adam, score=0.9358901438205899, total= 1.2min\n",
      "[CV] early_stopping=False, learning_rate=adaptive, solver=adam .......\n",
      "[CV]  early_stopping=False, learning_rate=adaptive, solver=adam, score=0.9361176566181848, total=  47.5s\n"
     ]
    },
    {
     "name": "stderr",
     "output_type": "stream",
     "text": [
      "[Parallel(n_jobs=1)]: Done  40 out of  40 | elapsed: 20.8min finished\n"
     ]
    },
    {
     "data": {
      "text/plain": [
       "GridSearchCV(cv=StratifiedKFold(n_splits=5, random_state=42, shuffle=True),\n",
       "       error_score='raise',\n",
       "       estimator=MLPClassifier(activation='relu', alpha=0.0001, batch_size='auto', beta_1=0.9,\n",
       "       beta_2=0.999, early_stopping=False, epsilon=1e-08,\n",
       "       hidden_layer_sizes=(100,), learning_rate='constant',\n",
       "       learning_rate_init=0.001, max_iter=200, momentum=0.9,\n",
       "       nesterovs_momentum=True, power_t=0.5, random_state=None,\n",
       "       shuffle=True, solver='adam', tol=0.0001, validation_fraction=0.1,\n",
       "       verbose=False, warm_start=False),\n",
       "       fit_params=None, iid=True, n_jobs=1,\n",
       "       param_grid={'early_stopping': [True, False], 'learning_rate': ['constant', 'adaptive'], 'solver': ['sgd', 'adam']},\n",
       "       pre_dispatch='2*n_jobs', refit=True, return_train_score='warn',\n",
       "       scoring=None, verbose=5)"
      ]
     },
     "execution_count": 291,
     "metadata": {},
     "output_type": "execute_result"
    }
   ],
   "source": [
    "# hyperparameter tuning\n",
    "mlp_grid = GridSearchCV(mlp, param_grid = {\n",
    "    'early_stopping': [True,False],\n",
    "    'learning_rate': ['constant', 'adaptive'],\n",
    "    'solver': ['sgd', 'adam']\n",
    "},\n",
    "                               cv = skfolds, verbose = 5, n_jobs = 1)\n",
    "\n",
    "# fit random search CV\n",
    "mlp_grid.fit(X_train_transformed, y_train)"
   ]
  },
  {
   "cell_type": "code",
   "execution_count": 91,
   "metadata": {},
   "outputs": [
    {
     "name": "stdout",
     "output_type": "stream",
     "text": [
      "MLPClassifier(activation='relu', alpha=0.0001, batch_size='auto', beta_1=0.9,\n",
      "       beta_2=0.999, early_stopping=True, epsilon=1e-08,\n",
      "       hidden_layer_sizes=(100,), learning_rate='adaptive',\n",
      "       learning_rate_init=0.001, max_iter=200, momentum=0.9,\n",
      "       nesterovs_momentum=True, power_t=0.5, random_state=None,\n",
      "       shuffle=True, solver='adam', tol=0.0001, validation_fraction=0.1,\n",
      "       verbose=False, warm_start=False)\n",
      "0.936066069286947\n"
     ]
    }
   ],
   "source": [
    "print(mlp_grid.best_estimator_)\n",
    "print(mlp_grid.best_score_)"
   ]
  },
  {
   "cell_type": "markdown",
   "metadata": {},
   "source": [
    "### XGBoost Tuned"
   ]
  },
  {
   "cell_type": "code",
   "execution_count": 94,
   "metadata": {
    "scrolled": true
   },
   "outputs": [
    {
     "name": "stdout",
     "output_type": "stream",
     "text": [
      "Fitting 5 folds for each of 10 candidates, totalling 50 fits\n",
      "[CV] subsample=0.6, max_depth=5, learning_rate=0.3, gamma=0.5 ........\n"
     ]
    },
    {
     "name": "stderr",
     "output_type": "stream",
     "text": [
      "/Users/jk6653284/anaconda/lib/python3.6/site-packages/sklearn/preprocessing/label.py:151: DeprecationWarning: The truth value of an empty array is ambiguous. Returning False, but in future this will result in an error. Use `array.size > 0` to check that an array is not empty.\n",
      "  if diff:\n",
      "/Users/jk6653284/anaconda/lib/python3.6/site-packages/sklearn/preprocessing/label.py:151: DeprecationWarning: The truth value of an empty array is ambiguous. Returning False, but in future this will result in an error. Use `array.size > 0` to check that an array is not empty.\n",
      "  if diff:\n",
      "[Parallel(n_jobs=1)]: Done   1 out of   1 | elapsed:  1.2min remaining:    0.0s\n"
     ]
    },
    {
     "name": "stdout",
     "output_type": "stream",
     "text": [
      "[CV]  subsample=0.6, max_depth=5, learning_rate=0.3, gamma=0.5, score=0.9357936817472698, total= 1.2min\n",
      "[CV] subsample=0.6, max_depth=5, learning_rate=0.3, gamma=0.5 ........\n"
     ]
    },
    {
     "name": "stderr",
     "output_type": "stream",
     "text": [
      "/Users/jk6653284/anaconda/lib/python3.6/site-packages/sklearn/preprocessing/label.py:151: DeprecationWarning: The truth value of an empty array is ambiguous. Returning False, but in future this will result in an error. Use `array.size > 0` to check that an array is not empty.\n",
      "  if diff:\n",
      "/Users/jk6653284/anaconda/lib/python3.6/site-packages/sklearn/preprocessing/label.py:151: DeprecationWarning: The truth value of an empty array is ambiguous. Returning False, but in future this will result in an error. Use `array.size > 0` to check that an array is not empty.\n",
      "  if diff:\n",
      "[Parallel(n_jobs=1)]: Done   2 out of   2 | elapsed:  2.4min remaining:    0.0s\n"
     ]
    },
    {
     "name": "stdout",
     "output_type": "stream",
     "text": [
      "[CV]  subsample=0.6, max_depth=5, learning_rate=0.3, gamma=0.5, score=0.9357124284971399, total= 1.2min\n",
      "[CV] subsample=0.6, max_depth=5, learning_rate=0.3, gamma=0.5 ........\n"
     ]
    },
    {
     "name": "stderr",
     "output_type": "stream",
     "text": [
      "/Users/jk6653284/anaconda/lib/python3.6/site-packages/sklearn/preprocessing/label.py:151: DeprecationWarning: The truth value of an empty array is ambiguous. Returning False, but in future this will result in an error. Use `array.size > 0` to check that an array is not empty.\n",
      "  if diff:\n",
      "/Users/jk6653284/anaconda/lib/python3.6/site-packages/sklearn/preprocessing/label.py:151: DeprecationWarning: The truth value of an empty array is ambiguous. Returning False, but in future this will result in an error. Use `array.size > 0` to check that an array is not empty.\n",
      "  if diff:\n",
      "[Parallel(n_jobs=1)]: Done   3 out of   3 | elapsed:  3.6min remaining:    0.0s\n"
     ]
    },
    {
     "name": "stdout",
     "output_type": "stream",
     "text": [
      "[CV]  subsample=0.6, max_depth=5, learning_rate=0.3, gamma=0.5, score=0.9358576419923621, total= 1.2min\n",
      "[CV] subsample=0.6, max_depth=5, learning_rate=0.3, gamma=0.5 ........\n"
     ]
    },
    {
     "name": "stderr",
     "output_type": "stream",
     "text": [
      "/Users/jk6653284/anaconda/lib/python3.6/site-packages/sklearn/preprocessing/label.py:151: DeprecationWarning: The truth value of an empty array is ambiguous. Returning False, but in future this will result in an error. Use `array.size > 0` to check that an array is not empty.\n",
      "  if diff:\n",
      "/Users/jk6653284/anaconda/lib/python3.6/site-packages/sklearn/preprocessing/label.py:151: DeprecationWarning: The truth value of an empty array is ambiguous. Returning False, but in future this will result in an error. Use `array.size > 0` to check that an array is not empty.\n",
      "  if diff:\n",
      "[Parallel(n_jobs=1)]: Done   4 out of   4 | elapsed:  4.8min remaining:    0.0s\n"
     ]
    },
    {
     "name": "stdout",
     "output_type": "stream",
     "text": [
      "[CV]  subsample=0.6, max_depth=5, learning_rate=0.3, gamma=0.5, score=0.9353376127407167, total= 1.2min\n",
      "[CV] subsample=0.6, max_depth=5, learning_rate=0.3, gamma=0.5 ........\n"
     ]
    },
    {
     "name": "stderr",
     "output_type": "stream",
     "text": [
      "/Users/jk6653284/anaconda/lib/python3.6/site-packages/sklearn/preprocessing/label.py:151: DeprecationWarning: The truth value of an empty array is ambiguous. Returning False, but in future this will result in an error. Use `array.size > 0` to check that an array is not empty.\n",
      "  if diff:\n",
      "/Users/jk6653284/anaconda/lib/python3.6/site-packages/sklearn/preprocessing/label.py:151: DeprecationWarning: The truth value of an empty array is ambiguous. Returning False, but in future this will result in an error. Use `array.size > 0` to check that an array is not empty.\n",
      "  if diff:\n"
     ]
    },
    {
     "name": "stdout",
     "output_type": "stream",
     "text": [
      "[CV]  subsample=0.6, max_depth=5, learning_rate=0.3, gamma=0.5, score=0.9356138782806532, total= 1.2min\n",
      "[CV] subsample=0.6, max_depth=3, learning_rate=0.3, gamma=0.1 ........\n"
     ]
    },
    {
     "name": "stderr",
     "output_type": "stream",
     "text": [
      "/Users/jk6653284/anaconda/lib/python3.6/site-packages/sklearn/preprocessing/label.py:151: DeprecationWarning: The truth value of an empty array is ambiguous. Returning False, but in future this will result in an error. Use `array.size > 0` to check that an array is not empty.\n",
      "  if diff:\n",
      "/Users/jk6653284/anaconda/lib/python3.6/site-packages/sklearn/preprocessing/label.py:151: DeprecationWarning: The truth value of an empty array is ambiguous. Returning False, but in future this will result in an error. Use `array.size > 0` to check that an array is not empty.\n",
      "  if diff:\n"
     ]
    },
    {
     "name": "stdout",
     "output_type": "stream",
     "text": [
      "[CV]  subsample=0.6, max_depth=3, learning_rate=0.3, gamma=0.1, score=0.9361024440977639, total=  42.6s\n",
      "[CV] subsample=0.6, max_depth=3, learning_rate=0.3, gamma=0.1 ........\n"
     ]
    },
    {
     "name": "stderr",
     "output_type": "stream",
     "text": [
      "/Users/jk6653284/anaconda/lib/python3.6/site-packages/sklearn/preprocessing/label.py:151: DeprecationWarning: The truth value of an empty array is ambiguous. Returning False, but in future this will result in an error. Use `array.size > 0` to check that an array is not empty.\n",
      "  if diff:\n",
      "/Users/jk6653284/anaconda/lib/python3.6/site-packages/sklearn/preprocessing/label.py:151: DeprecationWarning: The truth value of an empty array is ambiguous. Returning False, but in future this will result in an error. Use `array.size > 0` to check that an array is not empty.\n",
      "  if diff:\n"
     ]
    },
    {
     "name": "stdout",
     "output_type": "stream",
     "text": [
      "[CV]  subsample=0.6, max_depth=3, learning_rate=0.3, gamma=0.1, score=0.9360536921476859, total=  42.5s\n",
      "[CV] subsample=0.6, max_depth=3, learning_rate=0.3, gamma=0.1 ........\n"
     ]
    },
    {
     "name": "stderr",
     "output_type": "stream",
     "text": [
      "/Users/jk6653284/anaconda/lib/python3.6/site-packages/sklearn/preprocessing/label.py:151: DeprecationWarning: The truth value of an empty array is ambiguous. Returning False, but in future this will result in an error. Use `array.size > 0` to check that an array is not empty.\n",
      "  if diff:\n",
      "/Users/jk6653284/anaconda/lib/python3.6/site-packages/sklearn/preprocessing/label.py:151: DeprecationWarning: The truth value of an empty array is ambiguous. Returning False, but in future this will result in an error. Use `array.size > 0` to check that an array is not empty.\n",
      "  if diff:\n"
     ]
    },
    {
     "name": "stdout",
     "output_type": "stream",
     "text": [
      "[CV]  subsample=0.6, max_depth=3, learning_rate=0.3, gamma=0.1, score=0.9360526529617291, total=  42.1s\n",
      "[CV] subsample=0.6, max_depth=3, learning_rate=0.3, gamma=0.1 ........\n"
     ]
    },
    {
     "name": "stderr",
     "output_type": "stream",
     "text": [
      "/Users/jk6653284/anaconda/lib/python3.6/site-packages/sklearn/preprocessing/label.py:151: DeprecationWarning: The truth value of an empty array is ambiguous. Returning False, but in future this will result in an error. Use `array.size > 0` to check that an array is not empty.\n",
      "  if diff:\n",
      "/Users/jk6653284/anaconda/lib/python3.6/site-packages/sklearn/preprocessing/label.py:151: DeprecationWarning: The truth value of an empty array is ambiguous. Returning False, but in future this will result in an error. Use `array.size > 0` to check that an array is not empty.\n",
      "  if diff:\n"
     ]
    },
    {
     "name": "stdout",
     "output_type": "stream",
     "text": [
      "[CV]  subsample=0.6, max_depth=3, learning_rate=0.3, gamma=0.1, score=0.9361014057040709, total=  42.6s\n",
      "[CV] subsample=0.6, max_depth=3, learning_rate=0.3, gamma=0.1 ........\n"
     ]
    },
    {
     "name": "stderr",
     "output_type": "stream",
     "text": [
      "/Users/jk6653284/anaconda/lib/python3.6/site-packages/sklearn/preprocessing/label.py:151: DeprecationWarning: The truth value of an empty array is ambiguous. Returning False, but in future this will result in an error. Use `array.size > 0` to check that an array is not empty.\n",
      "  if diff:\n",
      "/Users/jk6653284/anaconda/lib/python3.6/site-packages/sklearn/preprocessing/label.py:151: DeprecationWarning: The truth value of an empty array is ambiguous. Returning False, but in future this will result in an error. Use `array.size > 0` to check that an array is not empty.\n",
      "  if diff:\n"
     ]
    },
    {
     "name": "stdout",
     "output_type": "stream",
     "text": [
      "[CV]  subsample=0.6, max_depth=3, learning_rate=0.3, gamma=0.1, score=0.9360364020476152, total=  42.5s\n",
      "[CV] subsample=0.8, max_depth=5, learning_rate=0.01, gamma=0.1 .......\n"
     ]
    },
    {
     "name": "stderr",
     "output_type": "stream",
     "text": [
      "/Users/jk6653284/anaconda/lib/python3.6/site-packages/sklearn/preprocessing/label.py:151: DeprecationWarning: The truth value of an empty array is ambiguous. Returning False, but in future this will result in an error. Use `array.size > 0` to check that an array is not empty.\n",
      "  if diff:\n",
      "/Users/jk6653284/anaconda/lib/python3.6/site-packages/sklearn/preprocessing/label.py:151: DeprecationWarning: The truth value of an empty array is ambiguous. Returning False, but in future this will result in an error. Use `array.size > 0` to check that an array is not empty.\n",
      "  if diff:\n"
     ]
    },
    {
     "name": "stdout",
     "output_type": "stream",
     "text": [
      "[CV]  subsample=0.8, max_depth=5, learning_rate=0.01, gamma=0.1, score=0.9361349453978159, total= 1.2min\n",
      "[CV] subsample=0.8, max_depth=5, learning_rate=0.01, gamma=0.1 .......\n"
     ]
    },
    {
     "name": "stderr",
     "output_type": "stream",
     "text": [
      "/Users/jk6653284/anaconda/lib/python3.6/site-packages/sklearn/preprocessing/label.py:151: DeprecationWarning: The truth value of an empty array is ambiguous. Returning False, but in future this will result in an error. Use `array.size > 0` to check that an array is not empty.\n",
      "  if diff:\n",
      "/Users/jk6653284/anaconda/lib/python3.6/site-packages/sklearn/preprocessing/label.py:151: DeprecationWarning: The truth value of an empty array is ambiguous. Returning False, but in future this will result in an error. Use `array.size > 0` to check that an array is not empty.\n",
      "  if diff:\n"
     ]
    },
    {
     "name": "stdout",
     "output_type": "stream",
     "text": [
      "[CV]  subsample=0.8, max_depth=5, learning_rate=0.01, gamma=0.1, score=0.9361349453978159, total= 1.1min\n",
      "[CV] subsample=0.8, max_depth=5, learning_rate=0.01, gamma=0.1 .......\n"
     ]
    },
    {
     "name": "stderr",
     "output_type": "stream",
     "text": [
      "/Users/jk6653284/anaconda/lib/python3.6/site-packages/sklearn/preprocessing/label.py:151: DeprecationWarning: The truth value of an empty array is ambiguous. Returning False, but in future this will result in an error. Use `array.size > 0` to check that an array is not empty.\n",
      "  if diff:\n",
      "/Users/jk6653284/anaconda/lib/python3.6/site-packages/sklearn/preprocessing/label.py:151: DeprecationWarning: The truth value of an empty array is ambiguous. Returning False, but in future this will result in an error. Use `array.size > 0` to check that an array is not empty.\n",
      "  if diff:\n"
     ]
    },
    {
     "name": "stdout",
     "output_type": "stream",
     "text": [
      "[CV]  subsample=0.8, max_depth=5, learning_rate=0.01, gamma=0.1, score=0.9361501584464126, total= 1.1min\n",
      "[CV] subsample=0.8, max_depth=5, learning_rate=0.01, gamma=0.1 .......\n"
     ]
    },
    {
     "name": "stderr",
     "output_type": "stream",
     "text": [
      "/Users/jk6653284/anaconda/lib/python3.6/site-packages/sklearn/preprocessing/label.py:151: DeprecationWarning: The truth value of an empty array is ambiguous. Returning False, but in future this will result in an error. Use `array.size > 0` to check that an array is not empty.\n",
      "  if diff:\n",
      "/Users/jk6653284/anaconda/lib/python3.6/site-packages/sklearn/preprocessing/label.py:151: DeprecationWarning: The truth value of an empty array is ambiguous. Returning False, but in future this will result in an error. Use `array.size > 0` to check that an array is not empty.\n",
      "  if diff:\n"
     ]
    },
    {
     "name": "stdout",
     "output_type": "stream",
     "text": [
      "[CV]  subsample=0.8, max_depth=5, learning_rate=0.01, gamma=0.1, score=0.9361501584464126, total= 1.1min\n",
      "[CV] subsample=0.8, max_depth=5, learning_rate=0.01, gamma=0.1 .......\n"
     ]
    },
    {
     "name": "stderr",
     "output_type": "stream",
     "text": [
      "/Users/jk6653284/anaconda/lib/python3.6/site-packages/sklearn/preprocessing/label.py:151: DeprecationWarning: The truth value of an empty array is ambiguous. Returning False, but in future this will result in an error. Use `array.size > 0` to check that an array is not empty.\n",
      "  if diff:\n",
      "/Users/jk6653284/anaconda/lib/python3.6/site-packages/sklearn/preprocessing/label.py:151: DeprecationWarning: The truth value of an empty array is ambiguous. Returning False, but in future this will result in an error. Use `array.size > 0` to check that an array is not empty.\n",
      "  if diff:\n"
     ]
    },
    {
     "name": "stdout",
     "output_type": "stream",
     "text": [
      "[CV]  subsample=0.8, max_depth=5, learning_rate=0.01, gamma=0.1, score=0.9361501584464126, total= 1.1min\n",
      "[CV] subsample=0.8, max_depth=5, learning_rate=0.3, gamma=0.5 ........\n"
     ]
    },
    {
     "name": "stderr",
     "output_type": "stream",
     "text": [
      "/Users/jk6653284/anaconda/lib/python3.6/site-packages/sklearn/preprocessing/label.py:151: DeprecationWarning: The truth value of an empty array is ambiguous. Returning False, but in future this will result in an error. Use `array.size > 0` to check that an array is not empty.\n",
      "  if diff:\n",
      "/Users/jk6653284/anaconda/lib/python3.6/site-packages/sklearn/preprocessing/label.py:151: DeprecationWarning: The truth value of an empty array is ambiguous. Returning False, but in future this will result in an error. Use `array.size > 0` to check that an array is not empty.\n",
      "  if diff:\n"
     ]
    },
    {
     "name": "stdout",
     "output_type": "stream",
     "text": [
      "[CV]  subsample=0.8, max_depth=5, learning_rate=0.3, gamma=0.5, score=0.9357286791471658, total= 1.2min\n",
      "[CV] subsample=0.8, max_depth=5, learning_rate=0.3, gamma=0.5 ........\n"
     ]
    },
    {
     "name": "stderr",
     "output_type": "stream",
     "text": [
      "/Users/jk6653284/anaconda/lib/python3.6/site-packages/sklearn/preprocessing/label.py:151: DeprecationWarning: The truth value of an empty array is ambiguous. Returning False, but in future this will result in an error. Use `array.size > 0` to check that an array is not empty.\n",
      "  if diff:\n",
      "/Users/jk6653284/anaconda/lib/python3.6/site-packages/sklearn/preprocessing/label.py:151: DeprecationWarning: The truth value of an empty array is ambiguous. Returning False, but in future this will result in an error. Use `array.size > 0` to check that an array is not empty.\n",
      "  if diff:\n"
     ]
    },
    {
     "name": "stdout",
     "output_type": "stream",
     "text": [
      "[CV]  subsample=0.8, max_depth=5, learning_rate=0.3, gamma=0.5, score=0.9359236869474779, total= 1.2min\n",
      "[CV] subsample=0.8, max_depth=5, learning_rate=0.3, gamma=0.5 ........\n"
     ]
    },
    {
     "name": "stderr",
     "output_type": "stream",
     "text": [
      "/Users/jk6653284/anaconda/lib/python3.6/site-packages/sklearn/preprocessing/label.py:151: DeprecationWarning: The truth value of an empty array is ambiguous. Returning False, but in future this will result in an error. Use `array.size > 0` to check that an array is not empty.\n",
      "  if diff:\n",
      "/Users/jk6653284/anaconda/lib/python3.6/site-packages/sklearn/preprocessing/label.py:151: DeprecationWarning: The truth value of an empty array is ambiguous. Returning False, but in future this will result in an error. Use `array.size > 0` to check that an array is not empty.\n",
      "  if diff:\n"
     ]
    },
    {
     "name": "stdout",
     "output_type": "stream",
     "text": [
      "[CV]  subsample=0.8, max_depth=5, learning_rate=0.3, gamma=0.5, score=0.9360526529617291, total= 1.1min\n",
      "[CV] subsample=0.8, max_depth=5, learning_rate=0.3, gamma=0.5 ........\n"
     ]
    },
    {
     "name": "stderr",
     "output_type": "stream",
     "text": [
      "/Users/jk6653284/anaconda/lib/python3.6/site-packages/sklearn/preprocessing/label.py:151: DeprecationWarning: The truth value of an empty array is ambiguous. Returning False, but in future this will result in an error. Use `array.size > 0` to check that an array is not empty.\n",
      "  if diff:\n",
      "/Users/jk6653284/anaconda/lib/python3.6/site-packages/sklearn/preprocessing/label.py:151: DeprecationWarning: The truth value of an empty array is ambiguous. Returning False, but in future this will result in an error. Use `array.size > 0` to check that an array is not empty.\n",
      "  if diff:\n"
     ]
    },
    {
     "name": "stdout",
     "output_type": "stream",
     "text": [
      "[CV]  subsample=0.8, max_depth=5, learning_rate=0.3, gamma=0.5, score=0.9356626310229951, total= 1.1min\n",
      "[CV] subsample=0.8, max_depth=5, learning_rate=0.3, gamma=0.5 ........\n"
     ]
    },
    {
     "name": "stderr",
     "output_type": "stream",
     "text": [
      "/Users/jk6653284/anaconda/lib/python3.6/site-packages/sklearn/preprocessing/label.py:151: DeprecationWarning: The truth value of an empty array is ambiguous. Returning False, but in future this will result in an error. Use `array.size > 0` to check that an array is not empty.\n",
      "  if diff:\n",
      "/Users/jk6653284/anaconda/lib/python3.6/site-packages/sklearn/preprocessing/label.py:151: DeprecationWarning: The truth value of an empty array is ambiguous. Returning False, but in future this will result in an error. Use `array.size > 0` to check that an array is not empty.\n",
      "  if diff:\n"
     ]
    },
    {
     "name": "stdout",
     "output_type": "stream",
     "text": [
      "[CV]  subsample=0.8, max_depth=5, learning_rate=0.3, gamma=0.5, score=0.9358088892500203, total= 1.1min\n",
      "[CV] subsample=0.6, max_depth=3, learning_rate=0.01, gamma=0.1 .......\n"
     ]
    },
    {
     "name": "stderr",
     "output_type": "stream",
     "text": [
      "/Users/jk6653284/anaconda/lib/python3.6/site-packages/sklearn/preprocessing/label.py:151: DeprecationWarning: The truth value of an empty array is ambiguous. Returning False, but in future this will result in an error. Use `array.size > 0` to check that an array is not empty.\n",
      "  if diff:\n",
      "/Users/jk6653284/anaconda/lib/python3.6/site-packages/sklearn/preprocessing/label.py:151: DeprecationWarning: The truth value of an empty array is ambiguous. Returning False, but in future this will result in an error. Use `array.size > 0` to check that an array is not empty.\n",
      "  if diff:\n"
     ]
    },
    {
     "name": "stdout",
     "output_type": "stream",
     "text": [
      "[CV]  subsample=0.6, max_depth=3, learning_rate=0.01, gamma=0.1, score=0.9361349453978159, total=  43.1s\n",
      "[CV] subsample=0.6, max_depth=3, learning_rate=0.01, gamma=0.1 .......\n"
     ]
    },
    {
     "name": "stderr",
     "output_type": "stream",
     "text": [
      "/Users/jk6653284/anaconda/lib/python3.6/site-packages/sklearn/preprocessing/label.py:151: DeprecationWarning: The truth value of an empty array is ambiguous. Returning False, but in future this will result in an error. Use `array.size > 0` to check that an array is not empty.\n",
      "  if diff:\n",
      "/Users/jk6653284/anaconda/lib/python3.6/site-packages/sklearn/preprocessing/label.py:151: DeprecationWarning: The truth value of an empty array is ambiguous. Returning False, but in future this will result in an error. Use `array.size > 0` to check that an array is not empty.\n",
      "  if diff:\n"
     ]
    },
    {
     "name": "stdout",
     "output_type": "stream",
     "text": [
      "[CV]  subsample=0.6, max_depth=3, learning_rate=0.01, gamma=0.1, score=0.9361349453978159, total=  42.9s\n",
      "[CV] subsample=0.6, max_depth=3, learning_rate=0.01, gamma=0.1 .......\n"
     ]
    },
    {
     "name": "stderr",
     "output_type": "stream",
     "text": [
      "/Users/jk6653284/anaconda/lib/python3.6/site-packages/sklearn/preprocessing/label.py:151: DeprecationWarning: The truth value of an empty array is ambiguous. Returning False, but in future this will result in an error. Use `array.size > 0` to check that an array is not empty.\n",
      "  if diff:\n",
      "/Users/jk6653284/anaconda/lib/python3.6/site-packages/sklearn/preprocessing/label.py:151: DeprecationWarning: The truth value of an empty array is ambiguous. Returning False, but in future this will result in an error. Use `array.size > 0` to check that an array is not empty.\n",
      "  if diff:\n"
     ]
    },
    {
     "name": "stdout",
     "output_type": "stream",
     "text": [
      "[CV]  subsample=0.6, max_depth=3, learning_rate=0.01, gamma=0.1, score=0.9361501584464126, total=  43.5s\n",
      "[CV] subsample=0.6, max_depth=3, learning_rate=0.01, gamma=0.1 .......\n"
     ]
    },
    {
     "name": "stderr",
     "output_type": "stream",
     "text": [
      "/Users/jk6653284/anaconda/lib/python3.6/site-packages/sklearn/preprocessing/label.py:151: DeprecationWarning: The truth value of an empty array is ambiguous. Returning False, but in future this will result in an error. Use `array.size > 0` to check that an array is not empty.\n",
      "  if diff:\n",
      "/Users/jk6653284/anaconda/lib/python3.6/site-packages/sklearn/preprocessing/label.py:151: DeprecationWarning: The truth value of an empty array is ambiguous. Returning False, but in future this will result in an error. Use `array.size > 0` to check that an array is not empty.\n",
      "  if diff:\n"
     ]
    },
    {
     "name": "stdout",
     "output_type": "stream",
     "text": [
      "[CV]  subsample=0.6, max_depth=3, learning_rate=0.01, gamma=0.1, score=0.9361501584464126, total=  41.1s\n",
      "[CV] subsample=0.6, max_depth=3, learning_rate=0.01, gamma=0.1 .......\n"
     ]
    },
    {
     "name": "stderr",
     "output_type": "stream",
     "text": [
      "/Users/jk6653284/anaconda/lib/python3.6/site-packages/sklearn/preprocessing/label.py:151: DeprecationWarning: The truth value of an empty array is ambiguous. Returning False, but in future this will result in an error. Use `array.size > 0` to check that an array is not empty.\n",
      "  if diff:\n",
      "/Users/jk6653284/anaconda/lib/python3.6/site-packages/sklearn/preprocessing/label.py:151: DeprecationWarning: The truth value of an empty array is ambiguous. Returning False, but in future this will result in an error. Use `array.size > 0` to check that an array is not empty.\n",
      "  if diff:\n"
     ]
    },
    {
     "name": "stdout",
     "output_type": "stream",
     "text": [
      "[CV]  subsample=0.6, max_depth=3, learning_rate=0.01, gamma=0.1, score=0.9361501584464126, total=  39.0s\n",
      "[CV] subsample=0.8, max_depth=3, learning_rate=0.3, gamma=0.5 ........\n"
     ]
    },
    {
     "name": "stderr",
     "output_type": "stream",
     "text": [
      "/Users/jk6653284/anaconda/lib/python3.6/site-packages/sklearn/preprocessing/label.py:151: DeprecationWarning: The truth value of an empty array is ambiguous. Returning False, but in future this will result in an error. Use `array.size > 0` to check that an array is not empty.\n",
      "  if diff:\n",
      "/Users/jk6653284/anaconda/lib/python3.6/site-packages/sklearn/preprocessing/label.py:151: DeprecationWarning: The truth value of an empty array is ambiguous. Returning False, but in future this will result in an error. Use `array.size > 0` to check that an array is not empty.\n",
      "  if diff:\n"
     ]
    },
    {
     "name": "stdout",
     "output_type": "stream",
     "text": [
      "[CV]  subsample=0.8, max_depth=3, learning_rate=0.3, gamma=0.5, score=0.9360699427977119, total=  37.9s\n",
      "[CV] subsample=0.8, max_depth=3, learning_rate=0.3, gamma=0.5 ........\n"
     ]
    },
    {
     "name": "stderr",
     "output_type": "stream",
     "text": [
      "/Users/jk6653284/anaconda/lib/python3.6/site-packages/sklearn/preprocessing/label.py:151: DeprecationWarning: The truth value of an empty array is ambiguous. Returning False, but in future this will result in an error. Use `array.size > 0` to check that an array is not empty.\n",
      "  if diff:\n",
      "/Users/jk6653284/anaconda/lib/python3.6/site-packages/sklearn/preprocessing/label.py:151: DeprecationWarning: The truth value of an empty array is ambiguous. Returning False, but in future this will result in an error. Use `array.size > 0` to check that an array is not empty.\n",
      "  if diff:\n"
     ]
    },
    {
     "name": "stdout",
     "output_type": "stream",
     "text": [
      "[CV]  subsample=0.8, max_depth=3, learning_rate=0.3, gamma=0.5, score=0.9361511960478419, total=  37.9s\n",
      "[CV] subsample=0.8, max_depth=3, learning_rate=0.3, gamma=0.5 ........\n"
     ]
    },
    {
     "name": "stderr",
     "output_type": "stream",
     "text": [
      "/Users/jk6653284/anaconda/lib/python3.6/site-packages/sklearn/preprocessing/label.py:151: DeprecationWarning: The truth value of an empty array is ambiguous. Returning False, but in future this will result in an error. Use `array.size > 0` to check that an array is not empty.\n",
      "  if diff:\n",
      "/Users/jk6653284/anaconda/lib/python3.6/site-packages/sklearn/preprocessing/label.py:151: DeprecationWarning: The truth value of an empty array is ambiguous. Returning False, but in future this will result in an error. Use `array.size > 0` to check that an array is not empty.\n",
      "  if diff:\n"
     ]
    },
    {
     "name": "stdout",
     "output_type": "stream",
     "text": [
      "[CV]  subsample=0.8, max_depth=3, learning_rate=0.3, gamma=0.5, score=0.9361176566181848, total=  40.8s\n",
      "[CV] subsample=0.8, max_depth=3, learning_rate=0.3, gamma=0.5 ........\n"
     ]
    },
    {
     "name": "stderr",
     "output_type": "stream",
     "text": [
      "/Users/jk6653284/anaconda/lib/python3.6/site-packages/sklearn/preprocessing/label.py:151: DeprecationWarning: The truth value of an empty array is ambiguous. Returning False, but in future this will result in an error. Use `array.size > 0` to check that an array is not empty.\n",
      "  if diff:\n",
      "/Users/jk6653284/anaconda/lib/python3.6/site-packages/sklearn/preprocessing/label.py:151: DeprecationWarning: The truth value of an empty array is ambiguous. Returning False, but in future this will result in an error. Use `array.size > 0` to check that an array is not empty.\n",
      "  if diff:\n"
     ]
    },
    {
     "name": "stdout",
     "output_type": "stream",
     "text": [
      "[CV]  subsample=0.8, max_depth=3, learning_rate=0.3, gamma=0.5, score=0.9361014057040709, total=  39.4s\n",
      "[CV] subsample=0.8, max_depth=3, learning_rate=0.3, gamma=0.5 ........\n"
     ]
    },
    {
     "name": "stderr",
     "output_type": "stream",
     "text": [
      "/Users/jk6653284/anaconda/lib/python3.6/site-packages/sklearn/preprocessing/label.py:151: DeprecationWarning: The truth value of an empty array is ambiguous. Returning False, but in future this will result in an error. Use `array.size > 0` to check that an array is not empty.\n",
      "  if diff:\n",
      "/Users/jk6653284/anaconda/lib/python3.6/site-packages/sklearn/preprocessing/label.py:151: DeprecationWarning: The truth value of an empty array is ambiguous. Returning False, but in future this will result in an error. Use `array.size > 0` to check that an array is not empty.\n",
      "  if diff:\n"
     ]
    },
    {
     "name": "stdout",
     "output_type": "stream",
     "text": [
      "[CV]  subsample=0.8, max_depth=3, learning_rate=0.3, gamma=0.5, score=0.9360851547899569, total=  40.0s\n",
      "[CV] subsample=0.8, max_depth=3, learning_rate=0.1, gamma=0.1 ........\n"
     ]
    },
    {
     "name": "stderr",
     "output_type": "stream",
     "text": [
      "/Users/jk6653284/anaconda/lib/python3.6/site-packages/sklearn/preprocessing/label.py:151: DeprecationWarning: The truth value of an empty array is ambiguous. Returning False, but in future this will result in an error. Use `array.size > 0` to check that an array is not empty.\n",
      "  if diff:\n",
      "/Users/jk6653284/anaconda/lib/python3.6/site-packages/sklearn/preprocessing/label.py:151: DeprecationWarning: The truth value of an empty array is ambiguous. Returning False, but in future this will result in an error. Use `array.size > 0` to check that an array is not empty.\n",
      "  if diff:\n"
     ]
    },
    {
     "name": "stdout",
     "output_type": "stream",
     "text": [
      "[CV]  subsample=0.8, max_depth=3, learning_rate=0.1, gamma=0.1, score=0.9361349453978159, total=  41.2s\n",
      "[CV] subsample=0.8, max_depth=3, learning_rate=0.1, gamma=0.1 ........\n"
     ]
    },
    {
     "name": "stderr",
     "output_type": "stream",
     "text": [
      "/Users/jk6653284/anaconda/lib/python3.6/site-packages/sklearn/preprocessing/label.py:151: DeprecationWarning: The truth value of an empty array is ambiguous. Returning False, but in future this will result in an error. Use `array.size > 0` to check that an array is not empty.\n",
      "  if diff:\n",
      "/Users/jk6653284/anaconda/lib/python3.6/site-packages/sklearn/preprocessing/label.py:151: DeprecationWarning: The truth value of an empty array is ambiguous. Returning False, but in future this will result in an error. Use `array.size > 0` to check that an array is not empty.\n",
      "  if diff:\n"
     ]
    },
    {
     "name": "stdout",
     "output_type": "stream",
     "text": [
      "[CV]  subsample=0.8, max_depth=3, learning_rate=0.1, gamma=0.1, score=0.9361349453978159, total=  38.7s\n",
      "[CV] subsample=0.8, max_depth=3, learning_rate=0.1, gamma=0.1 ........\n"
     ]
    },
    {
     "name": "stderr",
     "output_type": "stream",
     "text": [
      "/Users/jk6653284/anaconda/lib/python3.6/site-packages/sklearn/preprocessing/label.py:151: DeprecationWarning: The truth value of an empty array is ambiguous. Returning False, but in future this will result in an error. Use `array.size > 0` to check that an array is not empty.\n",
      "  if diff:\n",
      "/Users/jk6653284/anaconda/lib/python3.6/site-packages/sklearn/preprocessing/label.py:151: DeprecationWarning: The truth value of an empty array is ambiguous. Returning False, but in future this will result in an error. Use `array.size > 0` to check that an array is not empty.\n",
      "  if diff:\n"
     ]
    },
    {
     "name": "stdout",
     "output_type": "stream",
     "text": [
      "[CV]  subsample=0.8, max_depth=3, learning_rate=0.1, gamma=0.1, score=0.9361501584464126, total=  39.7s\n",
      "[CV] subsample=0.8, max_depth=3, learning_rate=0.1, gamma=0.1 ........\n"
     ]
    },
    {
     "name": "stderr",
     "output_type": "stream",
     "text": [
      "/Users/jk6653284/anaconda/lib/python3.6/site-packages/sklearn/preprocessing/label.py:151: DeprecationWarning: The truth value of an empty array is ambiguous. Returning False, but in future this will result in an error. Use `array.size > 0` to check that an array is not empty.\n",
      "  if diff:\n",
      "/Users/jk6653284/anaconda/lib/python3.6/site-packages/sklearn/preprocessing/label.py:151: DeprecationWarning: The truth value of an empty array is ambiguous. Returning False, but in future this will result in an error. Use `array.size > 0` to check that an array is not empty.\n",
      "  if diff:\n"
     ]
    },
    {
     "name": "stdout",
     "output_type": "stream",
     "text": [
      "[CV]  subsample=0.8, max_depth=3, learning_rate=0.1, gamma=0.1, score=0.9361501584464126, total=  39.5s\n",
      "[CV] subsample=0.8, max_depth=3, learning_rate=0.1, gamma=0.1 ........\n"
     ]
    },
    {
     "name": "stderr",
     "output_type": "stream",
     "text": [
      "/Users/jk6653284/anaconda/lib/python3.6/site-packages/sklearn/preprocessing/label.py:151: DeprecationWarning: The truth value of an empty array is ambiguous. Returning False, but in future this will result in an error. Use `array.size > 0` to check that an array is not empty.\n",
      "  if diff:\n",
      "/Users/jk6653284/anaconda/lib/python3.6/site-packages/sklearn/preprocessing/label.py:151: DeprecationWarning: The truth value of an empty array is ambiguous. Returning False, but in future this will result in an error. Use `array.size > 0` to check that an array is not empty.\n",
      "  if diff:\n"
     ]
    },
    {
     "name": "stdout",
     "output_type": "stream",
     "text": [
      "[CV]  subsample=0.8, max_depth=3, learning_rate=0.1, gamma=0.1, score=0.9361501584464126, total=  40.7s\n",
      "[CV] subsample=0.8, max_depth=8, learning_rate=0.1, gamma=0 ..........\n"
     ]
    },
    {
     "name": "stderr",
     "output_type": "stream",
     "text": [
      "/Users/jk6653284/anaconda/lib/python3.6/site-packages/sklearn/preprocessing/label.py:151: DeprecationWarning: The truth value of an empty array is ambiguous. Returning False, but in future this will result in an error. Use `array.size > 0` to check that an array is not empty.\n",
      "  if diff:\n",
      "/Users/jk6653284/anaconda/lib/python3.6/site-packages/sklearn/preprocessing/label.py:151: DeprecationWarning: The truth value of an empty array is ambiguous. Returning False, but in future this will result in an error. Use `array.size > 0` to check that an array is not empty.\n",
      "  if diff:\n"
     ]
    },
    {
     "name": "stdout",
     "output_type": "stream",
     "text": [
      "[CV]  subsample=0.8, max_depth=8, learning_rate=0.1, gamma=0, score=0.9360049401976079, total= 1.8min\n",
      "[CV] subsample=0.8, max_depth=8, learning_rate=0.1, gamma=0 ..........\n"
     ]
    },
    {
     "name": "stderr",
     "output_type": "stream",
     "text": [
      "/Users/jk6653284/anaconda/lib/python3.6/site-packages/sklearn/preprocessing/label.py:151: DeprecationWarning: The truth value of an empty array is ambiguous. Returning False, but in future this will result in an error. Use `array.size > 0` to check that an array is not empty.\n",
      "  if diff:\n",
      "/Users/jk6653284/anaconda/lib/python3.6/site-packages/sklearn/preprocessing/label.py:151: DeprecationWarning: The truth value of an empty array is ambiguous. Returning False, but in future this will result in an error. Use `array.size > 0` to check that an array is not empty.\n",
      "  if diff:\n"
     ]
    },
    {
     "name": "stdout",
     "output_type": "stream",
     "text": [
      "[CV]  subsample=0.8, max_depth=8, learning_rate=0.1, gamma=0, score=0.9362324492979719, total= 1.9min\n",
      "[CV] subsample=0.8, max_depth=8, learning_rate=0.1, gamma=0 ..........\n"
     ]
    },
    {
     "name": "stderr",
     "output_type": "stream",
     "text": [
      "/Users/jk6653284/anaconda/lib/python3.6/site-packages/sklearn/preprocessing/label.py:151: DeprecationWarning: The truth value of an empty array is ambiguous. Returning False, but in future this will result in an error. Use `array.size > 0` to check that an array is not empty.\n",
      "  if diff:\n",
      "/Users/jk6653284/anaconda/lib/python3.6/site-packages/sklearn/preprocessing/label.py:151: DeprecationWarning: The truth value of an empty array is ambiguous. Returning False, but in future this will result in an error. Use `array.size > 0` to check that an array is not empty.\n",
      "  if diff:\n"
     ]
    },
    {
     "name": "stdout",
     "output_type": "stream",
     "text": [
      "[CV]  subsample=0.8, max_depth=8, learning_rate=0.1, gamma=0, score=0.9361664093605265, total= 1.9min\n",
      "[CV] subsample=0.8, max_depth=8, learning_rate=0.1, gamma=0 ..........\n"
     ]
    },
    {
     "name": "stderr",
     "output_type": "stream",
     "text": [
      "/Users/jk6653284/anaconda/lib/python3.6/site-packages/sklearn/preprocessing/label.py:151: DeprecationWarning: The truth value of an empty array is ambiguous. Returning False, but in future this will result in an error. Use `array.size > 0` to check that an array is not empty.\n",
      "  if diff:\n",
      "/Users/jk6653284/anaconda/lib/python3.6/site-packages/sklearn/preprocessing/label.py:151: DeprecationWarning: The truth value of an empty array is ambiguous. Returning False, but in future this will result in an error. Use `array.size > 0` to check that an array is not empty.\n",
      "  if diff:\n"
     ]
    },
    {
     "name": "stdout",
     "output_type": "stream",
     "text": [
      "[CV]  subsample=0.8, max_depth=8, learning_rate=0.1, gamma=0, score=0.936068903875843, total= 1.9min\n",
      "[CV] subsample=0.8, max_depth=8, learning_rate=0.1, gamma=0 ..........\n"
     ]
    },
    {
     "name": "stderr",
     "output_type": "stream",
     "text": [
      "/Users/jk6653284/anaconda/lib/python3.6/site-packages/sklearn/preprocessing/label.py:151: DeprecationWarning: The truth value of an empty array is ambiguous. Returning False, but in future this will result in an error. Use `array.size > 0` to check that an array is not empty.\n",
      "  if diff:\n",
      "/Users/jk6653284/anaconda/lib/python3.6/site-packages/sklearn/preprocessing/label.py:151: DeprecationWarning: The truth value of an empty array is ambiguous. Returning False, but in future this will result in an error. Use `array.size > 0` to check that an array is not empty.\n",
      "  if diff:\n"
     ]
    },
    {
     "name": "stdout",
     "output_type": "stream",
     "text": [
      "[CV]  subsample=0.8, max_depth=8, learning_rate=0.1, gamma=0, score=0.9361501584464126, total= 1.8min\n",
      "[CV] subsample=0.8, max_depth=5, learning_rate=0.3, gamma=0.1 ........\n"
     ]
    },
    {
     "name": "stderr",
     "output_type": "stream",
     "text": [
      "/Users/jk6653284/anaconda/lib/python3.6/site-packages/sklearn/preprocessing/label.py:151: DeprecationWarning: The truth value of an empty array is ambiguous. Returning False, but in future this will result in an error. Use `array.size > 0` to check that an array is not empty.\n",
      "  if diff:\n",
      "/Users/jk6653284/anaconda/lib/python3.6/site-packages/sklearn/preprocessing/label.py:151: DeprecationWarning: The truth value of an empty array is ambiguous. Returning False, but in future this will result in an error. Use `array.size > 0` to check that an array is not empty.\n",
      "  if diff:\n"
     ]
    },
    {
     "name": "stdout",
     "output_type": "stream",
     "text": [
      "[CV]  subsample=0.8, max_depth=5, learning_rate=0.3, gamma=0.1, score=0.9360699427977119, total= 1.1min\n",
      "[CV] subsample=0.8, max_depth=5, learning_rate=0.3, gamma=0.1 ........\n"
     ]
    },
    {
     "name": "stderr",
     "output_type": "stream",
     "text": [
      "/Users/jk6653284/anaconda/lib/python3.6/site-packages/sklearn/preprocessing/label.py:151: DeprecationWarning: The truth value of an empty array is ambiguous. Returning False, but in future this will result in an error. Use `array.size > 0` to check that an array is not empty.\n",
      "  if diff:\n",
      "/Users/jk6653284/anaconda/lib/python3.6/site-packages/sklearn/preprocessing/label.py:151: DeprecationWarning: The truth value of an empty array is ambiguous. Returning False, but in future this will result in an error. Use `array.size > 0` to check that an array is not empty.\n",
      "  if diff:\n"
     ]
    },
    {
     "name": "stdout",
     "output_type": "stream",
     "text": [
      "[CV]  subsample=0.8, max_depth=5, learning_rate=0.3, gamma=0.1, score=0.9361186947477899, total= 1.2min\n",
      "[CV] subsample=0.8, max_depth=5, learning_rate=0.3, gamma=0.1 ........\n"
     ]
    },
    {
     "name": "stderr",
     "output_type": "stream",
     "text": [
      "/Users/jk6653284/anaconda/lib/python3.6/site-packages/sklearn/preprocessing/label.py:151: DeprecationWarning: The truth value of an empty array is ambiguous. Returning False, but in future this will result in an error. Use `array.size > 0` to check that an array is not empty.\n",
      "  if diff:\n",
      "/Users/jk6653284/anaconda/lib/python3.6/site-packages/sklearn/preprocessing/label.py:151: DeprecationWarning: The truth value of an empty array is ambiguous. Returning False, but in future this will result in an error. Use `array.size > 0` to check that an array is not empty.\n",
      "  if diff:\n"
     ]
    },
    {
     "name": "stdout",
     "output_type": "stream",
     "text": [
      "[CV]  subsample=0.8, max_depth=5, learning_rate=0.3, gamma=0.1, score=0.9360201511335012, total= 1.1min\n",
      "[CV] subsample=0.8, max_depth=5, learning_rate=0.3, gamma=0.1 ........\n"
     ]
    },
    {
     "name": "stderr",
     "output_type": "stream",
     "text": [
      "/Users/jk6653284/anaconda/lib/python3.6/site-packages/sklearn/preprocessing/label.py:151: DeprecationWarning: The truth value of an empty array is ambiguous. Returning False, but in future this will result in an error. Use `array.size > 0` to check that an array is not empty.\n",
      "  if diff:\n",
      "/Users/jk6653284/anaconda/lib/python3.6/site-packages/sklearn/preprocessing/label.py:151: DeprecationWarning: The truth value of an empty array is ambiguous. Returning False, but in future this will result in an error. Use `array.size > 0` to check that an array is not empty.\n",
      "  if diff:\n"
     ]
    },
    {
     "name": "stdout",
     "output_type": "stream",
     "text": [
      "[CV]  subsample=0.8, max_depth=5, learning_rate=0.3, gamma=0.1, score=0.9357763874217925, total= 1.1min\n",
      "[CV] subsample=0.8, max_depth=5, learning_rate=0.3, gamma=0.1 ........\n"
     ]
    },
    {
     "name": "stderr",
     "output_type": "stream",
     "text": [
      "/Users/jk6653284/anaconda/lib/python3.6/site-packages/sklearn/preprocessing/label.py:151: DeprecationWarning: The truth value of an empty array is ambiguous. Returning False, but in future this will result in an error. Use `array.size > 0` to check that an array is not empty.\n",
      "  if diff:\n",
      "/Users/jk6653284/anaconda/lib/python3.6/site-packages/sklearn/preprocessing/label.py:151: DeprecationWarning: The truth value of an empty array is ambiguous. Returning False, but in future this will result in an error. Use `array.size > 0` to check that an array is not empty.\n",
      "  if diff:\n"
     ]
    },
    {
     "name": "stdout",
     "output_type": "stream",
     "text": [
      "[CV]  subsample=0.8, max_depth=5, learning_rate=0.3, gamma=0.1, score=0.9358413910782482, total= 1.1min\n",
      "[CV] subsample=0.6, max_depth=5, learning_rate=0.1, gamma=0.1 ........\n"
     ]
    },
    {
     "name": "stderr",
     "output_type": "stream",
     "text": [
      "/Users/jk6653284/anaconda/lib/python3.6/site-packages/sklearn/preprocessing/label.py:151: DeprecationWarning: The truth value of an empty array is ambiguous. Returning False, but in future this will result in an error. Use `array.size > 0` to check that an array is not empty.\n",
      "  if diff:\n",
      "/Users/jk6653284/anaconda/lib/python3.6/site-packages/sklearn/preprocessing/label.py:151: DeprecationWarning: The truth value of an empty array is ambiguous. Returning False, but in future this will result in an error. Use `array.size > 0` to check that an array is not empty.\n",
      "  if diff:\n"
     ]
    },
    {
     "name": "stdout",
     "output_type": "stream",
     "text": [
      "[CV]  subsample=0.6, max_depth=5, learning_rate=0.1, gamma=0.1, score=0.9361186947477899, total= 1.2min\n",
      "[CV] subsample=0.6, max_depth=5, learning_rate=0.1, gamma=0.1 ........\n"
     ]
    },
    {
     "name": "stderr",
     "output_type": "stream",
     "text": [
      "/Users/jk6653284/anaconda/lib/python3.6/site-packages/sklearn/preprocessing/label.py:151: DeprecationWarning: The truth value of an empty array is ambiguous. Returning False, but in future this will result in an error. Use `array.size > 0` to check that an array is not empty.\n",
      "  if diff:\n",
      "/Users/jk6653284/anaconda/lib/python3.6/site-packages/sklearn/preprocessing/label.py:151: DeprecationWarning: The truth value of an empty array is ambiguous. Returning False, but in future this will result in an error. Use `array.size > 0` to check that an array is not empty.\n",
      "  if diff:\n"
     ]
    },
    {
     "name": "stdout",
     "output_type": "stream",
     "text": [
      "[CV]  subsample=0.6, max_depth=5, learning_rate=0.1, gamma=0.1, score=0.9361349453978159, total= 1.3min\n",
      "[CV] subsample=0.6, max_depth=5, learning_rate=0.1, gamma=0.1 ........\n"
     ]
    },
    {
     "name": "stderr",
     "output_type": "stream",
     "text": [
      "/Users/jk6653284/anaconda/lib/python3.6/site-packages/sklearn/preprocessing/label.py:151: DeprecationWarning: The truth value of an empty array is ambiguous. Returning False, but in future this will result in an error. Use `array.size > 0` to check that an array is not empty.\n",
      "  if diff:\n",
      "/Users/jk6653284/anaconda/lib/python3.6/site-packages/sklearn/preprocessing/label.py:151: DeprecationWarning: The truth value of an empty array is ambiguous. Returning False, but in future this will result in an error. Use `array.size > 0` to check that an array is not empty.\n",
      "  if diff:\n"
     ]
    },
    {
     "name": "stdout",
     "output_type": "stream",
     "text": [
      "[CV]  subsample=0.6, max_depth=5, learning_rate=0.1, gamma=0.1, score=0.9361339075322986, total= 1.3min\n",
      "[CV] subsample=0.6, max_depth=5, learning_rate=0.1, gamma=0.1 ........\n"
     ]
    },
    {
     "name": "stderr",
     "output_type": "stream",
     "text": [
      "/Users/jk6653284/anaconda/lib/python3.6/site-packages/sklearn/preprocessing/label.py:151: DeprecationWarning: The truth value of an empty array is ambiguous. Returning False, but in future this will result in an error. Use `array.size > 0` to check that an array is not empty.\n",
      "  if diff:\n",
      "/Users/jk6653284/anaconda/lib/python3.6/site-packages/sklearn/preprocessing/label.py:151: DeprecationWarning: The truth value of an empty array is ambiguous. Returning False, but in future this will result in an error. Use `array.size > 0` to check that an array is not empty.\n",
      "  if diff:\n"
     ]
    },
    {
     "name": "stdout",
     "output_type": "stream",
     "text": [
      "[CV]  subsample=0.6, max_depth=5, learning_rate=0.1, gamma=0.1, score=0.9361014057040709, total= 1.2min\n",
      "[CV] subsample=0.6, max_depth=5, learning_rate=0.1, gamma=0.1 ........\n"
     ]
    },
    {
     "name": "stderr",
     "output_type": "stream",
     "text": [
      "/Users/jk6653284/anaconda/lib/python3.6/site-packages/sklearn/preprocessing/label.py:151: DeprecationWarning: The truth value of an empty array is ambiguous. Returning False, but in future this will result in an error. Use `array.size > 0` to check that an array is not empty.\n",
      "  if diff:\n",
      "/Users/jk6653284/anaconda/lib/python3.6/site-packages/sklearn/preprocessing/label.py:151: DeprecationWarning: The truth value of an empty array is ambiguous. Returning False, but in future this will result in an error. Use `array.size > 0` to check that an array is not empty.\n",
      "  if diff:\n",
      "[Parallel(n_jobs=1)]: Done  50 out of  50 | elapsed: 53.0min finished\n"
     ]
    },
    {
     "name": "stdout",
     "output_type": "stream",
     "text": [
      "[CV]  subsample=0.6, max_depth=5, learning_rate=0.1, gamma=0.1, score=0.9361339075322986, total= 1.2min\n"
     ]
    },
    {
     "data": {
      "text/plain": [
       "RandomizedSearchCV(cv=StratifiedKFold(n_splits=5, random_state=42, shuffle=True),\n",
       "          error_score='raise',\n",
       "          estimator=XGBClassifier(base_score=0.5, booster='gbtree', colsample_bylevel=1,\n",
       "       colsample_bytree=1, gamma=0, learning_rate=0.1, max_delta_step=0,\n",
       "       max_depth=3, min_child_weight=1, missing=None, n_estimators=100,\n",
       "       n_jobs=1, nthread=None, objective='binary:logistic', random_state=0,\n",
       "       reg_alpha=0, reg_lambda=1, scale_pos_weight=1, seed=None,\n",
       "       silent=True, subsample=1),\n",
       "          fit_params=None, iid=True, n_iter=10, n_jobs=1,\n",
       "          param_distributions={'gamma': [0.1, 0.5, 0], 'learning_rate': [0.3, 0.1, 0.01], 'max_depth': [3, 5, 8], 'subsample': [0.6, 0.8, 0.9]},\n",
       "          pre_dispatch='2*n_jobs', random_state=42, refit=True,\n",
       "          return_train_score='warn', scoring=None, verbose=5)"
      ]
     },
     "execution_count": 94,
     "metadata": {},
     "output_type": "execute_result"
    }
   ],
   "source": [
    "# hyperparameter tuning\n",
    "xgb_random = RandomizedSearchCV(xgb, param_distributions = {\n",
    "    'gamma': [0.1,0.5,0],\n",
    "    'learning_rate': [0.3,0.1,0.01],\n",
    "    'max_depth' : [3,5,8],\n",
    "    'subsample' : [0.6, 0.8, 0.9]\n",
    "},\n",
    "                               cv = skfolds, verbose = 5, random_state = 42, n_jobs = 1)\n",
    "\n",
    "# fit training data\n",
    "xgb_random.fit(X_train_transformed, y_train)"
   ]
  },
  {
   "cell_type": "code",
   "execution_count": 95,
   "metadata": {},
   "outputs": [
    {
     "name": "stdout",
     "output_type": "stream",
     "text": [
      "XGBClassifier(base_score=0.5, booster='gbtree', colsample_bylevel=1,\n",
      "       colsample_bytree=1, gamma=0.1, learning_rate=0.01, max_delta_step=0,\n",
      "       max_depth=5, min_child_weight=1, missing=None, n_estimators=100,\n",
      "       n_jobs=1, nthread=None, objective='binary:logistic', random_state=0,\n",
      "       reg_alpha=0, reg_lambda=1, scale_pos_weight=1, seed=None,\n",
      "       silent=True, subsample=0.8)\n",
      "0.9361440731676401\n"
     ]
    }
   ],
   "source": [
    "print(xgb_random.best_estimator_)\n",
    "print(xgb_random.best_score_)"
   ]
  },
  {
   "cell_type": "markdown",
   "metadata": {},
   "source": [
    "### Logistic regression parameter tuning"
   ]
  },
  {
   "cell_type": "code",
   "execution_count": 96,
   "metadata": {
    "scrolled": true
   },
   "outputs": [
    {
     "name": "stdout",
     "output_type": "stream",
     "text": [
      "Fitting 5 folds for each of 7 candidates, totalling 35 fits\n",
      "[CV] C=0.001 .........................................................\n",
      "[CV] ................ C=0.001, score=0.9356961778471139, total=   1.2s\n",
      "[CV] C=0.001 .........................................................\n"
     ]
    },
    {
     "name": "stderr",
     "output_type": "stream",
     "text": [
      "[Parallel(n_jobs=1)]: Done   1 out of   1 | elapsed:    1.3s remaining:    0.0s\n"
     ]
    },
    {
     "name": "stdout",
     "output_type": "stream",
     "text": [
      "[CV] ................ C=0.001, score=0.9357936817472698, total=   1.1s\n",
      "[CV] C=0.001 .........................................................\n"
     ]
    },
    {
     "name": "stderr",
     "output_type": "stream",
     "text": [
      "[Parallel(n_jobs=1)]: Done   2 out of   2 | elapsed:    2.5s remaining:    0.0s\n"
     ]
    },
    {
     "name": "stdout",
     "output_type": "stream",
     "text": [
      "[CV] ................ C=0.001, score=0.9358576419923621, total=   1.2s\n",
      "[CV] C=0.001 .........................................................\n"
     ]
    },
    {
     "name": "stderr",
     "output_type": "stream",
     "text": [
      "[Parallel(n_jobs=1)]: Done   3 out of   3 | elapsed:    3.8s remaining:    0.0s\n"
     ]
    },
    {
     "name": "stdout",
     "output_type": "stream",
     "text": [
      "[CV] ................ C=0.001, score=0.9356788819371089, total=   1.2s\n",
      "[CV] C=0.001 .........................................................\n"
     ]
    },
    {
     "name": "stderr",
     "output_type": "stream",
     "text": [
      "[Parallel(n_jobs=1)]: Done   4 out of   4 | elapsed:    5.1s remaining:    0.0s\n"
     ]
    },
    {
     "name": "stdout",
     "output_type": "stream",
     "text": [
      "[CV] ................ C=0.001, score=0.9355651255383115, total=   1.3s\n",
      "[CV] C=0.01 ..........................................................\n",
      "[CV] ................. C=0.01, score=0.9356311752470099, total=   1.5s\n",
      "[CV] C=0.01 ..........................................................\n",
      "[CV] ................. C=0.01, score=0.9358424336973479, total=   1.7s\n",
      "[CV] C=0.01 ..........................................................\n",
      "[CV] ................. C=0.01, score=0.9358088892500203, total=   1.8s\n",
      "[CV] C=0.01 ..........................................................\n",
      "[CV] ................. C=0.01, score=0.9357438855935646, total=   1.7s\n",
      "[CV] C=0.01 ..........................................................\n",
      "[CV] ................. C=0.01, score=0.9355976273665394, total=   1.6s\n",
      "[CV] C=0.1 ...........................................................\n",
      "[CV] .................. C=0.1, score=0.9356149245969839, total=   2.7s\n",
      "[CV] C=0.1 ...........................................................\n",
      "[CV] .................. C=0.1, score=0.9358586843473738, total=   2.8s\n",
      "[CV] C=0.1 ...........................................................\n",
      "[CV] .................. C=0.1, score=0.9357926383359064, total=   2.7s\n",
      "[CV] C=0.1 ...........................................................\n",
      "[CV] .................. C=0.1, score=0.9356301291947672, total=   2.5s\n",
      "[CV] C=0.1 ...........................................................\n",
      "[CV] .................. C=0.1, score=0.9355976273665394, total=   2.5s\n",
      "[CV] C=1 .............................................................\n",
      "[CV] .................... C=1, score=0.9355986739469578, total=   4.1s\n",
      "[CV] C=1 .............................................................\n",
      "[CV] .................... C=1, score=0.9358261830473219, total=   3.5s\n",
      "[CV] C=1 .............................................................\n",
      "[CV] .................... C=1, score=0.9357276346794507, total=   3.9s\n",
      "[CV] C=1 .............................................................\n",
      "[CV] .................... C=1, score=0.9355651255383115, total=   4.3s\n",
      "[CV] C=1 .............................................................\n",
      "[CV] .................... C=1, score=0.9356301291947672, total=   4.3s\n",
      "[CV] C=10 ............................................................\n",
      "[CV] ................... C=10, score=0.9356149245969839, total=   5.1s\n",
      "[CV] C=10 ............................................................\n",
      "[CV] ................... C=10, score=0.9358099323972959, total=   4.8s\n",
      "[CV] C=10 ............................................................\n",
      "[CV] ................... C=10, score=0.9357276346794507, total=   4.6s\n",
      "[CV] C=10 ............................................................\n",
      "[CV] ................... C=10, score=0.9355488746241976, total=   4.9s\n",
      "[CV] C=10 ............................................................\n",
      "[CV] ................... C=10, score=0.9356138782806532, total=   5.0s\n",
      "[CV] C=100 ...........................................................\n",
      "[CV] .................. C=100, score=0.9356149245969839, total=   5.1s\n",
      "[CV] C=100 ...........................................................\n",
      "[CV] .................. C=100, score=0.9358261830473219, total=   5.4s\n",
      "[CV] C=100 ...........................................................\n",
      "[CV] .................. C=100, score=0.9357113837653368, total=   5.8s\n",
      "[CV] C=100 ...........................................................\n",
      "[CV] .................. C=100, score=0.9355488746241976, total=   4.9s\n",
      "[CV] C=100 ...........................................................\n",
      "[CV] .................. C=100, score=0.9356138782806532, total=   4.6s\n",
      "[CV] C=1000 ..........................................................\n",
      "[CV] ................. C=1000, score=0.9356149245969839, total=   5.8s\n",
      "[CV] C=1000 ..........................................................\n",
      "[CV] ................. C=1000, score=0.9358099323972959, total=   5.8s\n",
      "[CV] C=1000 ..........................................................\n",
      "[CV] ................. C=1000, score=0.9357113837653368, total=   5.2s\n",
      "[CV] C=1000 ..........................................................\n",
      "[CV] ................. C=1000, score=0.9355326237100837, total=   6.3s\n",
      "[CV] C=1000 ..........................................................\n",
      "[CV] ................. C=1000, score=0.9356138782806532, total=   4.1s\n"
     ]
    },
    {
     "name": "stderr",
     "output_type": "stream",
     "text": [
      "[Parallel(n_jobs=1)]: Done  35 out of  35 | elapsed:  2.1min finished\n"
     ]
    },
    {
     "data": {
      "text/plain": [
       "GridSearchCV(cv=StratifiedKFold(n_splits=5, random_state=42, shuffle=True),\n",
       "       error_score='raise',\n",
       "       estimator=LogisticRegression(C=1.0, class_weight=None, dual=False, fit_intercept=True,\n",
       "          intercept_scaling=1, max_iter=100, multi_class='ovr', n_jobs=1,\n",
       "          penalty='l2', random_state=None, solver='liblinear', tol=0.0001,\n",
       "          verbose=0, warm_start=False),\n",
       "       fit_params=None, iid=True, n_jobs=1,\n",
       "       param_grid={'C': [0.001, 0.01, 0.1, 1, 10, 100, 1000]},\n",
       "       pre_dispatch='2*n_jobs', refit=True, return_train_score='warn',\n",
       "       scoring=None, verbose=5)"
      ]
     },
     "execution_count": 96,
     "metadata": {},
     "output_type": "execute_result"
    }
   ],
   "source": [
    "# hyperparameter tuning\n",
    "lr_grid = GridSearchCV(lr, param_grid = {\n",
    "    'C': [0.001, 0.01, 0.1, 1, 10, 100, 1000]\n",
    "},\n",
    "                               cv = skfolds, verbose = 5, n_jobs = 1)\n",
    "\n",
    "# fit random search CV\n",
    "lr_grid.fit(X_train_transformed, y_train)"
   ]
  },
  {
   "cell_type": "code",
   "execution_count": 98,
   "metadata": {},
   "outputs": [
    {
     "name": "stdout",
     "output_type": "stream",
     "text": [
      "LogisticRegression(C=0.01, class_weight=None, dual=False, fit_intercept=True,\n",
      "          intercept_scaling=1, max_iter=100, multi_class='ovr', n_jobs=1,\n",
      "          penalty='l2', random_state=None, solver='liblinear', tol=0.0001,\n",
      "          verbose=0, warm_start=False)\n",
      "0.9357248023089149\n"
     ]
    }
   ],
   "source": [
    "print(lr_grid.best_estimator_)\n",
    "print(lr_grid.best_score_)"
   ]
  },
  {
   "cell_type": "markdown",
   "metadata": {},
   "source": [
    "### Gradient Boosting Classifier"
   ]
  },
  {
   "cell_type": "code",
   "execution_count": 178,
   "metadata": {
    "scrolled": true
   },
   "outputs": [
    {
     "name": "stdout",
     "output_type": "stream",
     "text": [
      "[CV]  ................................................................\n",
      "[CV] ....................... , score=0.9361186947477899, total=  52.2s\n",
      "[CV]  ................................................................\n"
     ]
    },
    {
     "name": "stderr",
     "output_type": "stream",
     "text": [
      "[Parallel(n_jobs=1)]: Done   1 out of   1 | elapsed:   52.3s remaining:    0.0s\n"
     ]
    },
    {
     "name": "stdout",
     "output_type": "stream",
     "text": [
      "[CV] ....................... , score=0.9361349453978159, total=  49.9s\n",
      "[CV]  ................................................................\n"
     ]
    },
    {
     "name": "stderr",
     "output_type": "stream",
     "text": [
      "[Parallel(n_jobs=1)]: Done   2 out of   2 | elapsed:  1.7min remaining:    0.0s\n"
     ]
    },
    {
     "name": "stdout",
     "output_type": "stream",
     "text": [
      "[CV] ....................... , score=0.9361176566181848, total=  49.0s\n",
      "[CV]  ................................................................\n"
     ]
    },
    {
     "name": "stderr",
     "output_type": "stream",
     "text": [
      "[Parallel(n_jobs=1)]: Done   3 out of   3 | elapsed:  2.5min remaining:    0.0s\n"
     ]
    },
    {
     "name": "stdout",
     "output_type": "stream",
     "text": [
      "[CV] ....................... , score=0.9360039002193873, total=  51.2s\n",
      "[CV]  ................................................................\n"
     ]
    },
    {
     "name": "stderr",
     "output_type": "stream",
     "text": [
      "[Parallel(n_jobs=1)]: Done   4 out of   4 | elapsed:  3.4min remaining:    0.0s\n"
     ]
    },
    {
     "name": "stdout",
     "output_type": "stream",
     "text": [
      "[CV] ....................... , score=0.9360526529617291, total=  51.5s\n"
     ]
    },
    {
     "name": "stderr",
     "output_type": "stream",
     "text": [
      "[Parallel(n_jobs=1)]: Done   5 out of   5 | elapsed:  4.2min finished\n"
     ]
    }
   ],
   "source": [
    "# ordinary gbm using parameters from light gbm\n",
    "from sklearn.ensemble import GradientBoostingClassifier\n",
    "\n",
    "gbm_tuned = GradientBoostingClassifier(learning_rate = 0.3, min_weight_fraction_leaf = 0.001,)\n",
    "\n",
    "gbm_tuned_cv = cross_val_score(gbm_tuned, X_train_transformed, y_train,  cv = skfolds, verbose = 5)"
   ]
  },
  {
   "cell_type": "code",
   "execution_count": 184,
   "metadata": {
    "scrolled": true
   },
   "outputs": [
    {
     "name": "stdout",
     "output_type": "stream",
     "text": [
      "GradientBoostingClassifier(criterion='friedman_mse', init=None,\n",
      "              learning_rate=0.3, loss='deviance', max_depth=3,\n",
      "              max_features=None, max_leaf_nodes=None,\n",
      "              min_impurity_decrease=0.0, min_impurity_split=None,\n",
      "              min_samples_leaf=1, min_samples_split=2,\n",
      "              min_weight_fraction_leaf=0.001, n_estimators=100,\n",
      "              presort='auto', random_state=None, subsample=1.0, verbose=0,\n",
      "              warm_start=False)\n",
      "0.9360855699889814\n"
     ]
    }
   ],
   "source": [
    "print(gbm_tuned)\n",
    "print(gbm_tuned_cv.mean())"
   ]
  },
  {
   "cell_type": "markdown",
   "metadata": {},
   "source": [
    "### AdaBoost Classifier"
   ]
  },
  {
   "cell_type": "code",
   "execution_count": 289,
   "metadata": {
    "scrolled": true
   },
   "outputs": [
    {
     "name": "stdout",
     "output_type": "stream",
     "text": [
      "Fitting 5 folds for each of 4 candidates, totalling 20 fits\n",
      "[CV] learning_rate=1 .................................................\n",
      "[CV] ........ learning_rate=1, score=0.7966525654355167, total=  14.3s\n",
      "[CV] learning_rate=1 .................................................\n"
     ]
    },
    {
     "name": "stderr",
     "output_type": "stream",
     "text": [
      "[Parallel(n_jobs=1)]: Done   1 out of   1 | elapsed:   15.9s remaining:    0.0s\n"
     ]
    },
    {
     "name": "stdout",
     "output_type": "stream",
     "text": [
      "[CV] ........ learning_rate=1, score=0.8012404215739826, total=  14.3s\n",
      "[CV] learning_rate=1 .................................................\n"
     ]
    },
    {
     "name": "stderr",
     "output_type": "stream",
     "text": [
      "[Parallel(n_jobs=1)]: Done   2 out of   2 | elapsed:   31.8s remaining:    0.0s\n"
     ]
    },
    {
     "name": "stdout",
     "output_type": "stream",
     "text": [
      "[CV] ........ learning_rate=1, score=0.7932023718189122, total=  14.8s\n",
      "[CV] learning_rate=1 .................................................\n"
     ]
    },
    {
     "name": "stderr",
     "output_type": "stream",
     "text": [
      "[Parallel(n_jobs=1)]: Done   3 out of   3 | elapsed:   48.2s remaining:    0.0s\n"
     ]
    },
    {
     "name": "stdout",
     "output_type": "stream",
     "text": [
      "[CV] ........ learning_rate=1, score=0.7971286316918555, total=  14.6s\n",
      "[CV] learning_rate=1 .................................................\n"
     ]
    },
    {
     "name": "stderr",
     "output_type": "stream",
     "text": [
      "[Parallel(n_jobs=1)]: Done   4 out of   4 | elapsed:  1.1min remaining:    0.0s\n"
     ]
    },
    {
     "name": "stdout",
     "output_type": "stream",
     "text": [
      "[CV] ........ learning_rate=1, score=0.7956778198928279, total=  14.6s\n",
      "[CV] learning_rate=0.3 ...............................................\n",
      "[CV] ...... learning_rate=0.3, score=0.7911977357991847, total=  14.4s\n",
      "[CV] learning_rate=0.3 ...............................................\n",
      "[CV] ...... learning_rate=0.3, score=0.7956970749530525, total=  14.8s\n",
      "[CV] learning_rate=0.3 ...............................................\n",
      "[CV] ...... learning_rate=0.3, score=0.7877335375200897, total=  14.2s\n",
      "[CV] learning_rate=0.3 ...............................................\n",
      "[CV] ...... learning_rate=0.3, score=0.7920599405902713, total=  15.1s\n",
      "[CV] learning_rate=0.3 ...............................................\n",
      "[CV] ...... learning_rate=0.3, score=0.7904829988095379, total=  14.6s\n",
      "[CV] learning_rate=0.1 ...............................................\n",
      "[CV] ...... learning_rate=0.1, score=0.7758514274249952, total=  14.2s\n",
      "[CV] learning_rate=0.1 ...............................................\n",
      "[CV] ...... learning_rate=0.1, score=0.7841426103391301, total=  14.0s\n",
      "[CV] learning_rate=0.1 ...............................................\n",
      "[CV] ...... learning_rate=0.1, score=0.7733367086109662, total=  14.0s\n",
      "[CV] learning_rate=0.1 ...............................................\n",
      "[CV] ...... learning_rate=0.1, score=0.7771021176873782, total=  14.0s\n",
      "[CV] learning_rate=0.1 ...............................................\n",
      "[CV] ...... learning_rate=0.1, score=0.7772590627512244, total=  15.1s\n",
      "[CV] learning_rate=0.01 ..............................................\n",
      "[CV] ..... learning_rate=0.01, score=0.7188606926105644, total=  14.5s\n",
      "[CV] learning_rate=0.01 ..............................................\n",
      "[CV] ..... learning_rate=0.01, score=0.7133985415888702, total=  13.7s\n",
      "[CV] learning_rate=0.01 ..............................................\n",
      "[CV] ..... learning_rate=0.01, score=0.7076501493319779, total=  14.2s\n",
      "[CV] learning_rate=0.01 ..............................................\n",
      "[CV] ..... learning_rate=0.01, score=0.7145115452265243, total=  14.6s\n",
      "[CV] learning_rate=0.01 ..............................................\n",
      "[CV] ..... learning_rate=0.01, score=0.7121633339058502, total=  13.6s\n"
     ]
    },
    {
     "name": "stderr",
     "output_type": "stream",
     "text": [
      "[Parallel(n_jobs=1)]: Done  20 out of  20 | elapsed:  5.3min finished\n"
     ]
    },
    {
     "data": {
      "text/plain": [
       "GridSearchCV(cv=StratifiedKFold(n_splits=5, random_state=42, shuffle=True),\n",
       "       error_score='raise',\n",
       "       estimator=AdaBoostClassifier(algorithm='SAMME.R', base_estimator=None,\n",
       "          learning_rate=1.0, n_estimators=50, random_state=42),\n",
       "       fit_params=None, iid=True, n_jobs=1,\n",
       "       param_grid={'learning_rate': [1, 0.3, 0.1, 0.01]},\n",
       "       pre_dispatch='2*n_jobs', refit=True, return_train_score='warn',\n",
       "       scoring='roc_auc', verbose=5)"
      ]
     },
     "execution_count": 289,
     "metadata": {},
     "output_type": "execute_result"
    }
   ],
   "source": [
    "# adaboost classifier\n",
    "from sklearn.ensemble import AdaBoostClassifier\n",
    "ada = AdaBoostClassifier(random_state = 42)\n",
    "\n",
    "ada_grid = GridSearchCV(ada, param_grid = {\n",
    "    'learning_rate' : [1, 0.3, 0.1, 0.01]\n",
    "},\n",
    "                               cv = skfolds, verbose = 5, n_jobs = 1,\n",
    "                       scoring = 'roc_auc')\n",
    "\n",
    "# fit random search CV\n",
    "ada_grid.fit(X_train_transformed, y_train)"
   ]
  },
  {
   "cell_type": "code",
   "execution_count": 188,
   "metadata": {},
   "outputs": [
    {
     "name": "stdout",
     "output_type": "stream",
     "text": [
      "AdaBoostClassifier(algorithm='SAMME.R', base_estimator=None,\n",
      "          learning_rate=0.3, n_estimators=50, random_state=42)\n",
      "0.9361440731676401\n"
     ]
    }
   ],
   "source": [
    "print(ada_grid.best_estimator_)\n",
    "print(ada_grid.best_score_)"
   ]
  },
  {
   "cell_type": "markdown",
   "metadata": {},
   "source": [
    "### LDA"
   ]
  },
  {
   "cell_type": "code",
   "execution_count": 286,
   "metadata": {
    "scrolled": true
   },
   "outputs": [
    {
     "name": "stdout",
     "output_type": "stream",
     "text": [
      "[CV]  ................................................................\n"
     ]
    },
    {
     "name": "stderr",
     "output_type": "stream",
     "text": [
      "/Users/jk6653284/anaconda/lib/python3.6/site-packages/sklearn/discriminant_analysis.py:388: UserWarning: Variables are collinear.\n",
      "  warnings.warn(\"Variables are collinear.\")\n",
      "[Parallel(n_jobs=1)]: Done   1 out of   1 | elapsed:    1.4s remaining:    0.0s\n"
     ]
    },
    {
     "name": "stdout",
     "output_type": "stream",
     "text": [
      "[CV] ...................... , score=0.07360050281686419, total=   1.2s\n",
      "[CV]  ................................................................\n"
     ]
    },
    {
     "name": "stderr",
     "output_type": "stream",
     "text": [
      "/Users/jk6653284/anaconda/lib/python3.6/site-packages/sklearn/discriminant_analysis.py:388: UserWarning: Variables are collinear.\n",
      "  warnings.warn(\"Variables are collinear.\")\n",
      "[Parallel(n_jobs=1)]: Done   2 out of   2 | elapsed:    2.7s remaining:    0.0s\n"
     ]
    },
    {
     "name": "stdout",
     "output_type": "stream",
     "text": [
      "[CV] ...................... , score=0.07379015440936379, total=   1.2s\n",
      "[CV]  ................................................................\n"
     ]
    },
    {
     "name": "stderr",
     "output_type": "stream",
     "text": [
      "/Users/jk6653284/anaconda/lib/python3.6/site-packages/sklearn/discriminant_analysis.py:388: UserWarning: Variables are collinear.\n",
      "  warnings.warn(\"Variables are collinear.\")\n",
      "[Parallel(n_jobs=1)]: Done   3 out of   3 | elapsed:    3.9s remaining:    0.0s\n"
     ]
    },
    {
     "name": "stdout",
     "output_type": "stream",
     "text": [
      "[CV] ...................... , score=0.06423032172312983, total=   1.2s\n",
      "[CV]  ................................................................\n"
     ]
    },
    {
     "name": "stderr",
     "output_type": "stream",
     "text": [
      "/Users/jk6653284/anaconda/lib/python3.6/site-packages/sklearn/discriminant_analysis.py:388: UserWarning: Variables are collinear.\n",
      "  warnings.warn(\"Variables are collinear.\")\n",
      "[Parallel(n_jobs=1)]: Done   4 out of   4 | elapsed:    5.1s remaining:    0.0s\n"
     ]
    },
    {
     "name": "stdout",
     "output_type": "stream",
     "text": [
      "[CV] ...................... , score=0.06337376995044053, total=   1.2s\n",
      "[CV]  ................................................................\n",
      "[CV] ...................... , score=0.05130924522092613, total=   1.4s\n"
     ]
    },
    {
     "name": "stderr",
     "output_type": "stream",
     "text": [
      "/Users/jk6653284/anaconda/lib/python3.6/site-packages/sklearn/discriminant_analysis.py:388: UserWarning: Variables are collinear.\n",
      "  warnings.warn(\"Variables are collinear.\")\n",
      "[Parallel(n_jobs=1)]: Done   5 out of   5 | elapsed:    6.6s finished\n"
     ]
    }
   ],
   "source": [
    "from sklearn.discriminant_analysis import LinearDiscriminantAnalysis\n",
    "lda = LinearDiscriminantAnalysis()\n",
    "lda_cv = cross_val_score(lda, X_train_transformed, y_train,  cv = skfolds, verbose = 5, scoring = 'roc_auc')\n"
   ]
  },
  {
   "cell_type": "code",
   "execution_count": 287,
   "metadata": {},
   "outputs": [
    {
     "data": {
      "text/plain": [
       "0.06526079882414489"
      ]
     },
     "execution_count": 287,
     "metadata": {},
     "output_type": "execute_result"
    }
   ],
   "source": [
    "lda_cv.mean()"
   ]
  },
  {
   "cell_type": "markdown",
   "metadata": {},
   "source": [
    "### Tuned model accuracy summary"
   ]
  },
  {
   "cell_type": "code",
   "execution_count": 210,
   "metadata": {},
   "outputs": [
    {
     "data": {
      "text/plain": [
       "array([0.53410582, 7.83012674])"
      ]
     },
     "execution_count": 210,
     "metadata": {},
     "output_type": "execute_result"
    }
   ],
   "source": [
    "model.fit(X_train, y_train, class_weight=class_weight)"
   ]
  },
  {
   "cell_type": "code",
   "execution_count": 283,
   "metadata": {
    "scrolled": true
   },
   "outputs": [
    {
     "data": {
      "text/html": [
       "<div>\n",
       "<style scoped>\n",
       "    .dataframe tbody tr th:only-of-type {\n",
       "        vertical-align: middle;\n",
       "    }\n",
       "\n",
       "    .dataframe tbody tr th {\n",
       "        vertical-align: top;\n",
       "    }\n",
       "\n",
       "    .dataframe thead th {\n",
       "        text-align: right;\n",
       "    }\n",
       "</style>\n",
       "<table border=\"1\" class=\"dataframe\">\n",
       "  <thead>\n",
       "    <tr style=\"text-align: right;\">\n",
       "      <th></th>\n",
       "      <th>model</th>\n",
       "      <th>baseline_mean_CV_score</th>\n",
       "      <th>tuned_score</th>\n",
       "    </tr>\n",
       "  </thead>\n",
       "  <tbody>\n",
       "    <tr>\n",
       "      <th>3</th>\n",
       "      <td>light GBM classifier</td>\n",
       "      <td>0.819401</td>\n",
       "      <td>0.936170</td>\n",
       "    </tr>\n",
       "    <tr>\n",
       "      <th>2</th>\n",
       "      <td>xgboost classifier</td>\n",
       "      <td>0.805595</td>\n",
       "      <td>0.936144</td>\n",
       "    </tr>\n",
       "    <tr>\n",
       "      <th>6</th>\n",
       "      <td>AdaBoost classifier</td>\n",
       "      <td>NaN</td>\n",
       "      <td>0.936144</td>\n",
       "    </tr>\n",
       "    <tr>\n",
       "      <th>5</th>\n",
       "      <td>Gradient boosting classifier</td>\n",
       "      <td>NaN</td>\n",
       "      <td>0.936086</td>\n",
       "    </tr>\n",
       "    <tr>\n",
       "      <th>4</th>\n",
       "      <td>MLP Classifier</td>\n",
       "      <td>0.811838</td>\n",
       "      <td>0.936066</td>\n",
       "    </tr>\n",
       "    <tr>\n",
       "      <th>0</th>\n",
       "      <td>logistic regression</td>\n",
       "      <td>0.751201</td>\n",
       "      <td>0.935725</td>\n",
       "    </tr>\n",
       "    <tr>\n",
       "      <th>7</th>\n",
       "      <td>Linear discrimant analysis</td>\n",
       "      <td>NaN</td>\n",
       "      <td>0.933216</td>\n",
       "    </tr>\n",
       "    <tr>\n",
       "      <th>1</th>\n",
       "      <td>random forest classifier</td>\n",
       "      <td>0.700249</td>\n",
       "      <td>NaN</td>\n",
       "    </tr>\n",
       "  </tbody>\n",
       "</table>\n",
       "</div>"
      ],
      "text/plain": [
       "                          model baseline_mean_CV_score  tuned_score\n",
       "3          light GBM classifier               0.819401     0.936170\n",
       "2            xgboost classifier               0.805595     0.936144\n",
       "6           AdaBoost classifier                    NaN     0.936144\n",
       "5  Gradient boosting classifier                    NaN     0.936086\n",
       "4                MLP Classifier               0.811838     0.936066\n",
       "0           logistic regression               0.751201     0.935725\n",
       "7    Linear discrimant analysis                    NaN     0.933216\n",
       "1      random forest classifier               0.700249          NaN"
      ]
     },
     "execution_count": 283,
     "metadata": {},
     "output_type": "execute_result"
    }
   ],
   "source": [
    "rocauc_scores.loc[0, 'tuned_score'] = lr_grid.best_score_\n",
    "rocauc_scores.loc[2, 'tuned_score'] = xgb_random.best_score_\n",
    "rocauc_scores.loc[3, 'tuned_score'] = lgb_random.best_score_\n",
    "rocauc_scores.loc[4, 'tuned_score'] = mlp_grid.best_score_\n",
    "rocauc_scores.loc[5, :] = ['Gradient boosting classifier',np.nan,gbm_tuned_cv.mean()]\n",
    "rocauc_scores.loc[6, :] = ['AdaBoost classifier',np.nan,ada_grid.best_score_]\n",
    "rocauc_scores.loc[7, :] = ['Linear discrimant analysis',np.nan,lda_cv.mean()]\n",
    "rocauc_scores.sort_values('tuned_score', ascending = False)"
   ]
  },
  {
   "cell_type": "code",
   "execution_count": 265,
   "metadata": {},
   "outputs": [
    {
     "data": {
      "text/html": [
       "<div>\n",
       "<style scoped>\n",
       "    .dataframe tbody tr th:only-of-type {\n",
       "        vertical-align: middle;\n",
       "    }\n",
       "\n",
       "    .dataframe tbody tr th {\n",
       "        vertical-align: top;\n",
       "    }\n",
       "\n",
       "    .dataframe thead th {\n",
       "        text-align: right;\n",
       "    }\n",
       "</style>\n",
       "<table border=\"1\" class=\"dataframe\">\n",
       "  <thead>\n",
       "    <tr style=\"text-align: right;\">\n",
       "      <th></th>\n",
       "      <th>model</th>\n",
       "      <th>CV_score</th>\n",
       "    </tr>\n",
       "  </thead>\n",
       "  <tbody>\n",
       "    <tr>\n",
       "      <th>1</th>\n",
       "      <td>light_gbm_classifier</td>\n",
       "      <td>0.936170</td>\n",
       "    </tr>\n",
       "    <tr>\n",
       "      <th>2</th>\n",
       "      <td>mlp_classifier</td>\n",
       "      <td>0.936066</td>\n",
       "    </tr>\n",
       "    <tr>\n",
       "      <th>0</th>\n",
       "      <td>logistic_regression</td>\n",
       "      <td>0.935725</td>\n",
       "    </tr>\n",
       "  </tbody>\n",
       "</table>\n",
       "</div>"
      ],
      "text/plain": [
       "                  model  CV_score\n",
       "1  light_gbm_classifier  0.936170\n",
       "2        mlp_classifier  0.936066\n",
       "0   logistic_regression  0.935725"
      ]
     },
     "execution_count": 265,
     "metadata": {},
     "output_type": "execute_result"
    }
   ],
   "source": [
    "# models to be used for prediction\n",
    "pd.DataFrame({'model': ['logistic_regression', 'light_gbm_classifier', 'mlp_classifier'],\n",
    "             'CV_score': [lr_grid.best_score_, lgb_random.best_score_, mlp_grid.best_score_]})[['model','CV_score']].sort_values('CV_score', ascending = False)"
   ]
  },
  {
   "cell_type": "markdown",
   "metadata": {},
   "source": [
    "## Looking at feature importances"
   ]
  },
  {
   "cell_type": "markdown",
   "metadata": {},
   "source": [
    "Some classifiers, especially tree based models, allow us to see what features are most important in the classification task. Others, like neural network models such as multiperceptron classifiers, do not have the same feature - hence the nickname 'blackbox' algorithms."
   ]
  },
  {
   "cell_type": "code",
   "execution_count": 199,
   "metadata": {
    "scrolled": true
   },
   "outputs": [
    {
     "data": {
      "text/html": [
       "<div>\n",
       "<style scoped>\n",
       "    .dataframe tbody tr th:only-of-type {\n",
       "        vertical-align: middle;\n",
       "    }\n",
       "\n",
       "    .dataframe tbody tr th {\n",
       "        vertical-align: top;\n",
       "    }\n",
       "\n",
       "    .dataframe thead th {\n",
       "        text-align: right;\n",
       "    }\n",
       "</style>\n",
       "<table border=\"1\" class=\"dataframe\">\n",
       "  <thead>\n",
       "    <tr style=\"text-align: right;\">\n",
       "      <th></th>\n",
       "      <th>feature_importance</th>\n",
       "      <th>features</th>\n",
       "    </tr>\n",
       "  </thead>\n",
       "  <tbody>\n",
       "    <tr>\n",
       "      <th>2</th>\n",
       "      <td>0.12</td>\n",
       "      <td>reference_length_2</td>\n",
       "    </tr>\n",
       "    <tr>\n",
       "      <th>0</th>\n",
       "      <td>0.08</td>\n",
       "      <td>is_app</td>\n",
       "    </tr>\n",
       "    <tr>\n",
       "      <th>9</th>\n",
       "      <td>0.08</td>\n",
       "      <td>reference_length_9</td>\n",
       "    </tr>\n",
       "    <tr>\n",
       "      <th>3</th>\n",
       "      <td>0.08</td>\n",
       "      <td>reference_length_3</td>\n",
       "    </tr>\n",
       "    <tr>\n",
       "      <th>33</th>\n",
       "      <td>0.08</td>\n",
       "      <td>dayofweek_6</td>\n",
       "    </tr>\n",
       "    <tr>\n",
       "      <th>7</th>\n",
       "      <td>0.08</td>\n",
       "      <td>reference_length_7</td>\n",
       "    </tr>\n",
       "    <tr>\n",
       "      <th>41</th>\n",
       "      <td>0.08</td>\n",
       "      <td>referer_code_21</td>\n",
       "    </tr>\n",
       "    <tr>\n",
       "      <th>32</th>\n",
       "      <td>0.06</td>\n",
       "      <td>dayofweek_5</td>\n",
       "    </tr>\n",
       "    <tr>\n",
       "      <th>38</th>\n",
       "      <td>0.06</td>\n",
       "      <td>referer_code_15</td>\n",
       "    </tr>\n",
       "    <tr>\n",
       "      <th>42</th>\n",
       "      <td>0.06</td>\n",
       "      <td>referer_code_23</td>\n",
       "    </tr>\n",
       "    <tr>\n",
       "      <th>8</th>\n",
       "      <td>0.06</td>\n",
       "      <td>reference_length_8</td>\n",
       "    </tr>\n",
       "    <tr>\n",
       "      <th>36</th>\n",
       "      <td>0.04</td>\n",
       "      <td>referer_code_10</td>\n",
       "    </tr>\n",
       "    <tr>\n",
       "      <th>22</th>\n",
       "      <td>0.04</td>\n",
       "      <td>agent_id_10</td>\n",
       "    </tr>\n",
       "    <tr>\n",
       "      <th>30</th>\n",
       "      <td>0.02</td>\n",
       "      <td>dayofweek_3</td>\n",
       "    </tr>\n",
       "    <tr>\n",
       "      <th>21</th>\n",
       "      <td>0.02</td>\n",
       "      <td>agent_id_9</td>\n",
       "    </tr>\n",
       "    <tr>\n",
       "      <th>29</th>\n",
       "      <td>0.02</td>\n",
       "      <td>dayofweek_2</td>\n",
       "    </tr>\n",
       "    <tr>\n",
       "      <th>24</th>\n",
       "      <td>0.02</td>\n",
       "      <td>agent_id_12</td>\n",
       "    </tr>\n",
       "    <tr>\n",
       "      <th>50</th>\n",
       "      <td>0.00</td>\n",
       "      <td>traffic_type_7</td>\n",
       "    </tr>\n",
       "    <tr>\n",
       "      <th>49</th>\n",
       "      <td>0.00</td>\n",
       "      <td>traffic_type_6</td>\n",
       "    </tr>\n",
       "    <tr>\n",
       "      <th>34</th>\n",
       "      <td>0.00</td>\n",
       "      <td>referer_code_0</td>\n",
       "    </tr>\n",
       "    <tr>\n",
       "      <th>35</th>\n",
       "      <td>0.00</td>\n",
       "      <td>referer_code_1</td>\n",
       "    </tr>\n",
       "    <tr>\n",
       "      <th>47</th>\n",
       "      <td>0.00</td>\n",
       "      <td>traffic_type_3</td>\n",
       "    </tr>\n",
       "    <tr>\n",
       "      <th>46</th>\n",
       "      <td>0.00</td>\n",
       "      <td>traffic_type_2</td>\n",
       "    </tr>\n",
       "    <tr>\n",
       "      <th>48</th>\n",
       "      <td>0.00</td>\n",
       "      <td>traffic_type_4</td>\n",
       "    </tr>\n",
       "    <tr>\n",
       "      <th>39</th>\n",
       "      <td>0.00</td>\n",
       "      <td>referer_code_17</td>\n",
       "    </tr>\n",
       "    <tr>\n",
       "      <th>40</th>\n",
       "      <td>0.00</td>\n",
       "      <td>referer_code_19</td>\n",
       "    </tr>\n",
       "    <tr>\n",
       "      <th>31</th>\n",
       "      <td>0.00</td>\n",
       "      <td>dayofweek_4</td>\n",
       "    </tr>\n",
       "    <tr>\n",
       "      <th>43</th>\n",
       "      <td>0.00</td>\n",
       "      <td>referer_code_24</td>\n",
       "    </tr>\n",
       "    <tr>\n",
       "      <th>44</th>\n",
       "      <td>0.00</td>\n",
       "      <td>referer_code_99</td>\n",
       "    </tr>\n",
       "    <tr>\n",
       "      <th>45</th>\n",
       "      <td>0.00</td>\n",
       "      <td>traffic_type_1</td>\n",
       "    </tr>\n",
       "    <tr>\n",
       "      <th>37</th>\n",
       "      <td>0.00</td>\n",
       "      <td>referer_code_11</td>\n",
       "    </tr>\n",
       "    <tr>\n",
       "      <th>26</th>\n",
       "      <td>0.00</td>\n",
       "      <td>agent_id_14</td>\n",
       "    </tr>\n",
       "    <tr>\n",
       "      <th>28</th>\n",
       "      <td>0.00</td>\n",
       "      <td>dayofweek_1</td>\n",
       "    </tr>\n",
       "    <tr>\n",
       "      <th>27</th>\n",
       "      <td>0.00</td>\n",
       "      <td>dayofweek_0</td>\n",
       "    </tr>\n",
       "    <tr>\n",
       "      <th>4</th>\n",
       "      <td>0.00</td>\n",
       "      <td>reference_length_4</td>\n",
       "    </tr>\n",
       "    <tr>\n",
       "      <th>5</th>\n",
       "      <td>0.00</td>\n",
       "      <td>reference_length_5</td>\n",
       "    </tr>\n",
       "    <tr>\n",
       "      <th>6</th>\n",
       "      <td>0.00</td>\n",
       "      <td>reference_length_6</td>\n",
       "    </tr>\n",
       "    <tr>\n",
       "      <th>10</th>\n",
       "      <td>0.00</td>\n",
       "      <td>steps_total</td>\n",
       "    </tr>\n",
       "    <tr>\n",
       "      <th>11</th>\n",
       "      <td>0.00</td>\n",
       "      <td>weekend</td>\n",
       "    </tr>\n",
       "    <tr>\n",
       "      <th>12</th>\n",
       "      <td>0.00</td>\n",
       "      <td>agent_id_0</td>\n",
       "    </tr>\n",
       "    <tr>\n",
       "      <th>13</th>\n",
       "      <td>0.00</td>\n",
       "      <td>agent_id_1</td>\n",
       "    </tr>\n",
       "    <tr>\n",
       "      <th>14</th>\n",
       "      <td>0.00</td>\n",
       "      <td>agent_id_2</td>\n",
       "    </tr>\n",
       "    <tr>\n",
       "      <th>15</th>\n",
       "      <td>0.00</td>\n",
       "      <td>agent_id_3</td>\n",
       "    </tr>\n",
       "    <tr>\n",
       "      <th>16</th>\n",
       "      <td>0.00</td>\n",
       "      <td>agent_id_4</td>\n",
       "    </tr>\n",
       "    <tr>\n",
       "      <th>17</th>\n",
       "      <td>0.00</td>\n",
       "      <td>agent_id_5</td>\n",
       "    </tr>\n",
       "    <tr>\n",
       "      <th>18</th>\n",
       "      <td>0.00</td>\n",
       "      <td>agent_id_6</td>\n",
       "    </tr>\n",
       "    <tr>\n",
       "      <th>19</th>\n",
       "      <td>0.00</td>\n",
       "      <td>agent_id_7</td>\n",
       "    </tr>\n",
       "    <tr>\n",
       "      <th>20</th>\n",
       "      <td>0.00</td>\n",
       "      <td>agent_id_8</td>\n",
       "    </tr>\n",
       "    <tr>\n",
       "      <th>23</th>\n",
       "      <td>0.00</td>\n",
       "      <td>agent_id_11</td>\n",
       "    </tr>\n",
       "    <tr>\n",
       "      <th>25</th>\n",
       "      <td>0.00</td>\n",
       "      <td>agent_id_13</td>\n",
       "    </tr>\n",
       "    <tr>\n",
       "      <th>1</th>\n",
       "      <td>0.00</td>\n",
       "      <td>reference_length_1</td>\n",
       "    </tr>\n",
       "    <tr>\n",
       "      <th>51</th>\n",
       "      <td>0.00</td>\n",
       "      <td>traffic_type_10</td>\n",
       "    </tr>\n",
       "  </tbody>\n",
       "</table>\n",
       "</div>"
      ],
      "text/plain": [
       "    feature_importance            features\n",
       "2                 0.12  reference_length_2\n",
       "0                 0.08              is_app\n",
       "9                 0.08  reference_length_9\n",
       "3                 0.08  reference_length_3\n",
       "33                0.08         dayofweek_6\n",
       "7                 0.08  reference_length_7\n",
       "41                0.08     referer_code_21\n",
       "32                0.06         dayofweek_5\n",
       "38                0.06     referer_code_15\n",
       "42                0.06     referer_code_23\n",
       "8                 0.06  reference_length_8\n",
       "36                0.04     referer_code_10\n",
       "22                0.04         agent_id_10\n",
       "30                0.02         dayofweek_3\n",
       "21                0.02          agent_id_9\n",
       "29                0.02         dayofweek_2\n",
       "24                0.02         agent_id_12\n",
       "50                0.00      traffic_type_7\n",
       "49                0.00      traffic_type_6\n",
       "34                0.00      referer_code_0\n",
       "35                0.00      referer_code_1\n",
       "47                0.00      traffic_type_3\n",
       "46                0.00      traffic_type_2\n",
       "48                0.00      traffic_type_4\n",
       "39                0.00     referer_code_17\n",
       "40                0.00     referer_code_19\n",
       "31                0.00         dayofweek_4\n",
       "43                0.00     referer_code_24\n",
       "44                0.00     referer_code_99\n",
       "45                0.00      traffic_type_1\n",
       "37                0.00     referer_code_11\n",
       "26                0.00         agent_id_14\n",
       "28                0.00         dayofweek_1\n",
       "27                0.00         dayofweek_0\n",
       "4                 0.00  reference_length_4\n",
       "5                 0.00  reference_length_5\n",
       "6                 0.00  reference_length_6\n",
       "10                0.00         steps_total\n",
       "11                0.00             weekend\n",
       "12                0.00          agent_id_0\n",
       "13                0.00          agent_id_1\n",
       "14                0.00          agent_id_2\n",
       "15                0.00          agent_id_3\n",
       "16                0.00          agent_id_4\n",
       "17                0.00          agent_id_5\n",
       "18                0.00          agent_id_6\n",
       "19                0.00          agent_id_7\n",
       "20                0.00          agent_id_8\n",
       "23                0.00         agent_id_11\n",
       "25                0.00         agent_id_13\n",
       "1                 0.00  reference_length_1\n",
       "51                0.00     traffic_type_10"
      ]
     },
     "execution_count": 199,
     "metadata": {},
     "output_type": "execute_result"
    }
   ],
   "source": [
    "# adaboost feature importance\n",
    "pd.DataFrame({'features': X_train.columns, 'feature_importance': ada_grid.best_estimator_.feature_importances_}).sort_values('feature_importance', ascending = False)"
   ]
  },
  {
   "cell_type": "code",
   "execution_count": 201,
   "metadata": {
    "scrolled": true
   },
   "outputs": [
    {
     "data": {
      "text/html": [
       "<div>\n",
       "<style scoped>\n",
       "    .dataframe tbody tr th:only-of-type {\n",
       "        vertical-align: middle;\n",
       "    }\n",
       "\n",
       "    .dataframe tbody tr th {\n",
       "        vertical-align: top;\n",
       "    }\n",
       "\n",
       "    .dataframe thead th {\n",
       "        text-align: right;\n",
       "    }\n",
       "</style>\n",
       "<table border=\"1\" class=\"dataframe\">\n",
       "  <thead>\n",
       "    <tr style=\"text-align: right;\">\n",
       "      <th></th>\n",
       "      <th>feature_importance</th>\n",
       "      <th>features</th>\n",
       "    </tr>\n",
       "  </thead>\n",
       "  <tbody>\n",
       "    <tr>\n",
       "      <th>2</th>\n",
       "      <td>0.138320</td>\n",
       "      <td>reference_length_2</td>\n",
       "    </tr>\n",
       "    <tr>\n",
       "      <th>3</th>\n",
       "      <td>0.115385</td>\n",
       "      <td>reference_length_3</td>\n",
       "    </tr>\n",
       "    <tr>\n",
       "      <th>9</th>\n",
       "      <td>0.102329</td>\n",
       "      <td>reference_length_9</td>\n",
       "    </tr>\n",
       "    <tr>\n",
       "      <th>38</th>\n",
       "      <td>0.099506</td>\n",
       "      <td>referer_code_15</td>\n",
       "    </tr>\n",
       "    <tr>\n",
       "      <th>7</th>\n",
       "      <td>0.087509</td>\n",
       "      <td>reference_length_7</td>\n",
       "    </tr>\n",
       "    <tr>\n",
       "      <th>13</th>\n",
       "      <td>0.049753</td>\n",
       "      <td>agent_id_1</td>\n",
       "    </tr>\n",
       "    <tr>\n",
       "      <th>8</th>\n",
       "      <td>0.047636</td>\n",
       "      <td>reference_length_8</td>\n",
       "    </tr>\n",
       "    <tr>\n",
       "      <th>0</th>\n",
       "      <td>0.044107</td>\n",
       "      <td>is_app</td>\n",
       "    </tr>\n",
       "    <tr>\n",
       "      <th>41</th>\n",
       "      <td>0.038814</td>\n",
       "      <td>referer_code_21</td>\n",
       "    </tr>\n",
       "    <tr>\n",
       "      <th>24</th>\n",
       "      <td>0.037050</td>\n",
       "      <td>agent_id_12</td>\n",
       "    </tr>\n",
       "    <tr>\n",
       "      <th>4</th>\n",
       "      <td>0.030346</td>\n",
       "      <td>reference_length_4</td>\n",
       "    </tr>\n",
       "    <tr>\n",
       "      <th>12</th>\n",
       "      <td>0.030346</td>\n",
       "      <td>agent_id_0</td>\n",
       "    </tr>\n",
       "    <tr>\n",
       "      <th>33</th>\n",
       "      <td>0.028934</td>\n",
       "      <td>dayofweek_6</td>\n",
       "    </tr>\n",
       "    <tr>\n",
       "      <th>6</th>\n",
       "      <td>0.027170</td>\n",
       "      <td>reference_length_6</td>\n",
       "    </tr>\n",
       "    <tr>\n",
       "      <th>32</th>\n",
       "      <td>0.026464</td>\n",
       "      <td>dayofweek_5</td>\n",
       "    </tr>\n",
       "    <tr>\n",
       "      <th>30</th>\n",
       "      <td>0.016584</td>\n",
       "      <td>dayofweek_3</td>\n",
       "    </tr>\n",
       "    <tr>\n",
       "      <th>39</th>\n",
       "      <td>0.015879</td>\n",
       "      <td>referer_code_17</td>\n",
       "    </tr>\n",
       "    <tr>\n",
       "      <th>29</th>\n",
       "      <td>0.013056</td>\n",
       "      <td>dayofweek_2</td>\n",
       "    </tr>\n",
       "    <tr>\n",
       "      <th>42</th>\n",
       "      <td>0.012703</td>\n",
       "      <td>referer_code_23</td>\n",
       "    </tr>\n",
       "    <tr>\n",
       "      <th>22</th>\n",
       "      <td>0.011997</td>\n",
       "      <td>agent_id_10</td>\n",
       "    </tr>\n",
       "    <tr>\n",
       "      <th>5</th>\n",
       "      <td>0.004940</td>\n",
       "      <td>reference_length_5</td>\n",
       "    </tr>\n",
       "    <tr>\n",
       "      <th>21</th>\n",
       "      <td>0.003881</td>\n",
       "      <td>agent_id_9</td>\n",
       "    </tr>\n",
       "    <tr>\n",
       "      <th>25</th>\n",
       "      <td>0.003881</td>\n",
       "      <td>agent_id_13</td>\n",
       "    </tr>\n",
       "    <tr>\n",
       "      <th>37</th>\n",
       "      <td>0.003176</td>\n",
       "      <td>referer_code_11</td>\n",
       "    </tr>\n",
       "    <tr>\n",
       "      <th>10</th>\n",
       "      <td>0.003176</td>\n",
       "      <td>steps_total</td>\n",
       "    </tr>\n",
       "    <tr>\n",
       "      <th>36</th>\n",
       "      <td>0.002117</td>\n",
       "      <td>referer_code_10</td>\n",
       "    </tr>\n",
       "    <tr>\n",
       "      <th>40</th>\n",
       "      <td>0.001411</td>\n",
       "      <td>referer_code_19</td>\n",
       "    </tr>\n",
       "    <tr>\n",
       "      <th>51</th>\n",
       "      <td>0.001059</td>\n",
       "      <td>traffic_type_10</td>\n",
       "    </tr>\n",
       "    <tr>\n",
       "      <th>14</th>\n",
       "      <td>0.000706</td>\n",
       "      <td>agent_id_2</td>\n",
       "    </tr>\n",
       "    <tr>\n",
       "      <th>23</th>\n",
       "      <td>0.000706</td>\n",
       "      <td>agent_id_11</td>\n",
       "    </tr>\n",
       "    <tr>\n",
       "      <th>45</th>\n",
       "      <td>0.000706</td>\n",
       "      <td>traffic_type_1</td>\n",
       "    </tr>\n",
       "    <tr>\n",
       "      <th>49</th>\n",
       "      <td>0.000353</td>\n",
       "      <td>traffic_type_6</td>\n",
       "    </tr>\n",
       "    <tr>\n",
       "      <th>28</th>\n",
       "      <td>0.000000</td>\n",
       "      <td>dayofweek_1</td>\n",
       "    </tr>\n",
       "    <tr>\n",
       "      <th>50</th>\n",
       "      <td>0.000000</td>\n",
       "      <td>traffic_type_7</td>\n",
       "    </tr>\n",
       "    <tr>\n",
       "      <th>48</th>\n",
       "      <td>0.000000</td>\n",
       "      <td>traffic_type_4</td>\n",
       "    </tr>\n",
       "    <tr>\n",
       "      <th>47</th>\n",
       "      <td>0.000000</td>\n",
       "      <td>traffic_type_3</td>\n",
       "    </tr>\n",
       "    <tr>\n",
       "      <th>46</th>\n",
       "      <td>0.000000</td>\n",
       "      <td>traffic_type_2</td>\n",
       "    </tr>\n",
       "    <tr>\n",
       "      <th>44</th>\n",
       "      <td>0.000000</td>\n",
       "      <td>referer_code_99</td>\n",
       "    </tr>\n",
       "    <tr>\n",
       "      <th>43</th>\n",
       "      <td>0.000000</td>\n",
       "      <td>referer_code_24</td>\n",
       "    </tr>\n",
       "    <tr>\n",
       "      <th>11</th>\n",
       "      <td>0.000000</td>\n",
       "      <td>weekend</td>\n",
       "    </tr>\n",
       "    <tr>\n",
       "      <th>15</th>\n",
       "      <td>0.000000</td>\n",
       "      <td>agent_id_3</td>\n",
       "    </tr>\n",
       "    <tr>\n",
       "      <th>27</th>\n",
       "      <td>0.000000</td>\n",
       "      <td>dayofweek_0</td>\n",
       "    </tr>\n",
       "    <tr>\n",
       "      <th>16</th>\n",
       "      <td>0.000000</td>\n",
       "      <td>agent_id_4</td>\n",
       "    </tr>\n",
       "    <tr>\n",
       "      <th>17</th>\n",
       "      <td>0.000000</td>\n",
       "      <td>agent_id_5</td>\n",
       "    </tr>\n",
       "    <tr>\n",
       "      <th>18</th>\n",
       "      <td>0.000000</td>\n",
       "      <td>agent_id_6</td>\n",
       "    </tr>\n",
       "    <tr>\n",
       "      <th>19</th>\n",
       "      <td>0.000000</td>\n",
       "      <td>agent_id_7</td>\n",
       "    </tr>\n",
       "    <tr>\n",
       "      <th>35</th>\n",
       "      <td>0.000000</td>\n",
       "      <td>referer_code_1</td>\n",
       "    </tr>\n",
       "    <tr>\n",
       "      <th>34</th>\n",
       "      <td>0.000000</td>\n",
       "      <td>referer_code_0</td>\n",
       "    </tr>\n",
       "    <tr>\n",
       "      <th>20</th>\n",
       "      <td>0.000000</td>\n",
       "      <td>agent_id_8</td>\n",
       "    </tr>\n",
       "    <tr>\n",
       "      <th>31</th>\n",
       "      <td>0.000000</td>\n",
       "      <td>dayofweek_4</td>\n",
       "    </tr>\n",
       "    <tr>\n",
       "      <th>1</th>\n",
       "      <td>0.000000</td>\n",
       "      <td>reference_length_1</td>\n",
       "    </tr>\n",
       "    <tr>\n",
       "      <th>26</th>\n",
       "      <td>0.000000</td>\n",
       "      <td>agent_id_14</td>\n",
       "    </tr>\n",
       "  </tbody>\n",
       "</table>\n",
       "</div>"
      ],
      "text/plain": [
       "    feature_importance            features\n",
       "2             0.138320  reference_length_2\n",
       "3             0.115385  reference_length_3\n",
       "9             0.102329  reference_length_9\n",
       "38            0.099506     referer_code_15\n",
       "7             0.087509  reference_length_7\n",
       "13            0.049753          agent_id_1\n",
       "8             0.047636  reference_length_8\n",
       "0             0.044107              is_app\n",
       "41            0.038814     referer_code_21\n",
       "24            0.037050         agent_id_12\n",
       "4             0.030346  reference_length_4\n",
       "12            0.030346          agent_id_0\n",
       "33            0.028934         dayofweek_6\n",
       "6             0.027170  reference_length_6\n",
       "32            0.026464         dayofweek_5\n",
       "30            0.016584         dayofweek_3\n",
       "39            0.015879     referer_code_17\n",
       "29            0.013056         dayofweek_2\n",
       "42            0.012703     referer_code_23\n",
       "22            0.011997         agent_id_10\n",
       "5             0.004940  reference_length_5\n",
       "21            0.003881          agent_id_9\n",
       "25            0.003881         agent_id_13\n",
       "37            0.003176     referer_code_11\n",
       "10            0.003176         steps_total\n",
       "36            0.002117     referer_code_10\n",
       "40            0.001411     referer_code_19\n",
       "51            0.001059     traffic_type_10\n",
       "14            0.000706          agent_id_2\n",
       "23            0.000706         agent_id_11\n",
       "45            0.000706      traffic_type_1\n",
       "49            0.000353      traffic_type_6\n",
       "28            0.000000         dayofweek_1\n",
       "50            0.000000      traffic_type_7\n",
       "48            0.000000      traffic_type_4\n",
       "47            0.000000      traffic_type_3\n",
       "46            0.000000      traffic_type_2\n",
       "44            0.000000     referer_code_99\n",
       "43            0.000000     referer_code_24\n",
       "11            0.000000             weekend\n",
       "15            0.000000          agent_id_3\n",
       "27            0.000000         dayofweek_0\n",
       "16            0.000000          agent_id_4\n",
       "17            0.000000          agent_id_5\n",
       "18            0.000000          agent_id_6\n",
       "19            0.000000          agent_id_7\n",
       "35            0.000000      referer_code_1\n",
       "34            0.000000      referer_code_0\n",
       "20            0.000000          agent_id_8\n",
       "31            0.000000         dayofweek_4\n",
       "1             0.000000  reference_length_1\n",
       "26            0.000000         agent_id_14"
      ]
     },
     "execution_count": 201,
     "metadata": {},
     "output_type": "execute_result"
    }
   ],
   "source": [
    "# xgboost feature importance\n",
    "pd.DataFrame({'features': X_train.columns, 'feature_importance': xgb_random.best_estimator_.feature_importances_}).sort_values('feature_importance', ascending = False)\n"
   ]
  },
  {
   "cell_type": "code",
   "execution_count": 204,
   "metadata": {
    "scrolled": true
   },
   "outputs": [
    {
     "data": {
      "text/html": [
       "<div>\n",
       "<style scoped>\n",
       "    .dataframe tbody tr th:only-of-type {\n",
       "        vertical-align: middle;\n",
       "    }\n",
       "\n",
       "    .dataframe tbody tr th {\n",
       "        vertical-align: top;\n",
       "    }\n",
       "\n",
       "    .dataframe thead th {\n",
       "        text-align: right;\n",
       "    }\n",
       "</style>\n",
       "<table border=\"1\" class=\"dataframe\">\n",
       "  <thead>\n",
       "    <tr style=\"text-align: right;\">\n",
       "      <th></th>\n",
       "      <th>feature_importance</th>\n",
       "      <th>features</th>\n",
       "    </tr>\n",
       "  </thead>\n",
       "  <tbody>\n",
       "    <tr>\n",
       "      <th>2</th>\n",
       "      <td>496</td>\n",
       "      <td>reference_length_2</td>\n",
       "    </tr>\n",
       "    <tr>\n",
       "      <th>3</th>\n",
       "      <td>456</td>\n",
       "      <td>reference_length_3</td>\n",
       "    </tr>\n",
       "    <tr>\n",
       "      <th>7</th>\n",
       "      <td>444</td>\n",
       "      <td>reference_length_7</td>\n",
       "    </tr>\n",
       "    <tr>\n",
       "      <th>9</th>\n",
       "      <td>341</td>\n",
       "      <td>reference_length_9</td>\n",
       "    </tr>\n",
       "    <tr>\n",
       "      <th>8</th>\n",
       "      <td>286</td>\n",
       "      <td>reference_length_8</td>\n",
       "    </tr>\n",
       "    <tr>\n",
       "      <th>6</th>\n",
       "      <td>177</td>\n",
       "      <td>reference_length_6</td>\n",
       "    </tr>\n",
       "    <tr>\n",
       "      <th>4</th>\n",
       "      <td>174</td>\n",
       "      <td>reference_length_4</td>\n",
       "    </tr>\n",
       "    <tr>\n",
       "      <th>38</th>\n",
       "      <td>147</td>\n",
       "      <td>referer_code_15</td>\n",
       "    </tr>\n",
       "    <tr>\n",
       "      <th>5</th>\n",
       "      <td>143</td>\n",
       "      <td>reference_length_5</td>\n",
       "    </tr>\n",
       "    <tr>\n",
       "      <th>0</th>\n",
       "      <td>93</td>\n",
       "      <td>is_app</td>\n",
       "    </tr>\n",
       "    <tr>\n",
       "      <th>12</th>\n",
       "      <td>86</td>\n",
       "      <td>agent_id_0</td>\n",
       "    </tr>\n",
       "    <tr>\n",
       "      <th>24</th>\n",
       "      <td>80</td>\n",
       "      <td>agent_id_12</td>\n",
       "    </tr>\n",
       "    <tr>\n",
       "      <th>41</th>\n",
       "      <td>77</td>\n",
       "      <td>referer_code_21</td>\n",
       "    </tr>\n",
       "    <tr>\n",
       "      <th>32</th>\n",
       "      <td>66</td>\n",
       "      <td>dayofweek_5</td>\n",
       "    </tr>\n",
       "    <tr>\n",
       "      <th>33</th>\n",
       "      <td>66</td>\n",
       "      <td>dayofweek_6</td>\n",
       "    </tr>\n",
       "    <tr>\n",
       "      <th>42</th>\n",
       "      <td>52</td>\n",
       "      <td>referer_code_23</td>\n",
       "    </tr>\n",
       "    <tr>\n",
       "      <th>36</th>\n",
       "      <td>50</td>\n",
       "      <td>referer_code_10</td>\n",
       "    </tr>\n",
       "    <tr>\n",
       "      <th>13</th>\n",
       "      <td>50</td>\n",
       "      <td>agent_id_1</td>\n",
       "    </tr>\n",
       "    <tr>\n",
       "      <th>31</th>\n",
       "      <td>48</td>\n",
       "      <td>dayofweek_4</td>\n",
       "    </tr>\n",
       "    <tr>\n",
       "      <th>30</th>\n",
       "      <td>43</td>\n",
       "      <td>dayofweek_3</td>\n",
       "    </tr>\n",
       "    <tr>\n",
       "      <th>29</th>\n",
       "      <td>40</td>\n",
       "      <td>dayofweek_2</td>\n",
       "    </tr>\n",
       "    <tr>\n",
       "      <th>21</th>\n",
       "      <td>40</td>\n",
       "      <td>agent_id_9</td>\n",
       "    </tr>\n",
       "    <tr>\n",
       "      <th>22</th>\n",
       "      <td>39</td>\n",
       "      <td>agent_id_10</td>\n",
       "    </tr>\n",
       "    <tr>\n",
       "      <th>39</th>\n",
       "      <td>38</td>\n",
       "      <td>referer_code_17</td>\n",
       "    </tr>\n",
       "    <tr>\n",
       "      <th>46</th>\n",
       "      <td>33</td>\n",
       "      <td>traffic_type_2</td>\n",
       "    </tr>\n",
       "    <tr>\n",
       "      <th>25</th>\n",
       "      <td>31</td>\n",
       "      <td>agent_id_13</td>\n",
       "    </tr>\n",
       "    <tr>\n",
       "      <th>1</th>\n",
       "      <td>30</td>\n",
       "      <td>reference_length_1</td>\n",
       "    </tr>\n",
       "    <tr>\n",
       "      <th>40</th>\n",
       "      <td>29</td>\n",
       "      <td>referer_code_19</td>\n",
       "    </tr>\n",
       "    <tr>\n",
       "      <th>49</th>\n",
       "      <td>27</td>\n",
       "      <td>traffic_type_6</td>\n",
       "    </tr>\n",
       "    <tr>\n",
       "      <th>51</th>\n",
       "      <td>27</td>\n",
       "      <td>traffic_type_10</td>\n",
       "    </tr>\n",
       "    <tr>\n",
       "      <th>10</th>\n",
       "      <td>27</td>\n",
       "      <td>steps_total</td>\n",
       "    </tr>\n",
       "    <tr>\n",
       "      <th>48</th>\n",
       "      <td>24</td>\n",
       "      <td>traffic_type_4</td>\n",
       "    </tr>\n",
       "    <tr>\n",
       "      <th>37</th>\n",
       "      <td>20</td>\n",
       "      <td>referer_code_11</td>\n",
       "    </tr>\n",
       "    <tr>\n",
       "      <th>50</th>\n",
       "      <td>19</td>\n",
       "      <td>traffic_type_7</td>\n",
       "    </tr>\n",
       "    <tr>\n",
       "      <th>45</th>\n",
       "      <td>19</td>\n",
       "      <td>traffic_type_1</td>\n",
       "    </tr>\n",
       "    <tr>\n",
       "      <th>47</th>\n",
       "      <td>18</td>\n",
       "      <td>traffic_type_3</td>\n",
       "    </tr>\n",
       "    <tr>\n",
       "      <th>35</th>\n",
       "      <td>16</td>\n",
       "      <td>referer_code_1</td>\n",
       "    </tr>\n",
       "    <tr>\n",
       "      <th>15</th>\n",
       "      <td>12</td>\n",
       "      <td>agent_id_3</td>\n",
       "    </tr>\n",
       "    <tr>\n",
       "      <th>16</th>\n",
       "      <td>11</td>\n",
       "      <td>agent_id_4</td>\n",
       "    </tr>\n",
       "    <tr>\n",
       "      <th>23</th>\n",
       "      <td>9</td>\n",
       "      <td>agent_id_11</td>\n",
       "    </tr>\n",
       "    <tr>\n",
       "      <th>43</th>\n",
       "      <td>6</td>\n",
       "      <td>referer_code_24</td>\n",
       "    </tr>\n",
       "    <tr>\n",
       "      <th>19</th>\n",
       "      <td>4</td>\n",
       "      <td>agent_id_7</td>\n",
       "    </tr>\n",
       "    <tr>\n",
       "      <th>14</th>\n",
       "      <td>3</td>\n",
       "      <td>agent_id_2</td>\n",
       "    </tr>\n",
       "    <tr>\n",
       "      <th>44</th>\n",
       "      <td>2</td>\n",
       "      <td>referer_code_99</td>\n",
       "    </tr>\n",
       "    <tr>\n",
       "      <th>20</th>\n",
       "      <td>1</td>\n",
       "      <td>agent_id_8</td>\n",
       "    </tr>\n",
       "    <tr>\n",
       "      <th>11</th>\n",
       "      <td>0</td>\n",
       "      <td>weekend</td>\n",
       "    </tr>\n",
       "    <tr>\n",
       "      <th>28</th>\n",
       "      <td>0</td>\n",
       "      <td>dayofweek_1</td>\n",
       "    </tr>\n",
       "    <tr>\n",
       "      <th>27</th>\n",
       "      <td>0</td>\n",
       "      <td>dayofweek_0</td>\n",
       "    </tr>\n",
       "    <tr>\n",
       "      <th>17</th>\n",
       "      <td>0</td>\n",
       "      <td>agent_id_5</td>\n",
       "    </tr>\n",
       "    <tr>\n",
       "      <th>18</th>\n",
       "      <td>0</td>\n",
       "      <td>agent_id_6</td>\n",
       "    </tr>\n",
       "    <tr>\n",
       "      <th>34</th>\n",
       "      <td>0</td>\n",
       "      <td>referer_code_0</td>\n",
       "    </tr>\n",
       "    <tr>\n",
       "      <th>26</th>\n",
       "      <td>0</td>\n",
       "      <td>agent_id_14</td>\n",
       "    </tr>\n",
       "  </tbody>\n",
       "</table>\n",
       "</div>"
      ],
      "text/plain": [
       "    feature_importance            features\n",
       "2                  496  reference_length_2\n",
       "3                  456  reference_length_3\n",
       "7                  444  reference_length_7\n",
       "9                  341  reference_length_9\n",
       "8                  286  reference_length_8\n",
       "6                  177  reference_length_6\n",
       "4                  174  reference_length_4\n",
       "38                 147     referer_code_15\n",
       "5                  143  reference_length_5\n",
       "0                   93              is_app\n",
       "12                  86          agent_id_0\n",
       "24                  80         agent_id_12\n",
       "41                  77     referer_code_21\n",
       "32                  66         dayofweek_5\n",
       "33                  66         dayofweek_6\n",
       "42                  52     referer_code_23\n",
       "36                  50     referer_code_10\n",
       "13                  50          agent_id_1\n",
       "31                  48         dayofweek_4\n",
       "30                  43         dayofweek_3\n",
       "29                  40         dayofweek_2\n",
       "21                  40          agent_id_9\n",
       "22                  39         agent_id_10\n",
       "39                  38     referer_code_17\n",
       "46                  33      traffic_type_2\n",
       "25                  31         agent_id_13\n",
       "1                   30  reference_length_1\n",
       "40                  29     referer_code_19\n",
       "49                  27      traffic_type_6\n",
       "51                  27     traffic_type_10\n",
       "10                  27         steps_total\n",
       "48                  24      traffic_type_4\n",
       "37                  20     referer_code_11\n",
       "50                  19      traffic_type_7\n",
       "45                  19      traffic_type_1\n",
       "47                  18      traffic_type_3\n",
       "35                  16      referer_code_1\n",
       "15                  12          agent_id_3\n",
       "16                  11          agent_id_4\n",
       "23                   9         agent_id_11\n",
       "43                   6     referer_code_24\n",
       "19                   4          agent_id_7\n",
       "14                   3          agent_id_2\n",
       "44                   2     referer_code_99\n",
       "20                   1          agent_id_8\n",
       "11                   0             weekend\n",
       "28                   0         dayofweek_1\n",
       "27                   0         dayofweek_0\n",
       "17                   0          agent_id_5\n",
       "18                   0          agent_id_6\n",
       "34                   0      referer_code_0\n",
       "26                   0         agent_id_14"
      ]
     },
     "execution_count": 204,
     "metadata": {},
     "output_type": "execute_result"
    }
   ],
   "source": [
    "# lgbm feature importance\n",
    "pd.DataFrame({'features': X_train.columns, 'feature_importance': lgb_random.best_estimator_.feature_importances_}).sort_values('feature_importance', ascending = False)"
   ]
  },
  {
   "cell_type": "code",
   "execution_count": 282,
   "metadata": {
    "scrolled": true
   },
   "outputs": [
    {
     "data": {
      "text/html": [
       "<div>\n",
       "<style scoped>\n",
       "    .dataframe tbody tr th:only-of-type {\n",
       "        vertical-align: middle;\n",
       "    }\n",
       "\n",
       "    .dataframe tbody tr th {\n",
       "        vertical-align: top;\n",
       "    }\n",
       "\n",
       "    .dataframe thead th {\n",
       "        text-align: right;\n",
       "    }\n",
       "</style>\n",
       "<table border=\"1\" class=\"dataframe\">\n",
       "  <thead>\n",
       "    <tr style=\"text-align: right;\">\n",
       "      <th></th>\n",
       "      <th>feature_coefficient</th>\n",
       "      <th>features</th>\n",
       "    </tr>\n",
       "  </thead>\n",
       "  <tbody>\n",
       "    <tr>\n",
       "      <th>2</th>\n",
       "      <td>8.254825</td>\n",
       "      <td>reference_length_2</td>\n",
       "    </tr>\n",
       "    <tr>\n",
       "      <th>38</th>\n",
       "      <td>0.820683</td>\n",
       "      <td>referer_code_15</td>\n",
       "    </tr>\n",
       "    <tr>\n",
       "      <th>30</th>\n",
       "      <td>0.763348</td>\n",
       "      <td>dayofweek_3</td>\n",
       "    </tr>\n",
       "    <tr>\n",
       "      <th>37</th>\n",
       "      <td>0.663245</td>\n",
       "      <td>referer_code_11</td>\n",
       "    </tr>\n",
       "    <tr>\n",
       "      <th>25</th>\n",
       "      <td>0.629875</td>\n",
       "      <td>agent_id_13</td>\n",
       "    </tr>\n",
       "    <tr>\n",
       "      <th>29</th>\n",
       "      <td>0.577208</td>\n",
       "      <td>dayofweek_2</td>\n",
       "    </tr>\n",
       "    <tr>\n",
       "      <th>19</th>\n",
       "      <td>0.569105</td>\n",
       "      <td>agent_id_7</td>\n",
       "    </tr>\n",
       "    <tr>\n",
       "      <th>24</th>\n",
       "      <td>0.495836</td>\n",
       "      <td>agent_id_12</td>\n",
       "    </tr>\n",
       "    <tr>\n",
       "      <th>13</th>\n",
       "      <td>0.302865</td>\n",
       "      <td>agent_id_1</td>\n",
       "    </tr>\n",
       "    <tr>\n",
       "      <th>15</th>\n",
       "      <td>0.271638</td>\n",
       "      <td>agent_id_3</td>\n",
       "    </tr>\n",
       "    <tr>\n",
       "      <th>14</th>\n",
       "      <td>0.155970</td>\n",
       "      <td>agent_id_2</td>\n",
       "    </tr>\n",
       "    <tr>\n",
       "      <th>50</th>\n",
       "      <td>0.050519</td>\n",
       "      <td>traffic_type_7</td>\n",
       "    </tr>\n",
       "    <tr>\n",
       "      <th>49</th>\n",
       "      <td>0.049337</td>\n",
       "      <td>traffic_type_6</td>\n",
       "    </tr>\n",
       "    <tr>\n",
       "      <th>48</th>\n",
       "      <td>0.032645</td>\n",
       "      <td>traffic_type_4</td>\n",
       "    </tr>\n",
       "    <tr>\n",
       "      <th>1</th>\n",
       "      <td>0.030936</td>\n",
       "      <td>reference_length_1</td>\n",
       "    </tr>\n",
       "    <tr>\n",
       "      <th>51</th>\n",
       "      <td>0.004423</td>\n",
       "      <td>traffic_type_10</td>\n",
       "    </tr>\n",
       "    <tr>\n",
       "      <th>47</th>\n",
       "      <td>-0.016379</td>\n",
       "      <td>traffic_type_3</td>\n",
       "    </tr>\n",
       "    <tr>\n",
       "      <th>45</th>\n",
       "      <td>-0.033737</td>\n",
       "      <td>traffic_type_1</td>\n",
       "    </tr>\n",
       "    <tr>\n",
       "      <th>39</th>\n",
       "      <td>-0.041084</td>\n",
       "      <td>referer_code_17</td>\n",
       "    </tr>\n",
       "    <tr>\n",
       "      <th>26</th>\n",
       "      <td>-0.042569</td>\n",
       "      <td>agent_id_14</td>\n",
       "    </tr>\n",
       "    <tr>\n",
       "      <th>31</th>\n",
       "      <td>-0.055019</td>\n",
       "      <td>dayofweek_4</td>\n",
       "    </tr>\n",
       "    <tr>\n",
       "      <th>46</th>\n",
       "      <td>-0.060118</td>\n",
       "      <td>traffic_type_2</td>\n",
       "    </tr>\n",
       "    <tr>\n",
       "      <th>16</th>\n",
       "      <td>-0.088808</td>\n",
       "      <td>agent_id_4</td>\n",
       "    </tr>\n",
       "    <tr>\n",
       "      <th>40</th>\n",
       "      <td>-0.113069</td>\n",
       "      <td>referer_code_19</td>\n",
       "    </tr>\n",
       "    <tr>\n",
       "      <th>12</th>\n",
       "      <td>-0.117362</td>\n",
       "      <td>agent_id_0</td>\n",
       "    </tr>\n",
       "    <tr>\n",
       "      <th>11</th>\n",
       "      <td>-0.119042</td>\n",
       "      <td>weekend</td>\n",
       "    </tr>\n",
       "    <tr>\n",
       "      <th>34</th>\n",
       "      <td>-0.195973</td>\n",
       "      <td>referer_code_0</td>\n",
       "    </tr>\n",
       "    <tr>\n",
       "      <th>22</th>\n",
       "      <td>-0.197421</td>\n",
       "      <td>agent_id_10</td>\n",
       "    </tr>\n",
       "    <tr>\n",
       "      <th>23</th>\n",
       "      <td>-0.256493</td>\n",
       "      <td>agent_id_11</td>\n",
       "    </tr>\n",
       "    <tr>\n",
       "      <th>32</th>\n",
       "      <td>-0.385091</td>\n",
       "      <td>dayofweek_5</td>\n",
       "    </tr>\n",
       "    <tr>\n",
       "      <th>36</th>\n",
       "      <td>-0.414328</td>\n",
       "      <td>referer_code_10</td>\n",
       "    </tr>\n",
       "    <tr>\n",
       "      <th>10</th>\n",
       "      <td>-0.421343</td>\n",
       "      <td>steps_total</td>\n",
       "    </tr>\n",
       "    <tr>\n",
       "      <th>33</th>\n",
       "      <td>-0.484322</td>\n",
       "      <td>dayofweek_6</td>\n",
       "    </tr>\n",
       "    <tr>\n",
       "      <th>41</th>\n",
       "      <td>-0.488060</td>\n",
       "      <td>referer_code_21</td>\n",
       "    </tr>\n",
       "    <tr>\n",
       "      <th>5</th>\n",
       "      <td>-0.488460</td>\n",
       "      <td>reference_length_5</td>\n",
       "    </tr>\n",
       "    <tr>\n",
       "      <th>4</th>\n",
       "      <td>-0.493621</td>\n",
       "      <td>reference_length_4</td>\n",
       "    </tr>\n",
       "    <tr>\n",
       "      <th>6</th>\n",
       "      <td>-0.507461</td>\n",
       "      <td>reference_length_6</td>\n",
       "    </tr>\n",
       "    <tr>\n",
       "      <th>44</th>\n",
       "      <td>-0.529666</td>\n",
       "      <td>referer_code_99</td>\n",
       "    </tr>\n",
       "    <tr>\n",
       "      <th>20</th>\n",
       "      <td>-0.538816</td>\n",
       "      <td>agent_id_8</td>\n",
       "    </tr>\n",
       "    <tr>\n",
       "      <th>28</th>\n",
       "      <td>-0.735425</td>\n",
       "      <td>dayofweek_1</td>\n",
       "    </tr>\n",
       "    <tr>\n",
       "      <th>43</th>\n",
       "      <td>-0.750487</td>\n",
       "      <td>referer_code_24</td>\n",
       "    </tr>\n",
       "    <tr>\n",
       "      <th>35</th>\n",
       "      <td>-0.774564</td>\n",
       "      <td>referer_code_1</td>\n",
       "    </tr>\n",
       "    <tr>\n",
       "      <th>42</th>\n",
       "      <td>-0.838854</td>\n",
       "      <td>referer_code_23</td>\n",
       "    </tr>\n",
       "    <tr>\n",
       "      <th>0</th>\n",
       "      <td>-0.955896</td>\n",
       "      <td>is_app</td>\n",
       "    </tr>\n",
       "    <tr>\n",
       "      <th>27</th>\n",
       "      <td>-0.977072</td>\n",
       "      <td>dayofweek_0</td>\n",
       "    </tr>\n",
       "    <tr>\n",
       "      <th>8</th>\n",
       "      <td>-1.021869</td>\n",
       "      <td>reference_length_8</td>\n",
       "    </tr>\n",
       "    <tr>\n",
       "      <th>9</th>\n",
       "      <td>-1.031666</td>\n",
       "      <td>reference_length_9</td>\n",
       "    </tr>\n",
       "    <tr>\n",
       "      <th>21</th>\n",
       "      <td>-1.504845</td>\n",
       "      <td>agent_id_9</td>\n",
       "    </tr>\n",
       "    <tr>\n",
       "      <th>17</th>\n",
       "      <td>-1.543571</td>\n",
       "      <td>agent_id_5</td>\n",
       "    </tr>\n",
       "    <tr>\n",
       "      <th>18</th>\n",
       "      <td>-1.861452</td>\n",
       "      <td>agent_id_6</td>\n",
       "    </tr>\n",
       "    <tr>\n",
       "      <th>3</th>\n",
       "      <td>-2.985215</td>\n",
       "      <td>reference_length_3</td>\n",
       "    </tr>\n",
       "    <tr>\n",
       "      <th>7</th>\n",
       "      <td>-3.018573</td>\n",
       "      <td>reference_length_7</td>\n",
       "    </tr>\n",
       "  </tbody>\n",
       "</table>\n",
       "</div>"
      ],
      "text/plain": [
       "    feature_coefficient            features\n",
       "2              8.254825  reference_length_2\n",
       "38             0.820683     referer_code_15\n",
       "30             0.763348         dayofweek_3\n",
       "37             0.663245     referer_code_11\n",
       "25             0.629875         agent_id_13\n",
       "29             0.577208         dayofweek_2\n",
       "19             0.569105          agent_id_7\n",
       "24             0.495836         agent_id_12\n",
       "13             0.302865          agent_id_1\n",
       "15             0.271638          agent_id_3\n",
       "14             0.155970          agent_id_2\n",
       "50             0.050519      traffic_type_7\n",
       "49             0.049337      traffic_type_6\n",
       "48             0.032645      traffic_type_4\n",
       "1              0.030936  reference_length_1\n",
       "51             0.004423     traffic_type_10\n",
       "47            -0.016379      traffic_type_3\n",
       "45            -0.033737      traffic_type_1\n",
       "39            -0.041084     referer_code_17\n",
       "26            -0.042569         agent_id_14\n",
       "31            -0.055019         dayofweek_4\n",
       "46            -0.060118      traffic_type_2\n",
       "16            -0.088808          agent_id_4\n",
       "40            -0.113069     referer_code_19\n",
       "12            -0.117362          agent_id_0\n",
       "11            -0.119042             weekend\n",
       "34            -0.195973      referer_code_0\n",
       "22            -0.197421         agent_id_10\n",
       "23            -0.256493         agent_id_11\n",
       "32            -0.385091         dayofweek_5\n",
       "36            -0.414328     referer_code_10\n",
       "10            -0.421343         steps_total\n",
       "33            -0.484322         dayofweek_6\n",
       "41            -0.488060     referer_code_21\n",
       "5             -0.488460  reference_length_5\n",
       "4             -0.493621  reference_length_4\n",
       "6             -0.507461  reference_length_6\n",
       "44            -0.529666     referer_code_99\n",
       "20            -0.538816          agent_id_8\n",
       "28            -0.735425         dayofweek_1\n",
       "43            -0.750487     referer_code_24\n",
       "35            -0.774564      referer_code_1\n",
       "42            -0.838854     referer_code_23\n",
       "0             -0.955896              is_app\n",
       "27            -0.977072         dayofweek_0\n",
       "8             -1.021869  reference_length_8\n",
       "9             -1.031666  reference_length_9\n",
       "21            -1.504845          agent_id_9\n",
       "17            -1.543571          agent_id_5\n",
       "18            -1.861452          agent_id_6\n",
       "3             -2.985215  reference_length_3\n",
       "7             -3.018573  reference_length_7"
      ]
     },
     "execution_count": 282,
     "metadata": {},
     "output_type": "execute_result"
    }
   ],
   "source": [
    "pd.DataFrame({'features': X_train.columns, 'feature_coefficient': lda.coef_[0]}).sort_values('feature_coefficient', ascending = False)"
   ]
  },
  {
   "cell_type": "markdown",
   "metadata": {},
   "source": [
    "# Making predictions"
   ]
  },
  {
   "cell_type": "code",
   "execution_count": 213,
   "metadata": {
    "collapsed": true
   },
   "outputs": [],
   "source": [
    "# target variable transformed\n",
    "X_test_transformed = RobustScaler().fit_transform(X_test)"
   ]
  },
  {
   "cell_type": "code",
   "execution_count": 225,
   "metadata": {},
   "outputs": [
    {
     "name": "stderr",
     "output_type": "stream",
     "text": [
      "/Users/jk6653284/anaconda/lib/python3.6/site-packages/sklearn/preprocessing/label.py:151: DeprecationWarning: The truth value of an empty array is ambiguous. Returning False, but in future this will result in an error. Use `array.size > 0` to check that an array is not empty.\n",
      "  if diff:\n"
     ]
    }
   ],
   "source": [
    "# light gbm predictions\n",
    "# best estimator from lgbm cross validation + set class proportion to imbalanced\n",
    "lgb_best = LGBMClassifier(boosting_type='dart', class_weight=None, colsample_bytree=1.0,\n",
    "        learning_rate=0.3, max_depth=-1, min_child_samples=20,\n",
    "        min_child_weight=0.001, min_split_gain=0.0, n_estimators=100,\n",
    "        n_jobs=-1, num_leaves=40, objective=None, random_state=None,\n",
    "        reg_alpha=0.0, reg_lambda=0.0, silent=True, subsample=1.0,\n",
    "        subsample_for_bin=200000, subsample_freq=1, is_unbalance = True)\n",
    "\n",
    "lgb_best.fit(X_train_transformed, y_train)\n",
    "lgb_prediction = lgb_best.predict(X_test_transformed)\n",
    "lgb_prediction_df = pd.DataFrame({'session_id': target_session_id,'has_booking': lgb_prediction})"
   ]
  },
  {
   "cell_type": "code",
   "execution_count": 237,
   "metadata": {},
   "outputs": [],
   "source": [
    "# mlp classifier predictions\n",
    "mlp_best = mlp_grid.best_estimator_\n",
    "mlp_prediction = mlp_best.fit(X_train_transformed, y_train).predict(X_test_transformed)\n",
    "mlp_prediction_df = pd.DataFrame({'session_id': target_session_id,'has_booking': mlp_prediction})"
   ]
  },
  {
   "cell_type": "code",
   "execution_count": 238,
   "metadata": {
    "collapsed": true
   },
   "outputs": [],
   "source": [
    "# logistic regressiion predictions\n",
    "lr_best = lr_grid.best_estimator_\n",
    "lr_prediction = lr_best.fit(X_train_transformed, y_train).predict(X_test_transformed)\n",
    "lr_prediction_df = pd.DataFrame({'session_id': target_session_id,'has_booking': lr_prediction})"
   ]
  },
  {
   "cell_type": "code",
   "execution_count": 254,
   "metadata": {},
   "outputs": [
    {
     "name": "stdout",
     "output_type": "stream",
     "text": [
      "Light GBM\n",
      "0.0    29418\n",
      "1.0      710\n",
      "Name: has_booking, dtype: int64\n",
      "\n",
      "Multiperceptron Classifier\n",
      "0.0    30069\n",
      "1.0       59\n",
      "Name: has_booking, dtype: int64\n",
      "\n",
      "Logistic Regression\n",
      "0.0    29553\n",
      "1.0      575\n",
      "Name: has_booking, dtype: int64\n"
     ]
    }
   ],
   "source": [
    "print(\"Light GBM\")\n",
    "print(lgb_prediction_df.has_booking.value_counts())\n",
    "print(\"\\nMultiperceptron Classifier\")\n",
    "print(mlp_prediction_df.has_booking.value_counts())\n",
    "print(\"\\nLogistic Regression\")\n",
    "print(lr_prediction_df.has_booking.value_counts())"
   ]
  },
  {
   "cell_type": "markdown",
   "metadata": {},
   "source": [
    "### Ensemble of ensemble models:)"
   ]
  },
  {
   "cell_type": "code",
   "execution_count": 249,
   "metadata": {},
   "outputs": [
    {
     "name": "stderr",
     "output_type": "stream",
     "text": [
      "/Users/jk6653284/anaconda/lib/python3.6/site-packages/sklearn/preprocessing/label.py:151: DeprecationWarning: The truth value of an empty array is ambiguous. Returning False, but in future this will result in an error. Use `array.size > 0` to check that an array is not empty.\n",
      "  if diff:\n"
     ]
    }
   ],
   "source": [
    "from sklearn.ensemble import VotingClassifier\n",
    "VC = VotingClassifier(estimators=[('lgb', lgb_best),('lr',lr_best)], voting='soft')\n",
    "ensembled_VC_prediction = VC.fit(X_train_transformed,y_train).predict(X_test_transformed)\n",
    "vc_prediction_df = pd.DataFrame({'session_id': target_session_id,'has_booking': ensembled_VC_prediction})"
   ]
  },
  {
   "cell_type": "code",
   "execution_count": 250,
   "metadata": {},
   "outputs": [
    {
     "name": "stdout",
     "output_type": "stream",
     "text": [
      "Ensemble of models\n",
      "0.0    29771\n",
      "1.0      357\n",
      "Name: has_booking, dtype: int64\n"
     ]
    }
   ],
   "source": [
    "print(\"Ensemble of models\")\n",
    "print(vc_prediction_df.has_booking.value_counts())"
   ]
  },
  {
   "cell_type": "markdown",
   "metadata": {},
   "source": [
    "## Submission"
   ]
  },
  {
   "cell_type": "code",
   "execution_count": 255,
   "metadata": {
    "collapsed": true
   },
   "outputs": [],
   "source": [
    "vc_prediction_df.to_csv(\"prediction_submission.csv\", index = False)"
   ]
  }
 ],
 "metadata": {
  "kernelspec": {
   "display_name": "Python 3",
   "language": "python",
   "name": "python3"
  },
  "language_info": {
   "codemirror_mode": {
    "name": "ipython",
    "version": 3
   },
   "file_extension": ".py",
   "mimetype": "text/x-python",
   "name": "python",
   "nbconvert_exporter": "python",
   "pygments_lexer": "ipython3",
   "version": "3.6.1"
  }
 },
 "nbformat": 4,
 "nbformat_minor": 2
}
